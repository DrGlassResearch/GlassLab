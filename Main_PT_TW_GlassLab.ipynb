{
  "cells": [
    {
      "cell_type": "markdown",
      "metadata": {
        "id": "6T1jz1jPXJHc"
      },
      "source": [
        "Project one is to fit the simplest model EUT to data\n",
        "will use curve_fit from scipy and look into pyomo for abstract functions\n"
      ]
    },
    {
      "cell_type": "markdown",
      "metadata": {
        "id": "zHNdme00Krxd"
      },
      "source": [
        "CURRENT PROGRESS\n",
        "\n",
        "model -creation/predictions are done.\n",
        "\n",
        "Data sorting is done\n",
        "\n",
        "Now we are fitting\n",
        "\n",
        "We have used scipy.optimize to optimize our params\n",
        "we are using get_loss_one as the objective function which finds the mean squared error averaged between the preds and actuals.\n",
        "\n",
        "We have used nelder mead, powell, cobyla. These however have produced bad results for the top 10 participants.\n",
        "\n",
        "We have tried longer optimization algorithms such as binhopping and shgo however they are taking over 20 minutes per participant without sign of slowing down therefore we are not going to use them.\n",
        "\n",
        "Differential evolution seems to be working the best. We have implemetned a constraint over the optimzation to make sure that the values stay within the bounds and constrains outlined in the report Glass gave us.\n",
        "\n",
        "The runtime seems to be around 13-15 minutes per participant.\n",
        "we can try and optimize the algorithm by closing all tabs, and modifying the parameters however trying a gridsearch or parameters search for this tuning may take too long however if optimal parameters can be broadcast to all participants it might be worth it.\n",
        "\n",
        "We are yet to try dual annealing or the DIRECT method from scipy.optimize and we haven't attempted the recursive linear fit outlined in yudelson's code.\n",
        "Yudelson's greedy fit I think will take too long, however we haven't tried running it for over 10 minutes yet.\n",
        "\n",
        "Here are the DE results for partiicpant 1 (p=0).\n",
        "\n",
        "array**([a: 0.25019451, b: 0.26774997,l: 1.19726157, g: 0.99461636]**)\n",
        "although this is vastly different than the actual params the yielded predictions are the same.\n",
        "\n",
        "predictions for participant 7\n",
        "array([0.89365145, 0.92065334, 1.38266249, 0.84074097])\n",
        "\n",
        "8/18/23\n",
        "We fit the first 4 participants using the differential evolution\n",
        "\n",
        "it took an estimated time of 48 minutes 12 per participant.\n",
        "While participants 1,3 and 4 resulted in d2a's of less than 11 percent\n",
        "participant 2 had a fit that was completely off and missed the prediction on day 4.\n",
        "\n",
        "To work on next we try and change the preciscion or how much the model is jumping by to make the search space smalleer. For example, we can make it only search by the hundreths.\n",
        "\n",
        "Another thing we can do is we can run the fitting with low iterations and then go back and re fit the participants that had bad results until the algo converges.\n",
        "\n",
        "One pattern that might be present, is that when alhpa and beta are low, the model might not work.\n",
        "\n",
        "To improve preciscion, we can increase the iteration size as well as decrease the custom tolerance for the d2a error, making it so that it will only stop once it's really small.\n",
        "\n",
        "Instructions for running:\n",
        "\n",
        "run all the neccescary functions and all (few important ones you might miss are the d2a_error, creating soldOnly).\n",
        "Make sure you scroll down to where I say first4=[ array, array ,array, array ...]\n",
        "and run that since the fitting loop here needs it\n",
        "make sure to initialize the fiveto8 list as empty\n",
        "make sure to put the callbacks into the call_backs list\n",
        "then just run the loop, it should take quite some time as I tripled the maxiter\n"
      ]
    },
    {
      "cell_type": "markdown",
      "metadata": {
        "id": "BpPeOkvEPb1e"
      },
      "source": [
        "WANDB KEY : 61cca3bef0200dc37d895eb5a336add7f668eb69\n"
      ]
    },
    {
      "cell_type": "code",
      "execution_count": 62,
      "metadata": {
        "id": "yJl3_dKZXHKD"
      },
      "outputs": [],
      "source": [
        "import numpy as np\n",
        "import pandas as pd\n",
        "from scipy.optimize import curve_fit\n",
        "#from penis import big"
      ]
    },
    {
      "cell_type": "code",
      "execution_count": 63,
      "metadata": {
        "id": "TF-JOasUUeRp"
      },
      "outputs": [],
      "source": [
        "NEIGHBORS_PATH='/content/drive/MyDrive/Glass Lab Data/PT_TW fits/Polished_Diffy/'"
      ]
    },
    {
      "cell_type": "code",
      "execution_count": 64,
      "metadata": {
        "id": "t4OGBj0sDnMi"
      },
      "outputs": [],
      "source": [
        "POLISHED_DIRECT_PATH = '/content/drive/MyDrive/Glass Lab Data/PT_TW fits/Polished_Direct/'"
      ]
    },
    {
      "cell_type": "code",
      "execution_count": 65,
      "metadata": {
        "id": "2sMKUI-Nih61"
      },
      "outputs": [],
      "source": [
        "DIRECT_SAVE_PATH='/content/drive/MyDrive/Glass Lab Data/PT_TW fits/DIRECT fits/'  # THIS IS SPECIFIC TO MY DRIVE, YOU WILL HAVE TO CREATE YOUR OWN FOLDER AND THUS CHANGE THE PATH NAME"
      ]
    },
    {
      "cell_type": "code",
      "execution_count": 66,
      "metadata": {
        "id": "6hofMEMOi32k"
      },
      "outputs": [],
      "source": [
        "DIFEV_SAVE_PATH='/content/drive/MyDrive/Glass Lab Data/PT_TW fits/Diffy evolution fits/'"
      ]
    },
    {
      "cell_type": "code",
      "execution_count": 67,
      "metadata": {
        "id": "9CQYWWSxvYTh"
      },
      "outputs": [],
      "source": [
        "BASIN_HOPPING_SAVE_PATH='/content/drive/MyDrive/Glass Lab Data/PT fits/BASIN_HOPPING_FITS/'"
      ]
    },
    {
      "cell_type": "code",
      "execution_count": 68,
      "metadata": {
        "id": "nGX3GmYjvUiZ"
      },
      "outputs": [],
      "source": [
        "SHGO_SAVE_PATH='/content/drive/MyDrive/Glass Lab Data/PT fits/SHGO_FITS/'"
      ]
    },
    {
      "cell_type": "code",
      "execution_count": 69,
      "metadata": {
        "id": "HHThlIdv5692"
      },
      "outputs": [],
      "source": [
        "EXHUASTIVE_SAVE_PATH='/content/drive/MyDrive/Glass Lab Data/PT_TW fits/Exhuastive fits/'"
      ]
    },
    {
      "cell_type": "code",
      "execution_count": 70,
      "metadata": {
        "id": "An9mOFAvW4je"
      },
      "outputs": [],
      "source": [
        "BOBBY_PATH='/content/drive/MyDrive/Glass Lab Data/PT_TW fits/BOBBY FITS/'"
      ]
    },
    {
      "cell_type": "code",
      "execution_count": 71,
      "metadata": {
        "id": "ktrrG6xjCQ1d"
      },
      "outputs": [],
      "source": [
        "POLISH0_PATH='/'"
      ]
    },
    {
      "cell_type": "code",
      "execution_count": 72,
      "metadata": {
        "id": "UEb9CiPLwNgH"
      },
      "outputs": [],
      "source": [
        "import pickle\n",
        "from datetime import date\n",
        "def save_fit(fit, participant,algo):\n",
        "  tdy=date.today()\n",
        "  sp=\"\"\n",
        "  if algo==\"direct\":\n",
        "    sp=DIRECT_SAVE_PATH\n",
        "  elif algo==\"diffev\":\n",
        "    sp=DIFEV_SAVE_PATH\n",
        "  elif algo==\"basin_hopping\":\n",
        "    sp=BASIN_HOPPING_SAVE_PATH\n",
        "  elif algo==\"shgo\":\n",
        "    sp=SHGO_SAVE_PATH\n",
        "  elif algo==\"brute\":\n",
        "    sp=EXHUASTIVE_SAVE_PATH\n",
        "  elif algo=='bobby':\n",
        "    sp=BOBBY_PATH\n",
        "  elif algo=='neighbors':\n",
        "    sp=NEIGHBORS_PATH\n",
        "  elif algo=='polished_direct':\n",
        "    sp=POLISHED_DIRECT_PATH\n",
        "\n",
        "\n",
        "\n",
        "  fname=sp+\"participant \" + str(participant)+\" \"+tdy.strftime(\"%B %d, %Y\")+\".pickle\"\n",
        "  pickle_out=open(fname,\"wb\")\n",
        "  pickle.dump(fit,pickle_out)\n",
        "  pickle_out.close()\n",
        "\n"
      ]
    },
    {
      "cell_type": "code",
      "execution_count": 73,
      "metadata": {
        "id": "tJR6fhglgCw9"
      },
      "outputs": [],
      "source": [
        "def load_fit(path):\n",
        "  pickle_in=open(path,\"rb\") # put the path here\n",
        "  fit=pickle.load(pickle_in)\n",
        "  return fit\n"
      ]
    },
    {
      "cell_type": "code",
      "execution_count": 74,
      "metadata": {
        "id": "HWZNaTy3GbiK"
      },
      "outputs": [],
      "source": [
        "p = {\n",
        "    1: 0.03,\n",
        "    2: 0.06,\n",
        "    3: 0.09,\n",
        "    4: 0.12,\n",
        "    5 : 0.14,\n",
        "    6: 0.11,\n",
        "    7: 0.09,\n",
        "    8: 0.08,\n",
        "    9: 0.07,\n",
        "    10: 0.06,\n",
        "    11: 0.05,\n",
        "    12: 0.04,\n",
        "    13: 0.03,\n",
        "    14: 0.02,\n",
        "    15: 0.01\n",
        "}\n",
        "I=15"
      ]
    },
    {
      "cell_type": "code",
      "execution_count": 75,
      "metadata": {
        "id": "PCW82NPGCfrO"
      },
      "outputs": [],
      "source": [
        "\n",
        "\n",
        "\n",
        "\n",
        "def EUTv1(day, i_d, n, stored ):\n",
        "    s=0\n",
        "    for j in p.keys:\n",
        "      s+=(j*(p[j]*10))\n",
        "\n",
        "    util = n*i_d + (stored-n)*s\n",
        "    return util\n",
        "\n",
        "\n"
      ]
    },
    {
      "cell_type": "code",
      "execution_count": 76,
      "metadata": {
        "id": "GPfNLIhqw0Rr"
      },
      "outputs": [],
      "source": [
        "\n",
        "\n",
        "def cutoff_EUT(x):\n",
        "    if x >= 32:\n",
        "        return 14\n",
        "    elif x in range(17, 32):\n",
        "        return 13\n",
        "    elif x in range(10, 17):\n",
        "        return 12\n",
        "    elif x in range(7, 10):\n",
        "        return 11\n",
        "    elif x in range(5, 7):\n",
        "        return 10\n",
        "    elif x == 4:\n",
        "        return 9\n",
        "    elif x == 3:\n",
        "        return 8\n",
        "    elif x == 2:\n",
        "        return 7\n",
        "    elif x == 1:\n",
        "        return 1\n",
        "\n",
        "\n"
      ]
    },
    {
      "cell_type": "code",
      "execution_count": 77,
      "metadata": {
        "id": "q8TOqoe4884P"
      },
      "outputs": [],
      "source": [
        "\n",
        "def h_prob(day_f, actual_day): # This returns the probability of a sale on the day (d=h) where day is the index variable used in the util represented by f and actual day is the actual day used in the util represented by \"day\"\n",
        "\n",
        "  h_rem= 1\n",
        "  for h in range(actual_day-1, day_f+1, -1):\n",
        "    h_rem*=sum(p[k] for k in range(1,cutoff_EUT(h)-1))\n",
        "\n",
        "  h_price=sum(p[j]*j for j in range(cutoff_EUT(day_f),I))\n",
        "  return (h_price*h_rem)"
      ]
    },
    {
      "cell_type": "code",
      "execution_count": 78,
      "metadata": {
        "id": "twkxLUc02Kd5"
      },
      "outputs": [],
      "source": [
        "def EUTv2(day, i_d, stored, n):\n",
        "\n",
        "\n",
        "\n",
        "  prob_j = sum(h_prob(f,day) for f in range(day-2, 1,-1)) # edit: report just has a big formattinng issue, all is good\n",
        "  s=0\n",
        "  for j in range(cutoff_t(day-1), I):\n",
        "      s+=j*(p[j])\n",
        "\n",
        "\n",
        "  util= n*i_d + (stored-n)*(s+ prob_j )\n",
        "\n",
        "  return util\n",
        "\n",
        "\n"
      ]
    },
    {
      "cell_type": "markdown",
      "metadata": {
        "id": "thGX-KBp-Jeu"
      },
      "source": [
        "The independent variables in this experiment are i_d, p and n\n"
      ]
    },
    {
      "cell_type": "code",
      "execution_count": 79,
      "metadata": {
        "id": "XUFeNfv8mSeT"
      },
      "outputs": [],
      "source": [
        "all_data= pd.read_csv('data/All Data EUT 230519.csv')"
      ]
    },
    {
      "cell_type": "code",
      "execution_count": 80,
      "metadata": {
        "id": "zCJsxESRjMny"
      },
      "outputs": [],
      "source": [
        "\n",
        "SellData= all_data.copy()"
      ]
    },
    {
      "cell_type": "code",
      "execution_count": 81,
      "metadata": {
        "colab": {
          "base_uri": "https://localhost:8080/"
        },
        "id": "Hrc2Mnj9qUcv",
        "outputId": "3edc1c2b-3bb6-49b0-bc78-fca41e0917fb"
      },
      "outputs": [
        {
          "data": {
            "text/plain": [
              "['Subject',\n",
              " 'Day',\n",
              " 'Stored68',\n",
              " 'Price68',\n",
              " 'Sold68',\n",
              " 'Predicted68',\n",
              " 'Stored67',\n",
              " 'Price67',\n",
              " 'Sold67',\n",
              " 'Predicted67',\n",
              " 'Stored66',\n",
              " 'Price66',\n",
              " 'Sold66',\n",
              " 'Predicted66',\n",
              " 'Stored65',\n",
              " 'Price65',\n",
              " 'Sold65',\n",
              " 'Predicted65',\n",
              " 'Stored64',\n",
              " 'Price64',\n",
              " 'Sold64',\n",
              " 'Predicted64',\n",
              " 'Stored63',\n",
              " 'Price63',\n",
              " 'Sold63',\n",
              " 'Predicted63',\n",
              " 'Stored62',\n",
              " 'Price62',\n",
              " 'Sold62',\n",
              " 'Predicted62',\n",
              " 'Stored61',\n",
              " 'Price61',\n",
              " 'Sold61',\n",
              " 'Predicted61',\n",
              " 'Stored60',\n",
              " 'Price60',\n",
              " 'Sold60',\n",
              " 'Predicted60',\n",
              " 'Stored59',\n",
              " 'Price59',\n",
              " 'Sold59',\n",
              " 'Predicted59',\n",
              " 'Stored58',\n",
              " 'Price58',\n",
              " 'Sold58',\n",
              " 'Predicted58',\n",
              " 'Stored57',\n",
              " 'Price57',\n",
              " 'Sold57',\n",
              " 'Predicted57',\n",
              " 'Stored56',\n",
              " 'Price56',\n",
              " 'Sold56',\n",
              " 'Predicted56',\n",
              " 'Stored55',\n",
              " 'Price55',\n",
              " 'Sold55',\n",
              " 'Predicted55',\n",
              " 'Stored54',\n",
              " 'Price54',\n",
              " 'Sold54',\n",
              " 'Predicted54',\n",
              " 'Stored53',\n",
              " 'Price53',\n",
              " 'Sold53',\n",
              " 'Predicted53',\n",
              " 'Stored52',\n",
              " 'Price52',\n",
              " 'Sold52',\n",
              " 'Predicted52',\n",
              " 'Stored51',\n",
              " 'Price51',\n",
              " 'Sold51',\n",
              " 'Predicted51',\n",
              " 'Stored50',\n",
              " 'Price50',\n",
              " 'Sold50',\n",
              " 'Predicted50',\n",
              " 'Stored49',\n",
              " 'Price49',\n",
              " 'Sold49',\n",
              " 'Predicted49',\n",
              " 'Stored48',\n",
              " 'Price48',\n",
              " 'Sold48',\n",
              " 'Predicted48',\n",
              " 'Stored47',\n",
              " 'Price47',\n",
              " 'Sold47',\n",
              " 'Predicted47',\n",
              " 'Stored46',\n",
              " 'Price46',\n",
              " 'Sold46',\n",
              " 'Predicted46',\n",
              " 'Stored45',\n",
              " 'Price45',\n",
              " 'Sold45',\n",
              " 'Predicted45',\n",
              " 'Stored44',\n",
              " 'Price44',\n",
              " 'Sold44',\n",
              " 'Predicted44',\n",
              " 'Stored43',\n",
              " 'Price43',\n",
              " 'Sold43',\n",
              " 'Predicted43',\n",
              " 'Stored42',\n",
              " 'Price42',\n",
              " 'Sold42',\n",
              " 'Predicted42',\n",
              " 'Stored41',\n",
              " 'Price41',\n",
              " 'Sold41',\n",
              " 'Predicted41',\n",
              " 'Stored40',\n",
              " 'Price40',\n",
              " 'Sold40',\n",
              " 'Predicted40',\n",
              " 'Stored39',\n",
              " 'Price39',\n",
              " 'Sold39',\n",
              " 'Predicted39',\n",
              " 'Stored38',\n",
              " 'Price38',\n",
              " 'Sold38',\n",
              " 'Predicted38',\n",
              " 'Stored37',\n",
              " 'Price37',\n",
              " 'Sold37',\n",
              " 'Predicted37',\n",
              " 'Stored36',\n",
              " 'Price36',\n",
              " 'Sold36',\n",
              " 'Predicted36',\n",
              " 'Stored35',\n",
              " 'Price35',\n",
              " 'Sold35',\n",
              " 'Predicted35',\n",
              " 'Stored34',\n",
              " 'Price34',\n",
              " 'Sold34',\n",
              " 'Predicted34',\n",
              " 'Stored33',\n",
              " 'Price33',\n",
              " 'Sold33',\n",
              " 'Predicted33',\n",
              " 'Stored32',\n",
              " 'Price32',\n",
              " 'Sold32',\n",
              " 'Predicted32',\n",
              " 'Stored31',\n",
              " 'Price31',\n",
              " 'Sold31',\n",
              " 'Predicted31',\n",
              " 'Stored30',\n",
              " 'Price30',\n",
              " 'Sold30',\n",
              " 'Predicted30',\n",
              " 'Stored29',\n",
              " 'Price29',\n",
              " 'Sold29',\n",
              " 'Predicted29',\n",
              " 'Stored28',\n",
              " 'Price28',\n",
              " 'Sold28',\n",
              " 'Predicted28',\n",
              " 'Stored27',\n",
              " 'Price27',\n",
              " 'Sold27',\n",
              " 'Predicted27',\n",
              " 'Stored26',\n",
              " 'Price26',\n",
              " 'Sold26',\n",
              " 'Predicted26',\n",
              " 'Stored25',\n",
              " 'Price25',\n",
              " 'Sold25',\n",
              " 'Predicted25',\n",
              " 'Stored24',\n",
              " 'Price24',\n",
              " 'Sold24',\n",
              " 'Predicted24',\n",
              " 'Stored23',\n",
              " 'Price23',\n",
              " 'Sold23',\n",
              " 'Predicted23',\n",
              " 'Stored22',\n",
              " 'Price22',\n",
              " 'Sold22',\n",
              " 'Predicted22',\n",
              " 'Stored21',\n",
              " 'Price21',\n",
              " 'Sold21',\n",
              " 'Predicted21',\n",
              " 'Stored20',\n",
              " 'Price20',\n",
              " 'Sold20',\n",
              " 'Predicted20',\n",
              " 'Stored19',\n",
              " 'Price19',\n",
              " 'Sold19',\n",
              " 'Predicted19',\n",
              " 'Stored18',\n",
              " 'Price18',\n",
              " 'Sold18',\n",
              " 'Predicted18',\n",
              " 'Stored17',\n",
              " 'Price17',\n",
              " 'Sold17',\n",
              " 'Predicted17',\n",
              " 'Stored16',\n",
              " 'Price16',\n",
              " 'Sold16',\n",
              " 'Predicted16',\n",
              " 'Stored15',\n",
              " 'Price15',\n",
              " 'Sold15',\n",
              " 'Predicted15',\n",
              " 'Stored14',\n",
              " 'Price14',\n",
              " 'Sold14',\n",
              " 'Predicted14',\n",
              " 'Stored13',\n",
              " 'Price13',\n",
              " 'Sold13',\n",
              " 'Predicted13',\n",
              " 'Stored12',\n",
              " 'Price12',\n",
              " 'Sold12',\n",
              " 'Predicted12',\n",
              " 'Stored11',\n",
              " 'Price11',\n",
              " 'Sold11',\n",
              " 'Predicted11',\n",
              " 'Stored10',\n",
              " 'Price10',\n",
              " 'Sold10',\n",
              " 'Predicted10',\n",
              " 'Stored9',\n",
              " 'Price9',\n",
              " 'Sold9',\n",
              " 'Predicted9',\n",
              " 'Stored8',\n",
              " 'Price8',\n",
              " 'Sold8',\n",
              " 'Predicted8',\n",
              " 'Stored7',\n",
              " 'Price7',\n",
              " 'Sold7',\n",
              " 'Predicted7',\n",
              " 'Stored6',\n",
              " 'Price6',\n",
              " 'Sold6',\n",
              " 'Predicted6',\n",
              " 'Stored5',\n",
              " 'Price5',\n",
              " 'Sold5',\n",
              " 'Predicted5',\n",
              " 'Stored4',\n",
              " 'Price4',\n",
              " 'Sold4',\n",
              " 'Predicted4',\n",
              " 'Stored3',\n",
              " 'Price3',\n",
              " 'Sold3',\n",
              " 'Predicted3',\n",
              " 'Stored2',\n",
              " 'Price2',\n",
              " 'Sold2',\n",
              " 'Predicted2',\n",
              " 'Stored1',\n",
              " 'Price1',\n",
              " 'Sold1',\n",
              " 'Predicted1',\n",
              " 'OEHold',\n",
              " 'OHold',\n",
              " 'OESold',\n",
              " 'OSold',\n",
              " 'MSold',\n",
              " 'Diff',\n",
              " 'Tot',\n",
              " 'Tot0',\n",
              " 'MDev',\n",
              " 'MDev0']"
            ]
          },
          "execution_count": 81,
          "metadata": {},
          "output_type": "execute_result"
        }
      ],
      "source": [
        "columns=list(SellData.columns)\n",
        "columns"
      ]
    },
    {
      "cell_type": "code",
      "execution_count": 82,
      "metadata": {
        "colab": {
          "base_uri": "https://localhost:8080/"
        },
        "id": "ALLDOewjuAqS",
        "outputId": "85109dd3-90b3-44f9-f802-2d816a1baaff"
      },
      "outputs": [
        {
          "name": "stdout",
          "output_type": "stream",
          "text": [
            "['Subject', 'Day', 'Stored68', 'Price68', 'Sold68', 'Stored67', 'Price67', 'Sold67', 'Stored66', 'Price66', 'Sold66', 'Stored65', 'Price65', 'Sold65', 'Stored64', 'Price64', 'Sold64', 'Stored63', 'Price63', 'Sold63', 'Stored62', 'Price62', 'Sold62', 'Stored61', 'Price61', 'Sold61', 'Stored60', 'Price60', 'Sold60', 'Stored59', 'Price59', 'Sold59', 'Stored58', 'Price58', 'Sold58', 'Stored57', 'Price57', 'Sold57', 'Stored56', 'Price56', 'Sold56', 'Stored55', 'Price55', 'Sold55', 'Stored54', 'Price54', 'Sold54', 'Stored53', 'Price53', 'Sold53', 'Stored52', 'Price52', 'Sold52', 'Stored51', 'Price51', 'Sold51', 'Stored50', 'Price50', 'Sold50', 'Stored49', 'Price49', 'Sold49', 'Stored48', 'Price48', 'Sold48', 'Stored47', 'Price47', 'Sold47', 'Stored46', 'Price46', 'Sold46', 'Stored45', 'Price45', 'Sold45', 'Stored44', 'Price44', 'Sold44', 'Stored43', 'Price43', 'Sold43', 'Stored42', 'Price42', 'Sold42', 'Stored41', 'Price41', 'Sold41', 'Stored40', 'Price40', 'Sold40', 'Stored39', 'Price39', 'Sold39', 'Stored38', 'Price38', 'Sold38', 'Stored37', 'Price37', 'Sold37', 'Stored36', 'Price36', 'Sold36', 'Stored35', 'Price35', 'Sold35', 'Stored34', 'Price34', 'Sold34', 'Stored33', 'Price33', 'Sold33', 'Stored32', 'Price32', 'Sold32', 'Stored31', 'Price31', 'Sold31', 'Stored30', 'Price30', 'Sold30', 'Stored29', 'Price29', 'Sold29', 'Stored28', 'Price28', 'Sold28', 'Stored27', 'Price27', 'Sold27', 'Stored26', 'Price26', 'Sold26', 'Stored25', 'Price25', 'Sold25', 'Stored24', 'Price24', 'Sold24', 'Stored23', 'Price23', 'Sold23', 'Stored22', 'Price22', 'Sold22', 'Stored21', 'Price21', 'Sold21', 'Stored20', 'Price20', 'Sold20', 'Stored19', 'Price19', 'Sold19', 'Stored18', 'Price18', 'Sold18', 'Stored17', 'Price17', 'Sold17', 'Stored16', 'Price16', 'Sold16', 'Stored15', 'Price15', 'Sold15', 'Stored14', 'Price14', 'Sold14', 'Stored13', 'Price13', 'Sold13', 'Stored12', 'Price12', 'Sold12', 'Stored11', 'Price11', 'Sold11', 'Stored10', 'Price10', 'Sold10', 'Stored9', 'Price9', 'Sold9', 'Stored8', 'Price8', 'Sold8', 'Stored7', 'Price7', 'Sold7', 'Stored6', 'Price6', 'Sold6', 'Stored5', 'Price5', 'Sold5', 'Stored4', 'Price4', 'Sold4', 'Stored3', 'Price3', 'Sold3', 'Stored2', 'Price2', 'Sold2', 'Stored1', 'Price1', 'Sold1', 'OEHold', 'OHold', 'OESold', 'OSold', 'MSold', 'Diff', 'Tot', 'Tot0', 'MDev', 'MDev0']\n"
          ]
        }
      ],
      "source": [
        "for string in columns:\n",
        "  if \"Predicted\"  in string:\n",
        "      columns.remove(string)\n",
        "print(columns)"
      ]
    },
    {
      "cell_type": "code",
      "execution_count": 83,
      "metadata": {
        "id": "1yoiIbDQW3C3"
      },
      "outputs": [],
      "source": [
        "error_cols=columns[-10:]"
      ]
    },
    {
      "cell_type": "code",
      "execution_count": 84,
      "metadata": {
        "id": "JFxJ6EZMusAG"
      },
      "outputs": [],
      "source": [
        "columns.remove( 'OEHold')\n",
        "columns.remove( 'OHold')\n",
        "\n",
        "columns.remove('OESold')\n",
        "columns.remove('OSold')\n",
        "columns.remove( 'MSold')\n",
        "\n",
        "columns.remove( 'Diff')\n",
        "columns.remove( 'Tot')\n",
        "columns.remove( 'MDev')\n",
        "columns.remove( 'MDev0')\n",
        "columns.remove('Tot0')\n",
        "\n"
      ]
    },
    {
      "cell_type": "code",
      "execution_count": 85,
      "metadata": {
        "id": "Yklyhm-AEkIT"
      },
      "outputs": [],
      "source": [
        "SellData=all_data[columns]\n",
        "SellData\n",
        "error_data=all_data[error_cols]"
      ]
    },
    {
      "cell_type": "code",
      "execution_count": 86,
      "metadata": {
        "id": "EkPE4Qwr-UE0"
      },
      "outputs": [],
      "source": [
        "df_days=[]\n",
        "df_start=SellData.iloc[:,[0]]\n",
        "splitting_df= SellData.drop(\"Subject\", axis=1)\n"
      ]
    },
    {
      "cell_type": "code",
      "execution_count": 87,
      "metadata": {
        "id": "NDh9I8HD-tbs"
      },
      "outputs": [],
      "source": [
        "def split(df):\n",
        "  cols=list(df.columns)\n",
        "  stored_cols=[x for x in cols if (\"Stored\" in x)]\n",
        " #for i in DAYS:\n",
        "  #cols_for_day=[]\n",
        "\n",
        "  for name in stored_cols:\n",
        "    print(\"Stored+ day: \", name)\n",
        "\n",
        "    stored_i=cols.index(name)\n",
        "    print(\"stored index\",stored_i)\n",
        "\n",
        "    new_df= df.iloc[:, list(range(stored_i,stored_i+3))]\n",
        "    print(\"length of new df : \", len(new_df.columns))\n",
        "    print(\"columns of new df : \", list(new_df.columns))\n",
        "    new_df= pd.concat([df_start,new_df], axis=1)\n",
        "    df_days.insert(stored_i, new_df)\n",
        "  print(\"length of df_days: \", len(df_days))\n",
        "\n",
        "\n"
      ]
    },
    {
      "cell_type": "code",
      "execution_count": 88,
      "metadata": {
        "colab": {
          "base_uri": "https://localhost:8080/"
        },
        "id": "EjUwG0V3O8hA",
        "outputId": "434b6529-af0c-479b-f07e-9fc01ddb53fc"
      },
      "outputs": [
        {
          "name": "stdout",
          "output_type": "stream",
          "text": [
            "Stored+ day:  Stored68\n",
            "stored index 1\n",
            "length of new df :  3\n",
            "columns of new df :  ['Stored68', 'Price68', 'Sold68']\n",
            "Stored+ day:  Stored67\n",
            "stored index 4\n",
            "length of new df :  3\n",
            "columns of new df :  ['Stored67', 'Price67', 'Sold67']\n",
            "Stored+ day:  Stored66\n",
            "stored index 7\n",
            "length of new df :  3\n",
            "columns of new df :  ['Stored66', 'Price66', 'Sold66']\n",
            "Stored+ day:  Stored65\n",
            "stored index 10\n",
            "length of new df :  3\n",
            "columns of new df :  ['Stored65', 'Price65', 'Sold65']\n",
            "Stored+ day:  Stored64\n",
            "stored index 13\n",
            "length of new df :  3\n",
            "columns of new df :  ['Stored64', 'Price64', 'Sold64']\n",
            "Stored+ day:  Stored63\n",
            "stored index 16\n",
            "length of new df :  3\n",
            "columns of new df :  ['Stored63', 'Price63', 'Sold63']\n",
            "Stored+ day:  Stored62\n",
            "stored index 19\n",
            "length of new df :  3\n",
            "columns of new df :  ['Stored62', 'Price62', 'Sold62']\n",
            "Stored+ day:  Stored61\n",
            "stored index 22\n",
            "length of new df :  3\n",
            "columns of new df :  ['Stored61', 'Price61', 'Sold61']\n",
            "Stored+ day:  Stored60\n",
            "stored index 25\n",
            "length of new df :  3\n",
            "columns of new df :  ['Stored60', 'Price60', 'Sold60']\n",
            "Stored+ day:  Stored59\n",
            "stored index 28\n",
            "length of new df :  3\n",
            "columns of new df :  ['Stored59', 'Price59', 'Sold59']\n",
            "Stored+ day:  Stored58\n",
            "stored index 31\n",
            "length of new df :  3\n",
            "columns of new df :  ['Stored58', 'Price58', 'Sold58']\n",
            "Stored+ day:  Stored57\n",
            "stored index 34\n",
            "length of new df :  3\n",
            "columns of new df :  ['Stored57', 'Price57', 'Sold57']\n",
            "Stored+ day:  Stored56\n",
            "stored index 37\n",
            "length of new df :  3\n",
            "columns of new df :  ['Stored56', 'Price56', 'Sold56']\n",
            "Stored+ day:  Stored55\n",
            "stored index 40\n",
            "length of new df :  3\n",
            "columns of new df :  ['Stored55', 'Price55', 'Sold55']\n",
            "Stored+ day:  Stored54\n",
            "stored index 43\n",
            "length of new df :  3\n",
            "columns of new df :  ['Stored54', 'Price54', 'Sold54']\n",
            "Stored+ day:  Stored53\n",
            "stored index 46\n",
            "length of new df :  3\n",
            "columns of new df :  ['Stored53', 'Price53', 'Sold53']\n",
            "Stored+ day:  Stored52\n",
            "stored index 49\n",
            "length of new df :  3\n",
            "columns of new df :  ['Stored52', 'Price52', 'Sold52']\n",
            "Stored+ day:  Stored51\n",
            "stored index 52\n",
            "length of new df :  3\n",
            "columns of new df :  ['Stored51', 'Price51', 'Sold51']\n",
            "Stored+ day:  Stored50\n",
            "stored index 55\n",
            "length of new df :  3\n",
            "columns of new df :  ['Stored50', 'Price50', 'Sold50']\n",
            "Stored+ day:  Stored49\n",
            "stored index 58\n",
            "length of new df :  3\n",
            "columns of new df :  ['Stored49', 'Price49', 'Sold49']\n",
            "Stored+ day:  Stored48\n",
            "stored index 61\n",
            "length of new df :  3\n",
            "columns of new df :  ['Stored48', 'Price48', 'Sold48']\n",
            "Stored+ day:  Stored47\n",
            "stored index 64\n",
            "length of new df :  3\n",
            "columns of new df :  ['Stored47', 'Price47', 'Sold47']\n",
            "Stored+ day:  Stored46\n",
            "stored index 67\n",
            "length of new df :  3\n",
            "columns of new df :  ['Stored46', 'Price46', 'Sold46']\n",
            "Stored+ day:  Stored45\n",
            "stored index 70\n",
            "length of new df :  3\n",
            "columns of new df :  ['Stored45', 'Price45', 'Sold45']\n",
            "Stored+ day:  Stored44\n",
            "stored index 73\n",
            "length of new df :  3\n",
            "columns of new df :  ['Stored44', 'Price44', 'Sold44']\n",
            "Stored+ day:  Stored43\n",
            "stored index 76\n",
            "length of new df :  3\n",
            "columns of new df :  ['Stored43', 'Price43', 'Sold43']\n",
            "Stored+ day:  Stored42\n",
            "stored index 79\n",
            "length of new df :  3\n",
            "columns of new df :  ['Stored42', 'Price42', 'Sold42']\n",
            "Stored+ day:  Stored41\n",
            "stored index 82\n",
            "length of new df :  3\n",
            "columns of new df :  ['Stored41', 'Price41', 'Sold41']\n",
            "Stored+ day:  Stored40\n",
            "stored index 85\n",
            "length of new df :  3\n",
            "columns of new df :  ['Stored40', 'Price40', 'Sold40']\n",
            "Stored+ day:  Stored39\n",
            "stored index 88\n",
            "length of new df :  3\n",
            "columns of new df :  ['Stored39', 'Price39', 'Sold39']\n",
            "Stored+ day:  Stored38\n",
            "stored index 91\n",
            "length of new df :  3\n",
            "columns of new df :  ['Stored38', 'Price38', 'Sold38']\n",
            "Stored+ day:  Stored37\n",
            "stored index 94\n",
            "length of new df :  3\n",
            "columns of new df :  ['Stored37', 'Price37', 'Sold37']\n",
            "Stored+ day:  Stored36\n",
            "stored index 97\n",
            "length of new df :  3\n",
            "columns of new df :  ['Stored36', 'Price36', 'Sold36']\n",
            "Stored+ day:  Stored35\n",
            "stored index 100\n",
            "length of new df :  3\n",
            "columns of new df :  ['Stored35', 'Price35', 'Sold35']\n",
            "Stored+ day:  Stored34\n",
            "stored index 103\n",
            "length of new df :  3\n",
            "columns of new df :  ['Stored34', 'Price34', 'Sold34']\n",
            "Stored+ day:  Stored33\n",
            "stored index 106\n",
            "length of new df :  3\n",
            "columns of new df :  ['Stored33', 'Price33', 'Sold33']\n",
            "Stored+ day:  Stored32\n",
            "stored index 109\n",
            "length of new df :  3\n",
            "columns of new df :  ['Stored32', 'Price32', 'Sold32']\n",
            "Stored+ day:  Stored31\n",
            "stored index 112\n",
            "length of new df :  3\n",
            "columns of new df :  ['Stored31', 'Price31', 'Sold31']\n",
            "Stored+ day:  Stored30\n",
            "stored index 115\n",
            "length of new df :  3\n",
            "columns of new df :  ['Stored30', 'Price30', 'Sold30']\n",
            "Stored+ day:  Stored29\n",
            "stored index 118\n",
            "length of new df :  3\n",
            "columns of new df :  ['Stored29', 'Price29', 'Sold29']\n",
            "Stored+ day:  Stored28\n",
            "stored index 121\n",
            "length of new df :  3\n",
            "columns of new df :  ['Stored28', 'Price28', 'Sold28']\n",
            "Stored+ day:  Stored27\n",
            "stored index 124\n",
            "length of new df :  3\n",
            "columns of new df :  ['Stored27', 'Price27', 'Sold27']\n",
            "Stored+ day:  Stored26\n",
            "stored index 127\n",
            "length of new df :  3\n",
            "columns of new df :  ['Stored26', 'Price26', 'Sold26']\n",
            "Stored+ day:  Stored25\n",
            "stored index 130\n",
            "length of new df :  3\n",
            "columns of new df :  ['Stored25', 'Price25', 'Sold25']\n",
            "Stored+ day:  Stored24\n",
            "stored index 133\n",
            "length of new df :  3\n",
            "columns of new df :  ['Stored24', 'Price24', 'Sold24']\n",
            "Stored+ day:  Stored23\n",
            "stored index 136\n",
            "length of new df :  3\n",
            "columns of new df :  ['Stored23', 'Price23', 'Sold23']\n",
            "Stored+ day:  Stored22\n",
            "stored index 139\n",
            "length of new df :  3\n",
            "columns of new df :  ['Stored22', 'Price22', 'Sold22']\n",
            "Stored+ day:  Stored21\n",
            "stored index 142\n",
            "length of new df :  3\n",
            "columns of new df :  ['Stored21', 'Price21', 'Sold21']\n",
            "Stored+ day:  Stored20\n",
            "stored index 145\n",
            "length of new df :  3\n",
            "columns of new df :  ['Stored20', 'Price20', 'Sold20']\n",
            "Stored+ day:  Stored19\n",
            "stored index 148\n",
            "length of new df :  3\n",
            "columns of new df :  ['Stored19', 'Price19', 'Sold19']\n",
            "Stored+ day:  Stored18\n",
            "stored index 151\n",
            "length of new df :  3\n",
            "columns of new df :  ['Stored18', 'Price18', 'Sold18']\n",
            "Stored+ day:  Stored17\n",
            "stored index 154\n",
            "length of new df :  3\n",
            "columns of new df :  ['Stored17', 'Price17', 'Sold17']\n",
            "Stored+ day:  Stored16\n",
            "stored index 157\n",
            "length of new df :  3\n",
            "columns of new df :  ['Stored16', 'Price16', 'Sold16']\n",
            "Stored+ day:  Stored15\n",
            "stored index 160\n",
            "length of new df :  3\n",
            "columns of new df :  ['Stored15', 'Price15', 'Sold15']\n",
            "Stored+ day:  Stored14\n",
            "stored index 163\n",
            "length of new df :  3\n",
            "columns of new df :  ['Stored14', 'Price14', 'Sold14']\n",
            "Stored+ day:  Stored13\n",
            "stored index 166\n",
            "length of new df :  3\n",
            "columns of new df :  ['Stored13', 'Price13', 'Sold13']\n",
            "Stored+ day:  Stored12\n",
            "stored index 169\n",
            "length of new df :  3\n",
            "columns of new df :  ['Stored12', 'Price12', 'Sold12']\n",
            "Stored+ day:  Stored11\n",
            "stored index 172\n",
            "length of new df :  3\n",
            "columns of new df :  ['Stored11', 'Price11', 'Sold11']\n",
            "Stored+ day:  Stored10\n",
            "stored index 175\n",
            "length of new df :  3\n",
            "columns of new df :  ['Stored10', 'Price10', 'Sold10']\n",
            "Stored+ day:  Stored9\n",
            "stored index 178\n",
            "length of new df :  3\n",
            "columns of new df :  ['Stored9', 'Price9', 'Sold9']\n",
            "Stored+ day:  Stored8\n",
            "stored index 181\n",
            "length of new df :  3\n",
            "columns of new df :  ['Stored8', 'Price8', 'Sold8']\n",
            "Stored+ day:  Stored7\n",
            "stored index 184\n",
            "length of new df :  3\n",
            "columns of new df :  ['Stored7', 'Price7', 'Sold7']\n",
            "Stored+ day:  Stored6\n",
            "stored index 187\n",
            "length of new df :  3\n",
            "columns of new df :  ['Stored6', 'Price6', 'Sold6']\n",
            "Stored+ day:  Stored5\n",
            "stored index 190\n",
            "length of new df :  3\n",
            "columns of new df :  ['Stored5', 'Price5', 'Sold5']\n",
            "Stored+ day:  Stored4\n",
            "stored index 193\n",
            "length of new df :  3\n",
            "columns of new df :  ['Stored4', 'Price4', 'Sold4']\n",
            "Stored+ day:  Stored3\n",
            "stored index 196\n",
            "length of new df :  3\n",
            "columns of new df :  ['Stored3', 'Price3', 'Sold3']\n",
            "Stored+ day:  Stored2\n",
            "stored index 199\n",
            "length of new df :  3\n",
            "columns of new df :  ['Stored2', 'Price2', 'Sold2']\n",
            "Stored+ day:  Stored1\n",
            "stored index 202\n",
            "length of new df :  3\n",
            "columns of new df :  ['Stored1', 'Price1', 'Sold1']\n",
            "length of df_days:  68\n"
          ]
        }
      ],
      "source": [
        "split(splitting_df)"
      ]
    },
    {
      "cell_type": "code",
      "execution_count": 89,
      "metadata": {
        "id": "snNjULWbyYIr"
      },
      "outputs": [],
      "source": [
        "df_days.reverse()"
      ]
    },
    {
      "cell_type": "markdown",
      "metadata": {
        "id": "mZEviB7DqHrZ"
      },
      "source": [
        "Not really. For EUT, all you are doing is calculating the value of the equation each day when a unit is sold versus when a unit is not sold. If the value of the equation is higher when a unit is not old. If the value of the equation is higher when a unit is sold then the predicted number of units sold is equal to the number of units stored. If the value of the equation is higher when a unit is not sold then the predicted number of units sold for that day is 0.\n"
      ]
    },
    {
      "cell_type": "code",
      "execution_count": 90,
      "metadata": {
        "id": "tBrYaR7tdnH5"
      },
      "outputs": [],
      "source": [
        "DAYS=list(range(0,68))"
      ]
    },
    {
      "cell_type": "markdown",
      "metadata": {
        "id": "GXGXiJfmZv2f"
      },
      "source": [
        "Alright now we are going to be predicting with the PT model. This has parameters and multilpe equation variations. It's prospect theory so a simple gains vs losses.\n",
        "\n",
        "The prospective value of a sale on day d is determined by the probability that a sale would be made at a larger or smaller price on a subsequent day. If a sale is not made for id, the likelihood of a subsequent sale on day d+v at a smaller value implies that a sale on day d for id would be a gain and the likelihood of a subsequent sale on day d+v at a greater value implies that a sale on day d for id would be a loss\n"
      ]
    },
    {
      "cell_type": "code",
      "execution_count": 91,
      "metadata": {
        "id": "zB0fKgSQPXf4"
      },
      "outputs": [],
      "source": [
        "import math\n",
        "\n",
        "def prelec(p, gamma):\n",
        "    x=math.exp(-(-math.log(p)) ** gamma)\n",
        "\n",
        "    return x"
      ]
    },
    {
      "cell_type": "code",
      "execution_count": 92,
      "metadata": {
        "colab": {
          "base_uri": "https://localhost:8080/"
        },
        "id": "FJLyJyMqenWh",
        "outputId": "4605b664-6702-4950-a847-70756f11d2b6"
      },
      "outputs": [
        {
          "data": {
            "text/plain": [
              "0.02410153064345989"
            ]
          },
          "execution_count": 92,
          "metadata": {},
          "output_type": "execute_result"
        }
      ],
      "source": [
        "prelec(p[4], 1.75)"
      ]
    },
    {
      "cell_type": "code",
      "execution_count": 93,
      "metadata": {
        "id": "Fm407OxsPxaQ"
      },
      "outputs": [],
      "source": [
        "def PTv1(price, sold, stored, alpha, beta, lam, gam) : #i_d, n, N\n",
        "  gain = sum((prelec(p[j],gam) * (sold*(price-j))**alpha) for j in range(1, price))\n",
        "  loss= sum((prelec(p[j],gam) * lam*(sold*(price-j))**beta ) for j in range(price+1, I+1))\n",
        "  return gain-loss\n"
      ]
    },
    {
      "cell_type": "code",
      "execution_count": 94,
      "metadata": {
        "colab": {
          "base_uri": "https://localhost:8080/"
        },
        "id": "P-4CwISYwxGk",
        "outputId": "fcf1c1e1-3dea-4005-ab13-c0b1619b5289"
      },
      "outputs": [
        {
          "data": {
            "text/plain": [
              "3.93575"
            ]
          },
          "execution_count": 94,
          "metadata": {},
          "output_type": "execute_result"
        }
      ],
      "source": [
        "PTv1(6,1,1,1,1,1.755,1)"
      ]
    },
    {
      "cell_type": "code",
      "execution_count": 95,
      "metadata": {
        "id": "lK4i-fTlODyV"
      },
      "outputs": [],
      "source": [
        "def h_probPT(day_f, actual_day,gamma, cutoff): # This returns the probability of a sale on the day (d=h) where day is the index variable used in the util represented by f and actual day is the actual day used in the util represented by \"day\"\n",
        "\n",
        "  h_rem= 1\n",
        "  for h in range(actual_day-1, day_f+1, -1):\n",
        "    h_rem*=sum(prelec(p[k],gamma) for k in range(1,cutoff[h]-1))\n",
        "\n",
        "  #print(\"h_Rem for day\", actual_day, \"is \",h_rem )\n",
        "  return h_rem"
      ]
    },
    {
      "cell_type": "code",
      "execution_count": 96,
      "metadata": {
        "id": "Ce3vqk8gcOrH"
      },
      "outputs": [],
      "source": [
        "def PTv2(day, price, sold, alpha, beta, lam, gam, c_o ):\n",
        "  # this is our code and it is copied straight from what's shown on the report. PTv3 is a \"working\" version however it doesn't adhere directly to the model in the report\n",
        "  gain=sum(  (prelec(  p[j]+ sum(h_probPTv2(day-1,f,c_o,gam) for f in range(day-2,1,-1)) * p[j], gam ) * (sold*(price-j))**alpha )   for j in range(c_o[day-1],price))\n",
        "\n",
        " # print(\"gain for day\", day,\"is \", gain)\n",
        "  loss=sum((prelec(  p[j]+ sum(h_probPTv2(day-1,f,c_o,gam) for f in range(day-2,1,-1)) * p[j] , gam) * lam*(sold*(j-price))**beta )   for j in range(max(c_o[day-1],price+1),I+1))\n",
        "  #print(\"loss for day\", day,\"is \", loss)\n",
        "  util=gain-loss\n",
        " # print(\"util for day\", day, \"is\", util)\n",
        "  return util"
      ]
    },
    {
      "cell_type": "code",
      "execution_count": 97,
      "metadata": {
        "id": "gHi4FFU1nYj2"
      },
      "outputs": [],
      "source": [
        "\n",
        "def h_probPTv2(day, f, c_o,gam):\n",
        "  prob=1.0\n",
        "  for h in range(1,f+1):\n",
        "    prob*=sum(prelec(p[j],gam) for j in range(1,c_o[day-h]))\n",
        "  return prob"
      ]
    },
    {
      "cell_type": "code",
      "execution_count": 98,
      "metadata": {
        "id": "IMbOY9Vaqs5F"
      },
      "outputs": [],
      "source": [
        "def obj_gain(day, price, sold, alpha, beta, lam, gam, c_o,j):\n",
        "  gain=sold*(price-j)\n",
        "  gain=gain**alpha\n",
        "  gain*=prelec(p[j],gam)\n",
        "  return gain\n"
      ]
    },
    {
      "cell_type": "code",
      "execution_count": null,
      "metadata": {},
      "outputs": [],
      "source": []
    },
    {
      "cell_type": "code",
      "execution_count": 99,
      "metadata": {
        "id": "YtuU90gXqwml"
      },
      "outputs": [],
      "source": [
        "def obj_loss(day, price, sold, alpha, beta, lam, gam, c_o,j):\n",
        "  loss=sold*(j-price)\n",
        "  loss=loss**beta\n",
        "  loss*=lam*prelec(p[j],gam)\n",
        "  return loss"
      ]
    },
    {
      "cell_type": "code",
      "execution_count": 131,
      "metadata": {
        "id": "C7S2vuTrjmgW"
      },
      "outputs": [],
      "source": [
        "\n",
        "def PTv3(day,price,sold,alpha,beta,lam,gam,c_o):\n",
        "  util=0\n",
        "  for j in range(c_o[day-1],price):\n",
        "    util+=obj_gain(day,price,sold,alpha,beta,lam,gam,c_o,j)\n",
        "\n",
        "\n",
        "  for j in range(max(price+1,c_o[day-1]), I+1):\n",
        "\n",
        "    util-=obj_loss(day,price,sold,alpha,beta,lam,gam,c_o,j)\n",
        "\n",
        "\n",
        "  for k in range(1,day+2):\n",
        "\n",
        "    h_prob=h_probPTv2(day,k-1,c_o,gam)\n",
        "    #h_prob=h_probPT(day_f=k, actual_day=day,gamma=gam,cutoff=c_o)\n",
        "\n",
        "    gain_prob=0\n",
        "    for j in range(c_o[day-k],price):\n",
        "      gain_prob+=obj_gain(day,price,sold,alpha,beta,lam,gam,c_o,j)\n",
        "\n",
        "    loss_prob=0\n",
        "    for j in range(max(price+1,c_o[day-k]), I+1):\n",
        "      loss_prob+=obj_loss(day,price,sold,alpha,beta,lam,gam,c_o,j)\n",
        "\n",
        "    util+=h_prob*(gain_prob-loss_prob)\n",
        "\n",
        "\n",
        "\n",
        "\n",
        "  #print(\"util for day\",day,\"is \", util)\n",
        "  print(\"gain: \"  ,gain_prob)\n",
        "  print(\"loss: \", loss_prob)\n",
        "  \n",
        "  return util\n",
        "\n",
        "\n",
        "\n"
      ]
    },
    {
      "cell_type": "code",
      "execution_count": 101,
      "metadata": {
        "id": "cyKkQE51zrlO"
      },
      "outputs": [],
      "source": [
        "testlist = [1]*68"
      ]
    },
    {
      "cell_type": "code",
      "execution_count": 102,
      "metadata": {
        "colab": {
          "base_uri": "https://localhost:8080/"
        },
        "id": "9s91RgfuymeJ",
        "outputId": "0a6c54d8-d7f0-4955-9ad3-a625dc0b99d6"
      },
      "outputs": [
        {
          "data": {
            "text/plain": [
              "6.046399999999999"
            ]
          },
          "execution_count": 102,
          "metadata": {},
          "output_type": "execute_result"
        }
      ],
      "source": [
        "PTv3(7,8,4,1,1,1.755,1,testlist)"
      ]
    },
    {
      "cell_type": "markdown",
      "metadata": {
        "id": "OKfOEEaii2uo"
      },
      "source": [
        "to compute cutoff prices we iterate through each price (1-15 )and determine if they will result in a gain or loss. I\n"
      ]
    },
    {
      "cell_type": "code",
      "execution_count": 103,
      "metadata": {
        "id": "dISodjTeuBmJ"
      },
      "outputs": [],
      "source": [
        "def max_units(day,price, stored,a,b,l,g,cut_offs):\n",
        "  sells=[]\n",
        "  pred=0\n",
        "  greatest=-100\n",
        "\n",
        "  for units in range(1,stored+1):\n",
        "\n",
        "    prosp=PTv3(day,price,units,a,b,l,g,cut_offs)\n",
        "\n",
        "    if prosp>greatest:\n",
        "      greatest=prosp\n",
        "      pred=units\n",
        "      sells.append(units)\n",
        "\n",
        "#  print(\"all possibile units to sell at\", sells)\n",
        "\n",
        " # print(\"len of possible sells:\", len(sells))\n",
        "\n",
        "    #if prosp>greatest:\n",
        "       # greatest=prosp\n",
        "       # pred=units\n",
        "  return pred"
      ]
    },
    {
      "cell_type": "code",
      "execution_count": 104,
      "metadata": {
        "colab": {
          "base_uri": "https://localhost:8080/"
        },
        "id": "YFm9vjEEO5bm",
        "outputId": "062e8cf8-3c9e-4d1f-c7c6-dcb2a3f5b5b0"
      },
      "outputs": [
        {
          "data": {
            "text/plain": [
              "[0,\n",
              " 1,\n",
              " 2,\n",
              " 3,\n",
              " 4,\n",
              " 5,\n",
              " 6,\n",
              " 7,\n",
              " 8,\n",
              " 9,\n",
              " 10,\n",
              " 11,\n",
              " 12,\n",
              " 13,\n",
              " 14,\n",
              " 15,\n",
              " 16,\n",
              " 17,\n",
              " 18,\n",
              " 19,\n",
              " 20,\n",
              " 21,\n",
              " 22,\n",
              " 23,\n",
              " 24,\n",
              " 25,\n",
              " 26,\n",
              " 27,\n",
              " 28,\n",
              " 29,\n",
              " 30,\n",
              " 31,\n",
              " 32,\n",
              " 33,\n",
              " 34,\n",
              " 35,\n",
              " 36,\n",
              " 37,\n",
              " 38,\n",
              " 39,\n",
              " 40,\n",
              " 41,\n",
              " 42,\n",
              " 43,\n",
              " 44,\n",
              " 45,\n",
              " 46,\n",
              " 47,\n",
              " 48,\n",
              " 49,\n",
              " 50,\n",
              " 51,\n",
              " 52,\n",
              " 53,\n",
              " 54,\n",
              " 55,\n",
              " 56,\n",
              " 57,\n",
              " 58,\n",
              " 59,\n",
              " 60,\n",
              " 61,\n",
              " 62,\n",
              " 63,\n",
              " 64,\n",
              " 65,\n",
              " 66,\n",
              " 67]"
            ]
          },
          "execution_count": 104,
          "metadata": {},
          "output_type": "execute_result"
        }
      ],
      "source": [
        "DAYS"
      ]
    },
    {
      "cell_type": "code",
      "execution_count": 105,
      "metadata": {
        "id": "PO7BNaLc9KNL"
      },
      "outputs": [],
      "source": [
        "def info_return(day, participant):\n",
        "  curr_df= df_days[day].iloc[participant] # data acquiring is fine.\n",
        "  n_1=curr_df[\"Sold\"+str(day+1)]\n",
        "  #print(\"Sold units on day :\",day, \" is : \", n_1)\n",
        "\n",
        "  N_d=curr_df[\"Stored\"+str(day+1)]\n",
        "  #print(\"Stored on day\",day,\"is:\", N_d)\n",
        "  i_d=curr_df[\"Price\"+str(day+1)]\n",
        " # print(\"Price on day\",day,\"is\",i_d)\n",
        "  return(n_1,N_d,i_d)"
      ]
    },
    {
      "cell_type": "code",
      "execution_count": 128,
      "metadata": {
        "id": "ChUwKuHx09ox"
      },
      "outputs": [],
      "source": [
        "def cutoff_pt_list(a,b,l,g):#this function generates a list before we make our predicitons\n",
        "  cutoffs=[1]\n",
        "  for day in DAYS:#0,1,2,3\n",
        "    if day==0:\n",
        "      continue\n",
        "    price=cutoffs[day-1]\n",
        "    prosp=PTv3(day,price,1,a,b,l,g,cutoffs)\n",
        "    #prosp=PTv2(day,price,1,a,b,l,g,cutoffs)\n",
        "    counts=0\n",
        "    while (prosp <= 0 and price < 15):\n",
        "                # Continually increment price until it is worthwhile to sell\n",
        "                price += 1\n",
        "                counts+=1\n",
        "                prosp = PTv3(day,price,1,a,b,l,g,cutoffs)\n",
        "                #prosp=PTv2(day,price,1,a,b,l,g,cutoffs)\n",
        "\n",
        "\n",
        "\n",
        "    cutoffs.append(price)\n",
        "   # print(\"counts from the previous value of\", cutoffs[day-1], \" is \", counts,\"cutoff price is now\", price, \"for day \",day)\n",
        "  return cutoffs\n",
        "\n",
        "\n",
        "\n"
      ]
    },
    {
      "cell_type": "code",
      "execution_count": 107,
      "metadata": {
        "id": "H7-qGnIJ6d5n"
      },
      "outputs": [],
      "source": [
        "def fitPTv2(participant,a,b,l,g):\n",
        "  predictions=[]                 #[0]*68\n",
        "  #cut_offs=c_o\n",
        "  cut_offs=cutoff_pt_list(a,b,l,g)            #cutoff_PT(a,b,l,g,participant)\n",
        "\n",
        "\n",
        "  for day in DAYS: # 1,2,3\n",
        "    pred=0\n",
        "    vals=info_return(day, participant) # sold, stored,price\n",
        "    stored=vals[1]\n",
        "    price=vals[2]\n",
        "\n",
        "    ''' c_o=cutoff_PT(a,b,l,g,day,cut_offs,stored)\n",
        "    print(\"cut off price for day\", day,\"is \", c_o)\n",
        "    cut_offs[day-1]=c_o'''\n",
        "    if day==0:\n",
        "      pred=stored\n",
        "    else:\n",
        "\n",
        "      if price>=cut_offs[day]:\n",
        "\n",
        "        pred=max_units(day,price,stored,a,b,l,g, cut_offs)\n",
        "      else:\n",
        "        print(\".\")\n",
        "\n",
        "    predictions.append(pred)\n",
        "    #predictions.insert(day-1,pred)\n",
        "  pred_series=pd.Series(predictions)\n",
        "  #predictions_df['Participant '+str(participant+1)]=pred_series.values\n",
        " # predictions_df['Participant' +str(participant+1)+' cutoffs']=pd.Series(cut_offs).values\n",
        "  print(\"DATA ADDED :)\")\n",
        "  return predictions,cut_offs"
      ]
    },
    {
      "cell_type": "code",
      "execution_count": 108,
      "metadata": {
        "colab": {
          "base_uri": "https://localhost:8080/",
          "height": 52
        },
        "id": "aON5_c8jQTUB",
        "outputId": "182c421b-4110-4e96-efa7-a49449bc5bf2"
      },
      "outputs": [
        {
          "data": {
            "text/plain": [
              "'def PT_TW(day,price,sold,alpha,beta,lam,gam,tw,c_o):\\n  if tw>(68-day):\\n    util=PTv3(day,price,sold,alpha,beta,lam,gam,c_o)\\n    print(\"util PT : \", util)\\n\\n  else:\\n    gain=sum(prelec(p[j] + sum((1-sum(p[i] for i in range(j+1,I+1)))**k for k in range(1,tw-1)) * p[j], gam)* (sold*(price-j))**alpha for j in range(1,price))\\n    loss=sum(prelec(p[j] + sum((1-sum(p[i] for i in range(price+2,I+1)))**k for k in range(1,tw-1)) * p[j],gam)*lam*(sold*(j-price))**beta for j in range(price+1,I+1))\\n    util=gain-loss\\n    print(\"util\", util)\\n\\n  return util\\n'"
            ]
          },
          "execution_count": 108,
          "metadata": {},
          "output_type": "execute_result"
        }
      ],
      "source": [
        "'''def PT_TW(day,price,sold,alpha,beta,lam,gam,tw,c_o):\n",
        "  if tw>(68-day):\n",
        "    util=PTv3(day,price,sold,alpha,beta,lam,gam,c_o)\n",
        "    print(\"util PT : \", util)\n",
        "\n",
        "  else:\n",
        "    gain=sum(prelec(p[j] + sum((1-sum(p[i] for i in range(j+1,I+1)))**k for k in range(1,tw-1)) * p[j], gam)* (sold*(price-j))**alpha for j in range(1,price))\n",
        "    loss=sum(prelec(p[j] + sum((1-sum(p[i] for i in range(price+2,I+1)))**k for k in range(1,tw-1)) * p[j],gam)*lam*(sold*(j-price))**beta for j in range(price+1,I+1))\n",
        "    util=gain-loss\n",
        "    print(\"util\", util)\n",
        "\n",
        "  return util\n",
        "'''\n",
        "\n",
        "\n",
        "\n"
      ]
    },
    {
      "cell_type": "code",
      "execution_count": 109,
      "metadata": {
        "id": "g1L0vYzatsam"
      },
      "outputs": [],
      "source": [
        "def PT_TW(day,price,sold,alpha,beta,lam,gam,tw,c_o):\n",
        "  t=int(tw)\n",
        "\n",
        "  if t>day: # 68,67,66\n",
        "    util=PTv3(day,price,sold,alpha,beta,lam,gam,c_o)\n",
        "    print(\"util PT : \", util)\n",
        "  else:\n",
        "    gain=sum(prelec(p[j] + sum((sum(p[k] for k in range(1,c_o[t-1])))**h for h in range(1,t-1)) * p[j], gam)* (sold*(price-j))**alpha for j in range(c_o[t-1],price))\n",
        "    loss=sum(prelec(p[j] + sum((sum(p[k] for k in range(1,c_o[t-1])))**h for h in range(1,t-1)) * p[j],gam)*lam*(sold*(j-price))**beta for j in range(max(c_o[t-1],price+1),I+1))\n",
        "    util=gain-loss\n",
        "    print(\"util day:\" ,day,util)\n",
        "  return util"
      ]
    },
    {
      "cell_type": "code",
      "execution_count": null,
      "metadata": {
        "id": "AopZcrwNR3wQ"
      },
      "outputs": [],
      "source": []
    },
    {
      "cell_type": "code",
      "execution_count": 110,
      "metadata": {
        "id": "o4XfkX50qILr"
      },
      "outputs": [],
      "source": [
        "def cutoff_pt_tw_list(a,b,l,g,tw):\n",
        "  t=tw\n",
        "  cutoffs=[1]\n",
        "  for day in DAYS:#0,1,2,3\n",
        "    if day==0: # last day\n",
        "      continue\n",
        "    price=cutoffs[day-1]\n",
        "    if day<t:\n",
        "          prosp=PTv3(day,price,1,a,b,l,g,cutoffs)\n",
        "    else:\n",
        "          prosp = PT_TW(day,price,1,a,b,l,g,t,cutoffs)\n",
        "    print(prosp)\n",
        "    #prosp=PTv2(day,price,1,a,b,l,g,cutoffs)\n",
        "\n",
        "    counts=0\n",
        "    while (prosp <= 0 and price < I):\n",
        "                # Continually increment price until it is worthwhile to sell\n",
        "                price += 1\n",
        "                counts+=1\n",
        "                if day<t:\n",
        "                  prosp=PTv3(day,price,1,a,b,l,g,cutoffs)\n",
        "                else:\n",
        "                  prosp = PT_TW(day,price,1,a,b,l,g,t,cutoffs)\n",
        "                print(\"prosp on day\", day, \"is \", prosp)\n",
        "                #prosp=PTv2(day,price,1,a,b,l,g,cutoffs)\n",
        "\n",
        "\n",
        "\n",
        "    cutoffs.append(price)\n",
        "    print(\"counts from the previous value of\", cutoffs[day-1], \" is \", counts,\"cutoff price is now\", price, \"for day \",day)\n",
        "  return cutoffs"
      ]
    },
    {
      "cell_type": "code",
      "execution_count": 111,
      "metadata": {
        "id": "AvMvVbzB65Xo"
      },
      "outputs": [],
      "source": [
        "#print(load_fit('/content/drive/MyDrive/Glass Lab Data/PT fits/DIRECT fits/participant 17 September 02, 2023.pickle'))"
      ]
    },
    {
      "cell_type": "code",
      "execution_count": 112,
      "metadata": {
        "id": "2274RSAu6wOY"
      },
      "outputs": [],
      "source": [
        "#count_errorPT_TW([0.72222222, 0.83333333, 1.16666667, 0.16666667,68],16)"
      ]
    },
    {
      "cell_type": "code",
      "execution_count": 113,
      "metadata": {
        "colab": {
          "base_uri": "https://localhost:8080/",
          "height": 70
        },
        "id": "s480_hAQkTDP",
        "outputId": "53d6005c-f41c-4d32-bca0-2ae8dc74b35a"
      },
      "outputs": [
        {
          "data": {
            "text/plain": [
              "'def cutoff_pt_tw_list(a,b,l,g,tw):\\n  cutoffs=[1]\\n  for day in DAYS:#0,1,2,3\\n    if day==0: # last day\\n      continue\\n    price=cutoffs[day-1]\\n\\n    print(prosp)\\n    #prosp=PTv2(day,price,1,a,b,l,g,cutoffs)\\n\\n    counts=0\\n    while (prosp <= 0 and price < I):\\n                # Continually increment price until it is worthwhile to sell\\n                price += 1\\n                counts+=1\\n\\n                prosp = PT_TW(day,price,1,a,b,l,g,tw,cutoffs)\\n                print(\"prosp on day\", day, \"is \", prosp)\\n                #prosp=PTv2(day,price,1,a,b,l,g,cutoffs)\\n\\n\\n\\n    cutoffs.append(price)\\n    print(\"counts from the previous value of\", cutoffs[day-1], \" is \", counts,\"cutoff price is now\", price, \"for day \",day)\\n  return cutoffs'"
            ]
          },
          "execution_count": 113,
          "metadata": {},
          "output_type": "execute_result"
        }
      ],
      "source": [
        "'''def cutoff_pt_tw_list(a,b,l,g,tw):\n",
        "  cutoffs=[1]\n",
        "  for day in DAYS:#0,1,2,3\n",
        "    if day==0: # last day\n",
        "      continue\n",
        "    price=cutoffs[day-1]\n",
        "\n",
        "    print(prosp)\n",
        "    #prosp=PTv2(day,price,1,a,b,l,g,cutoffs)\n",
        "\n",
        "    counts=0\n",
        "    while (prosp <= 0 and price < I):\n",
        "                # Continually increment price until it is worthwhile to sell\n",
        "                price += 1\n",
        "                counts+=1\n",
        "\n",
        "                prosp = PT_TW(day,price,1,a,b,l,g,tw,cutoffs)\n",
        "                print(\"prosp on day\", day, \"is \", prosp)\n",
        "                #prosp=PTv2(day,price,1,a,b,l,g,cutoffs)\n",
        "\n",
        "\n",
        "\n",
        "    cutoffs.append(price)\n",
        "    print(\"counts from the previous value of\", cutoffs[day-1], \" is \", counts,\"cutoff price is now\", price, \"for day \",day)\n",
        "  return cutoffs'''"
      ]
    },
    {
      "cell_type": "code",
      "execution_count": 114,
      "metadata": {
        "id": "wgxyoxMh79mm"
      },
      "outputs": [],
      "source": [
        "def max_units_PTTW(day,price,stored,a,b,l,g,tw,cutoffs ):\n",
        "  sells=[]\n",
        "  pred=0\n",
        "  greatest=-100\n",
        "\n",
        "  for units in range(1,stored+1):\n",
        "\n",
        "    prosp=PT_TW(day,price,units,a,b,l,g,tw,cutoffs)\n",
        "\n",
        "    if prosp>greatest:\n",
        "      greatest=prosp\n",
        "      pred=units\n",
        "      sells.append(units)\n",
        "\n",
        "#  print(\"all possibile units to sell at\", sells)\n",
        "\n",
        " # print(\"len of possible sells:\", len(sells))\n",
        "\n",
        "    #if prosp>greatest:\n",
        "       # greatest=prosp\n",
        "       # pred=units\n",
        "  return pred"
      ]
    },
    {
      "cell_type": "code",
      "execution_count": 115,
      "metadata": {
        "colab": {
          "base_uri": "https://localhost:8080/"
        },
        "id": "N-y4VXZjtY5I",
        "outputId": "e68499f3-feb7-4e7a-c3ef-500d14989b43"
      },
      "outputs": [
        {
          "data": {
            "text/plain": [
              "[0,\n",
              " 1,\n",
              " 2,\n",
              " 3,\n",
              " 4,\n",
              " 5,\n",
              " 6,\n",
              " 7,\n",
              " 8,\n",
              " 9,\n",
              " 10,\n",
              " 11,\n",
              " 12,\n",
              " 13,\n",
              " 14,\n",
              " 15,\n",
              " 16,\n",
              " 17,\n",
              " 18,\n",
              " 19,\n",
              " 20,\n",
              " 21,\n",
              " 22,\n",
              " 23,\n",
              " 24,\n",
              " 25,\n",
              " 26,\n",
              " 27,\n",
              " 28,\n",
              " 29,\n",
              " 30,\n",
              " 31,\n",
              " 32,\n",
              " 33,\n",
              " 34,\n",
              " 35,\n",
              " 36,\n",
              " 37,\n",
              " 38,\n",
              " 39,\n",
              " 40,\n",
              " 41,\n",
              " 42,\n",
              " 43,\n",
              " 44,\n",
              " 45,\n",
              " 46,\n",
              " 47,\n",
              " 48,\n",
              " 49,\n",
              " 50,\n",
              " 51,\n",
              " 52,\n",
              " 53,\n",
              " 54,\n",
              " 55,\n",
              " 56,\n",
              " 57,\n",
              " 58,\n",
              " 59,\n",
              " 60,\n",
              " 61,\n",
              " 62,\n",
              " 63,\n",
              " 64,\n",
              " 65,\n",
              " 66,\n",
              " 67]"
            ]
          },
          "execution_count": 115,
          "metadata": {},
          "output_type": "execute_result"
        }
      ],
      "source": [
        "DAYS"
      ]
    },
    {
      "cell_type": "markdown",
      "metadata": {
        "id": "9AqU0yJIIJti"
      },
      "source": [
        "# THE FUNCTION WE ARE TRYING TO OPTIMIZE\n"
      ]
    },
    {
      "cell_type": "code",
      "execution_count": 116,
      "metadata": {
        "id": "jQ2TNDuFqN_a"
      },
      "outputs": [],
      "source": [
        "def fitPT_TW(participant,a,b,l,g,tw):\n",
        "  predictions=[]                 #[0]*68\n",
        "  cut_offs=cutoff_pt_tw_list(a,b,l,g,tw)\n",
        "  #cut_offs=cutoff_pt_tw_list(a,b,l,g,tw)            #cutoff_PT(a,b,l,g,participant)\n",
        "\n",
        "  rev_d=reversed(DAYS)\n",
        "  #rev_d=DAYS\n",
        "  for day in rev_d: # 67,66,65...\n",
        "    pred=0\n",
        "    vals=info_return(day, participant) # sold, stored,price\n",
        "    stored=vals[1]\n",
        "    price=vals[2]\n",
        "    if day==0:\n",
        "      pred=stored\n",
        "    else:\n",
        "\n",
        "      if price>=cut_offs[day]:\n",
        "\n",
        "        pred=max_units_PTTW(day,price,stored,a,b,l,g,tw,cut_offs)\n",
        "      else:\n",
        "        print(\"cutoff value of\", cut_offs[day], \"bigger than price\", price, \"HOLD PREDICTED \")\n",
        "\n",
        "    predictions.append(pred)\n",
        "    #predictions.insert(day-1,pred)\n",
        "  pred_series=pd.Series(predictions)\n",
        "  #predictions_df['Participant '+str(participant+1)]=pred_series.values\n",
        " # predictions_df['Participant' +str(participant+1)+' cutoffs']=pd.Series(cut_offs).values\n",
        "  print(\"DATA ADDED :)\")\n",
        "  return predictions,cut_offs"
      ]
    },
    {
      "cell_type": "code",
      "execution_count": 117,
      "metadata": {
        "colab": {
          "base_uri": "https://localhost:8080/"
        },
        "id": "YVYrCwKv8SfZ",
        "outputId": "f7603d31-f896-45a6-b951-38f5f80ce4fd"
      },
      "outputs": [
        {
          "name": "stdout",
          "output_type": "stream",
          "text": [
            "-11.22\n",
            "prosp on day 1 is  -9.219999999999999\n",
            "prosp on day 1 is  -7.22\n",
            "prosp on day 1 is  -5.220000000000001\n",
            "prosp on day 1 is  -3.2199999999999998\n",
            "prosp on day 1 is  -1.22\n",
            "prosp on day 1 is  0.7799999999999999\n",
            "counts from the previous value of 1  is  6 cutoff price is now 7 for day  1\n",
            "-2.1855\n",
            "prosp on day 2 is  -0.7354999999999998\n",
            "prosp on day 2 is  0.7145\n",
            "counts from the previous value of 7  is  2 cutoff price is now 9 for day  2\n",
            "-0.38956\n",
            "prosp on day 3 is  0.8904399999999999\n",
            "counts from the previous value of 9  is  1 cutoff price is now 10 for day  3\n",
            "0.22464759999999984\n",
            "counts from the previous value of 10  is  0 cutoff price is now 10 for day  4\n",
            "-0.24602839600000015\n",
            "prosp on day 5 is  0.9639716039999999\n",
            "counts from the previous value of 10  is  1 cutoff price is now 11 for day  5\n",
            "0.5383758634\n",
            "counts from the previous value of 11  is  0 cutoff price is now 11 for day  6\n",
            "0.22761948388999997\n",
            "counts from the previous value of 11  is  0 cutoff price is now 11 for day  7\n",
            "-0.036523438693500054\n",
            "prosp on day 8 is  1.1134765613065003\n",
            "counts from the previous value of 11  is  1 cutoff price is now 12 for day  8\n",
            "0.8471289051758507\n",
            "counts from the previous value of 12  is  0 cutoff price is now 12 for day  9\n",
            "0.6524160146582658\n",
            "counts from the previous value of 12  is  0 cutoff price is now 12 for day  10\n",
            "0.47717441319243936\n",
            "counts from the previous value of 12  is  0 cutoff price is now 12 for day  11\n",
            "0.3194569718731951\n",
            "counts from the previous value of 12  is  0 cutoff price is now 12 for day  12\n",
            "0.17751127468587596\n",
            "counts from the previous value of 12  is  0 cutoff price is now 12 for day  13\n",
            "0.049760147217288164\n",
            "counts from the previous value of 12  is  0 cutoff price is now 12 for day  14\n",
            "-0.06521586750444053\n",
            "prosp on day 15 is  1.0347841324955604\n",
            "counts from the previous value of 12  is  1 cutoff price is now 13 for day  15\n",
            "0.8926970845458269\n",
            "counts from the previous value of 13  is  0 cutoff price is now 13 for day  16\n",
            "0.7967352594730774\n",
            "counts from the previous value of 13  is  0 cutoff price is now 13 for day  17\n",
            "0.7065311439046927\n",
            "counts from the previous value of 13  is  0 cutoff price is now 13 for day  18\n",
            "0.6217392752704113\n",
            "counts from the previous value of 13  is  0 cutoff price is now 13 for day  19\n",
            "0.5420349187541871\n",
            "counts from the previous value of 13  is  0 cutoff price is now 13 for day  20\n",
            "0.4671128236289358\n",
            "counts from the previous value of 13  is  0 cutoff price is now 13 for day  21\n",
            "0.3966860542112\n",
            "counts from the previous value of 13  is  0 cutoff price is now 13 for day  22\n",
            "0.3304848909585281\n",
            "counts from the previous value of 13  is  0 cutoff price is now 13 for day  23\n",
            "0.26825579750101636\n",
            "counts from the previous value of 13  is  0 cutoff price is now 13 for day  24\n",
            "0.2097604496509553\n",
            "counts from the previous value of 13  is  0 cutoff price is now 13 for day  25\n",
            "0.15477482267189813\n",
            "counts from the previous value of 13  is  0 cutoff price is now 13 for day  26\n",
            "0.10308833331158422\n",
            "counts from the previous value of 13  is  0 cutoff price is now 13 for day  27\n",
            "0.05450303331288908\n",
            "counts from the previous value of 13  is  0 cutoff price is now 13 for day  28\n",
            "0.008832851314115847\n",
            "counts from the previous value of 13  is  0 cutoff price is now 13 for day  29\n",
            "-0.03409711976473123\n",
            "prosp on day 30 is  1.025902880235271\n",
            "counts from the previous value of 13  is  1 cutoff price is now 14 for day  30\n",
            "0.9557257938282131\n",
            "counts from the previous value of 14  is  0 cutoff price is now 14 for day  31\n",
            "0.9167540200133666\n",
            "counts from the previous value of 14  is  0 cutoff price is now 14 for day  32\n",
            "0.8789513994129661\n",
            "counts from the previous value of 14  is  0 cutoff price is now 14 for day  33\n",
            "0.8422828574305773\n",
            "counts from the previous value of 14  is  0 cutoff price is now 14 for day  34\n",
            "0.8067143717076601\n",
            "counts from the previous value of 14  is  0 cutoff price is now 14 for day  35\n",
            "0.7722129405564302\n",
            "counts from the previous value of 14  is  0 cutoff price is now 14 for day  36\n",
            "0.7387465523397376\n",
            "counts from the previous value of 14  is  0 cutoff price is now 14 for day  37\n",
            "0.7062841557695458\n",
            "counts from the previous value of 14  is  0 cutoff price is now 14 for day  38\n",
            "0.6747956310964595\n",
            "counts from the previous value of 14  is  0 cutoff price is now 14 for day  39\n",
            "0.6442517621635656\n",
            "counts from the previous value of 14  is  0 cutoff price is now 14 for day  40\n",
            "0.6146242092986587\n",
            "counts from the previous value of 14  is  0 cutoff price is now 14 for day  41\n",
            "0.5858854830196993\n",
            "counts from the previous value of 14  is  0 cutoff price is now 14 for day  42\n",
            "0.5580089185291085\n",
            "counts from the previous value of 14  is  0 cutoff price is now 14 for day  43\n",
            "0.5309686509732354\n",
            "counts from the previous value of 14  is  0 cutoff price is now 14 for day  44\n",
            "0.5047395914440382\n",
            "counts from the previous value of 14  is  0 cutoff price is now 14 for day  45\n",
            "0.47929740370071705\n",
            "counts from the previous value of 14  is  0 cutoff price is now 14 for day  46\n",
            "0.45461848158969576\n",
            "counts from the previous value of 14  is  0 cutoff price is now 14 for day  47\n",
            "0.430679927142005\n",
            "counts from the previous value of 14  is  0 cutoff price is now 14 for day  48\n",
            "0.4074595293277449\n",
            "counts from the previous value of 14  is  0 cutoff price is now 14 for day  49\n",
            "0.38493574344791254\n",
            "counts from the previous value of 14  is  0 cutoff price is now 14 for day  50\n",
            "0.3630876711444752\n",
            "counts from the previous value of 14  is  0 cutoff price is now 14 for day  51\n",
            "0.3418950410101412\n",
            "counts from the previous value of 14  is  0 cutoff price is now 14 for day  52\n",
            "0.32133818977983697\n",
            "counts from the previous value of 14  is  0 cutoff price is now 14 for day  53\n",
            "0.30139804408644155\n",
            "counts from the previous value of 14  is  0 cutoff price is now 14 for day  54\n",
            "0.2820561027638484\n",
            "counts from the previous value of 14  is  0 cutoff price is now 14 for day  55\n",
            "0.2632944196809329\n",
            "counts from the previous value of 14  is  0 cutoff price is now 14 for day  56\n",
            "0.24509558709050516\n",
            "counts from the previous value of 14  is  0 cutoff price is now 14 for day  57\n",
            "0.22744271947779005\n",
            "counts from the previous value of 14  is  0 cutoff price is now 14 for day  58\n",
            "0.2103194378934563\n",
            "counts from the previous value of 14  is  0 cutoff price is now 14 for day  59\n",
            "0.19370985475665278\n",
            "counts from the previous value of 14  is  0 cutoff price is now 14 for day  60\n",
            "0.17759855911395317\n",
            "counts from the previous value of 14  is  0 cutoff price is now 14 for day  61\n",
            "0.16197060234053462\n",
            "counts from the previous value of 14  is  0 cutoff price is now 14 for day  62\n",
            "0.14681148427031857\n",
            "counts from the previous value of 14  is  0 cutoff price is now 14 for day  63\n",
            "0.13210713974220908\n",
            "counts from the previous value of 14  is  0 cutoff price is now 14 for day  64\n",
            "0.11784392554994275\n",
            "counts from the previous value of 14  is  0 cutoff price is now 14 for day  65\n",
            "0.10400860778344445\n",
            "counts from the previous value of 14  is  0 cutoff price is now 14 for day  66\n",
            "0.09058834954994113\n",
            "counts from the previous value of 14  is  0 cutoff price is now 14 for day  67\n",
            "cutoff value of 14 bigger than price 9 HOLD PREDICTED \n",
            "cutoff value of 14 bigger than price 5 HOLD PREDICTED \n",
            "cutoff value of 14 bigger than price 7 HOLD PREDICTED \n",
            "cutoff value of 14 bigger than price 13 HOLD PREDICTED \n",
            "cutoff value of 14 bigger than price 7 HOLD PREDICTED \n",
            "cutoff value of 14 bigger than price 2 HOLD PREDICTED \n",
            "cutoff value of 14 bigger than price 4 HOLD PREDICTED \n",
            "cutoff value of 14 bigger than price 10 HOLD PREDICTED \n",
            "cutoff value of 14 bigger than price 6 HOLD PREDICTED \n",
            "cutoff value of 14 bigger than price 5 HOLD PREDICTED \n",
            "cutoff value of 14 bigger than price 9 HOLD PREDICTED \n",
            "cutoff value of 14 bigger than price 8 HOLD PREDICTED \n",
            "cutoff value of 14 bigger than price 3 HOLD PREDICTED \n",
            "cutoff value of 14 bigger than price 4 HOLD PREDICTED \n",
            "cutoff value of 14 bigger than price 6 HOLD PREDICTED \n",
            "cutoff value of 14 bigger than price 7 HOLD PREDICTED \n",
            "cutoff value of 14 bigger than price 5 HOLD PREDICTED \n",
            "cutoff value of 14 bigger than price 8 HOLD PREDICTED \n",
            "cutoff value of 14 bigger than price 4 HOLD PREDICTED \n",
            "cutoff value of 14 bigger than price 4 HOLD PREDICTED \n",
            "cutoff value of 14 bigger than price 12 HOLD PREDICTED \n",
            "cutoff value of 14 bigger than price 9 HOLD PREDICTED \n",
            "cutoff value of 14 bigger than price 4 HOLD PREDICTED \n",
            "cutoff value of 14 bigger than price 5 HOLD PREDICTED \n",
            "cutoff value of 14 bigger than price 1 HOLD PREDICTED \n",
            "cutoff value of 14 bigger than price 4 HOLD PREDICTED \n",
            "cutoff value of 14 bigger than price 7 HOLD PREDICTED \n",
            "cutoff value of 14 bigger than price 5 HOLD PREDICTED \n",
            "cutoff value of 14 bigger than price 11 HOLD PREDICTED \n",
            "cutoff value of 14 bigger than price 8 HOLD PREDICTED \n",
            "cutoff value of 14 bigger than price 9 HOLD PREDICTED \n",
            "cutoff value of 14 bigger than price 6 HOLD PREDICTED \n",
            "cutoff value of 14 bigger than price 4 HOLD PREDICTED \n",
            "cutoff value of 14 bigger than price 3 HOLD PREDICTED \n",
            "cutoff value of 14 bigger than price 10 HOLD PREDICTED \n",
            "cutoff value of 14 bigger than price 3 HOLD PREDICTED \n",
            "cutoff value of 14 bigger than price 8 HOLD PREDICTED \n",
            "cutoff value of 14 bigger than price 5 HOLD PREDICTED \n",
            "cutoff value of 13 bigger than price 2 HOLD PREDICTED \n",
            "cutoff value of 13 bigger than price 4 HOLD PREDICTED \n",
            "cutoff value of 13 bigger than price 7 HOLD PREDICTED \n",
            "util PT :  2.274774822671902\n",
            "util PT :  4.549549645343804\n",
            "util PT :  6.824324468015706\n",
            "util PT :  9.099099290687608\n",
            "util PT :  11.373874113359511\n",
            "util PT :  13.648648936031412\n",
            "util PT :  15.923423758703315\n",
            "util PT :  18.198198581375216\n",
            "util PT :  20.472973404047124\n",
            "util PT :  22.747748226719022\n",
            "util PT :  25.022523049390923\n",
            "util PT :  27.297297872062824\n",
            "util PT :  29.572072694734736\n",
            "util PT :  31.84684751740663\n",
            "util PT :  34.12162234007853\n",
            "util PT :  36.39639716275043\n",
            "util PT :  38.67117198542233\n",
            "util PT :  40.94594680809425\n",
            "util PT :  43.220721630766135\n",
            "util PT :  45.495496453438044\n",
            "util PT :  47.770271276109945\n",
            "util PT :  50.045046098781846\n",
            "util PT :  52.31982092145375\n",
            "util PT :  54.59459574412565\n",
            "util PT :  56.86937056679754\n",
            "util PT :  59.14414538946947\n",
            "util PT :  61.41892021214138\n",
            "util PT :  63.69369503481326\n",
            "util PT :  65.96846985748516\n",
            "util PT :  68.24324468015706\n",
            "util PT :  70.51801950282895\n",
            "util PT :  72.79279432550086\n",
            "util PT :  75.06756914817278\n",
            "util PT :  77.34234397084467\n",
            "util PT :  79.6171187935166\n",
            "util PT :  81.8918936161885\n",
            "util PT :  84.16666843886038\n",
            "util PT :  86.44144326153227\n",
            "util PT :  88.71621808420417\n",
            "util PT :  90.99099290687609\n",
            "util PT :  93.26576772954799\n",
            "util PT :  95.54054255221989\n",
            "util PT :  97.81531737489179\n",
            "util PT :  100.09009219756369\n",
            "util PT :  102.36486702023561\n",
            "util PT :  104.6396418429075\n",
            "util PT :  106.91441666557938\n",
            "util PT :  109.1891914882513\n",
            "util PT :  111.46396631092323\n",
            "util PT :  113.73874113359508\n",
            "util PT :  116.01351595626701\n",
            "util PT :  118.28829077893894\n",
            "util PT :  120.5630656016108\n",
            "util PT :  122.83784042428276\n",
            "util PT :  125.11261524695462\n",
            "util PT :  127.38739006962652\n",
            "cutoff value of 13 bigger than price 3 HOLD PREDICTED \n",
            "cutoff value of 13 bigger than price 8 HOLD PREDICTED \n",
            "cutoff value of 13 bigger than price 3 HOLD PREDICTED \n",
            "cutoff value of 13 bigger than price 4 HOLD PREDICTED \n",
            "cutoff value of 13 bigger than price 1 HOLD PREDICTED \n",
            "cutoff value of 13 bigger than price 7 HOLD PREDICTED \n",
            "cutoff value of 13 bigger than price 8 HOLD PREDICTED \n",
            "cutoff value of 13 bigger than price 4 HOLD PREDICTED \n",
            "cutoff value of 13 bigger than price 5 HOLD PREDICTED \n",
            "cutoff value of 13 bigger than price 7 HOLD PREDICTED \n",
            "cutoff value of 13 bigger than price 5 HOLD PREDICTED \n",
            "cutoff value of 12 bigger than price 3 HOLD PREDICTED \n",
            "util PT :  0.17751127468587596\n",
            "util PT :  0.3550225493717519\n",
            "util PT :  0.5325338240576277\n",
            "util PT :  0.7100450987435039\n",
            "util PT :  0.8875563734293801\n",
            "util PT :  1.0650676481152554\n",
            "util PT :  1.242578922801132\n",
            "util PT :  1.4200901974870077\n",
            "util PT :  1.5976014721728848\n",
            "util PT :  1.7751127468587602\n",
            "util PT :  1.9526240215446342\n",
            "util PT :  2.130135296230511\n",
            "util PT :  2.307646570916389\n",
            "util PT :  2.485157845602264\n",
            "util PT :  2.6626691202881423\n",
            "util PT :  2.8401803949740154\n",
            "cutoff value of 12 bigger than price 6 HOLD PREDICTED \n",
            "cutoff value of 12 bigger than price 5 HOLD PREDICTED \n",
            "cutoff value of 12 bigger than price 7 HOLD PREDICTED \n",
            "cutoff value of 12 bigger than price 9 HOLD PREDICTED \n",
            "cutoff value of 12 bigger than price 3 HOLD PREDICTED \n",
            "cutoff value of 11 bigger than price 3 HOLD PREDICTED \n",
            "cutoff value of 11 bigger than price 8 HOLD PREDICTED \n",
            "cutoff value of 11 bigger than price 3 HOLD PREDICTED \n",
            "cutoff value of 10 bigger than price 5 HOLD PREDICTED \n",
            "util PT :  0.8904399999999999\n",
            "util PT :  1.7808799999999998\n",
            "util PT :  2.67132\n",
            "util PT :  3.5617599999999996\n",
            "util PT :  4.4521999999999995\n",
            "util PT :  5.34264\n",
            "util PT :  6.233080000000001\n",
            "util PT :  7.123519999999999\n",
            "util PT :  8.01396\n",
            "util PT :  8.904399999999999\n",
            "util PT :  9.794840000000002\n",
            "util PT :  10.68528\n",
            "util PT :  11.575719999999997\n",
            "util PT :  12.466160000000002\n",
            "util PT :  13.356599999999993\n",
            "util PT :  14.247039999999998\n",
            "util PT :  15.137479999999993\n",
            "util PT :  16.02792\n",
            "util PT :  16.91836\n",
            "util PT :  17.808799999999998\n",
            "util PT :  18.699239999999996\n",
            "util PT :  19.589680000000005\n",
            "util PT :  20.48012\n",
            "util PT :  21.37056\n",
            "util PT :  22.261\n",
            "util PT :  23.151439999999994\n",
            "util PT :  24.041879999999992\n",
            "util PT :  24.932320000000004\n",
            "cutoff value of 9 bigger than price 6 HOLD PREDICTED \n",
            "cutoff value of 7 bigger than price 4 HOLD PREDICTED \n",
            "DATA ADDED :)\n"
          ]
        }
      ],
      "source": [
        "PT_p1,p1_cutoffs=fitPT_TW(0, 1,1,1,1,68)"
      ]
    },
    {
      "cell_type": "code",
      "execution_count": 118,
      "metadata": {
        "colab": {
          "base_uri": "https://localhost:8080/"
        },
        "id": "Uubg_Nva57Ax",
        "outputId": "55809a35-2f3c-4a13-c213-f3c32b68cade"
      },
      "outputs": [
        {
          "name": "stdout",
          "output_type": "stream",
          "text": [
            ".\n",
            ".\n",
            ".\n",
            ".\n",
            ".\n",
            ".\n",
            ".\n",
            ".\n",
            ".\n",
            ".\n",
            ".\n",
            ".\n",
            ".\n",
            ".\n",
            ".\n",
            ".\n",
            ".\n",
            ".\n",
            ".\n",
            ".\n",
            ".\n",
            ".\n",
            ".\n",
            ".\n",
            ".\n",
            ".\n",
            ".\n",
            ".\n",
            ".\n",
            ".\n",
            ".\n",
            ".\n",
            ".\n",
            ".\n",
            ".\n",
            ".\n",
            ".\n",
            ".\n",
            ".\n",
            ".\n",
            ".\n",
            ".\n",
            ".\n",
            ".\n",
            ".\n",
            ".\n",
            ".\n",
            ".\n",
            ".\n",
            ".\n",
            ".\n",
            ".\n",
            ".\n",
            ".\n",
            ".\n",
            ".\n",
            ".\n",
            ".\n",
            ".\n",
            ".\n",
            ".\n",
            ".\n",
            ".\n",
            ".\n",
            "DATA ADDED :)\n"
          ]
        },
        {
          "data": {
            "text/plain": [
              "([4,\n",
              "  0,\n",
              "  0,\n",
              "  28,\n",
              "  0,\n",
              "  0,\n",
              "  0,\n",
              "  0,\n",
              "  0,\n",
              "  0,\n",
              "  0,\n",
              "  0,\n",
              "  0,\n",
              "  16,\n",
              "  0,\n",
              "  0,\n",
              "  0,\n",
              "  0,\n",
              "  0,\n",
              "  0,\n",
              "  0,\n",
              "  0,\n",
              "  0,\n",
              "  0,\n",
              "  0,\n",
              "  0,\n",
              "  56,\n",
              "  0,\n",
              "  0,\n",
              "  0,\n",
              "  0,\n",
              "  0,\n",
              "  0,\n",
              "  0,\n",
              "  0,\n",
              "  0,\n",
              "  0,\n",
              "  0,\n",
              "  0,\n",
              "  0,\n",
              "  0,\n",
              "  0,\n",
              "  0,\n",
              "  0,\n",
              "  0,\n",
              "  0,\n",
              "  0,\n",
              "  0,\n",
              "  0,\n",
              "  0,\n",
              "  0,\n",
              "  0,\n",
              "  0,\n",
              "  0,\n",
              "  0,\n",
              "  0,\n",
              "  0,\n",
              "  0,\n",
              "  0,\n",
              "  0,\n",
              "  0,\n",
              "  0,\n",
              "  0,\n",
              "  0,\n",
              "  0,\n",
              "  0,\n",
              "  0,\n",
              "  0],\n",
              " [1,\n",
              "  7,\n",
              "  9,\n",
              "  10,\n",
              "  10,\n",
              "  11,\n",
              "  11,\n",
              "  11,\n",
              "  12,\n",
              "  12,\n",
              "  12,\n",
              "  12,\n",
              "  12,\n",
              "  12,\n",
              "  12,\n",
              "  13,\n",
              "  13,\n",
              "  13,\n",
              "  13,\n",
              "  13,\n",
              "  13,\n",
              "  13,\n",
              "  13,\n",
              "  13,\n",
              "  13,\n",
              "  13,\n",
              "  13,\n",
              "  13,\n",
              "  13,\n",
              "  13,\n",
              "  14,\n",
              "  14,\n",
              "  14,\n",
              "  14,\n",
              "  14,\n",
              "  14,\n",
              "  14,\n",
              "  14,\n",
              "  14,\n",
              "  14,\n",
              "  14,\n",
              "  14,\n",
              "  14,\n",
              "  14,\n",
              "  14,\n",
              "  14,\n",
              "  14,\n",
              "  14,\n",
              "  14,\n",
              "  14,\n",
              "  14,\n",
              "  14,\n",
              "  14,\n",
              "  14,\n",
              "  14,\n",
              "  14,\n",
              "  14,\n",
              "  14,\n",
              "  14,\n",
              "  14,\n",
              "  14,\n",
              "  14,\n",
              "  14,\n",
              "  14,\n",
              "  14,\n",
              "  14,\n",
              "  14,\n",
              "  14])"
            ]
          },
          "execution_count": 118,
          "metadata": {},
          "output_type": "execute_result"
        }
      ],
      "source": [
        "fitPTv2(0,1,1,1,1)"
      ]
    },
    {
      "cell_type": "code",
      "execution_count": 119,
      "metadata": {
        "colab": {
          "base_uri": "https://localhost:8080/"
        },
        "id": "MU098W2a55HL",
        "outputId": "45e68ed5-1dac-4f47-e2e1-2d86711aa416"
      },
      "outputs": [
        {
          "data": {
            "text/plain": [
              "[0,\n",
              " 0,\n",
              " 0,\n",
              " 0,\n",
              " 0,\n",
              " 0,\n",
              " 0,\n",
              " 0,\n",
              " 0,\n",
              " 0,\n",
              " 0,\n",
              " 0,\n",
              " 0,\n",
              " 0,\n",
              " 0,\n",
              " 0,\n",
              " 0,\n",
              " 0,\n",
              " 0,\n",
              " 0,\n",
              " 0,\n",
              " 0,\n",
              " 0,\n",
              " 0,\n",
              " 0,\n",
              " 0,\n",
              " 0,\n",
              " 0,\n",
              " 0,\n",
              " 0,\n",
              " 0,\n",
              " 0,\n",
              " 0,\n",
              " 0,\n",
              " 0,\n",
              " 0,\n",
              " 0,\n",
              " 0,\n",
              " 0,\n",
              " 0,\n",
              " 0,\n",
              " 56,\n",
              " 0,\n",
              " 0,\n",
              " 0,\n",
              " 0,\n",
              " 0,\n",
              " 0,\n",
              " 0,\n",
              " 0,\n",
              " 0,\n",
              " 0,\n",
              " 0,\n",
              " 0,\n",
              " 16,\n",
              " 0,\n",
              " 0,\n",
              " 0,\n",
              " 0,\n",
              " 0,\n",
              " 0,\n",
              " 0,\n",
              " 0,\n",
              " 0,\n",
              " 28,\n",
              " 0,\n",
              " 0,\n",
              " 4]"
            ]
          },
          "execution_count": 119,
          "metadata": {},
          "output_type": "execute_result"
        }
      ],
      "source": [
        "PT_p1"
      ]
    },
    {
      "cell_type": "code",
      "execution_count": 120,
      "metadata": {
        "colab": {
          "base_uri": "https://localhost:8080/"
        },
        "id": "hk0wtcy4zDCl",
        "outputId": "07d0ca61-d43f-4376-de32-4b697a2231ff"
      },
      "outputs": [
        {
          "data": {
            "text/plain": [
              "[1,\n",
              " 7,\n",
              " 9,\n",
              " 10,\n",
              " 10,\n",
              " 11,\n",
              " 11,\n",
              " 11,\n",
              " 12,\n",
              " 12,\n",
              " 12,\n",
              " 12,\n",
              " 12,\n",
              " 12,\n",
              " 12,\n",
              " 13,\n",
              " 13,\n",
              " 13,\n",
              " 13,\n",
              " 13,\n",
              " 13,\n",
              " 13,\n",
              " 13,\n",
              " 13,\n",
              " 13,\n",
              " 13,\n",
              " 13,\n",
              " 13,\n",
              " 13,\n",
              " 13,\n",
              " 14,\n",
              " 14,\n",
              " 14,\n",
              " 14,\n",
              " 14,\n",
              " 14,\n",
              " 14,\n",
              " 14,\n",
              " 14,\n",
              " 14,\n",
              " 14,\n",
              " 14,\n",
              " 14,\n",
              " 14,\n",
              " 14,\n",
              " 14,\n",
              " 14,\n",
              " 14,\n",
              " 14,\n",
              " 14,\n",
              " 14,\n",
              " 14,\n",
              " 14,\n",
              " 14,\n",
              " 14,\n",
              " 14,\n",
              " 14,\n",
              " 14,\n",
              " 14,\n",
              " 14,\n",
              " 14,\n",
              " 14,\n",
              " 14,\n",
              " 14,\n",
              " 14,\n",
              " 14,\n",
              " 14,\n",
              " 14]"
            ]
          },
          "execution_count": 120,
          "metadata": {},
          "output_type": "execute_result"
        }
      ],
      "source": [
        "p1_cutoffs"
      ]
    },
    {
      "cell_type": "code",
      "execution_count": 149,
      "metadata": {
        "id": "SIJuCJXVL66V"
      },
      "outputs": [],
      "source": [
        "def h_probPT_DD(day, f, c_o,gam):\n",
        "  prob=1.0\n",
        "  for h in range(day-1,f+2): # day is added 1  here\n",
        "    prob*=sum(p[k] for k in range(1,c_o[day-1])) # I don't think this will work, replacement is c_o[day-h] as that is what Yudelson did TALK tO GLASS # Trying c_o[day-1]\n",
        "  return prob"
      ]
    },
    {
      "cell_type": "code",
      "execution_count": 166,
      "metadata": {},
      "outputs": [],
      "source": [
        "def obj_gain_DD(day, price, sold, alpha, beta, lam, gam, c_o,j, k):\n",
        "  gain=sold*(price-j)/(1+k*(day-1))\n",
        "  gain=gain**alpha\n",
        "  gain*=prelec(p[j],gam)\n",
        "  return gain\n"
      ]
    },
    {
      "cell_type": "code",
      "execution_count": 167,
      "metadata": {},
      "outputs": [],
      "source": [
        "def obj_loss_DD(day, price, sold, alpha, beta, lam, gam, c_o,j, k):\n",
        "  loss=sold*(j-price)/(1+k*(day-1))\n",
        "  loss=loss**beta\n",
        "  loss*=lam*prelec(p[j],gam)\n",
        "  return loss"
      ]
    },
    {
      "cell_type": "code",
      "execution_count": 153,
      "metadata": {
        "id": "6WEnYUE6HXXP"
      },
      "outputs": [],
      "source": [
        "def PT_DD(day,price,sold,alpha,beta,lam,gam,c_o, k):\n",
        "  # since day starts from 0, 1, 2,3,4 for the list DAYS but the equation takes d=1 as the last day so all days in this equation are added 1\n",
        "  lb_1=c_o[day-1] # this stays the same as it is just the last days cutoff value\n",
        "  ub_1=price\n",
        "  print(\"ub_1-lb_1: \", ub_1-lb_1)\n",
        "  gain= sum(\n",
        "      (\n",
        "          prelec(p[j],gam)*(sold*(price-j)/(1+k*(day-1)))**alpha # day is added 1 here\n",
        "\n",
        "       )\n",
        "      for j in range(lb_1, ub_1)\n",
        "      )\n",
        "  lb_2=max(lb_1,price+1)\n",
        "  ub_2=I+1\n",
        "  print(\"ub_2-lb_2: \", ub_2-lb_2)\n",
        "  loss= sum(\n",
        "\n",
        "            (\n",
        "              prelec(\n",
        "                  (p[j] + sum(h_probPT_DD(day,f,c_o,gam) for f in range(day-2,0,-1))*p[j] # day is added 1 here edit. not anymore\n",
        "               ),gam)\n",
        "\n",
        "\n",
        "            )\n",
        "            * lam*(sold*(j-price)/(1+k*(day-1)))**beta # day is added 1 here\n",
        "            for j in range(lb_2,ub_2)\n",
        "\n",
        "  )\n",
        "\n",
        "  util=gain-loss\n",
        "  print(\"g:\", gain)\n",
        "  print(\"l\", loss)\n",
        "  return util\n"
      ]
    },
    {
      "cell_type": "code",
      "execution_count": 195,
      "metadata": {},
      "outputs": [],
      "source": [
        "def PT_DD_v2(day,price,sold,alpha,beta,lam,gam,c_o, kay):\n",
        "  util=0\n",
        "  for j in range(c_o[day-1],price):\n",
        "    util+=obj_gain_DD(day,price,sold,alpha,beta,lam,gam,c_o,j,kay)\n",
        "\n",
        "\n",
        "  for j in range(max(price+1,c_o[day-1]), I+1):\n",
        "\n",
        "    util-=obj_loss_DD(day,price,sold,alpha,beta,lam,gam,c_o,j,kay)\n",
        "\n",
        "\n",
        "  for k in range(1,day+2):\n",
        "\n",
        "    h_prob=h_probPTv2(day,k-1,c_o,gam)\n",
        "    #h_prob=h_probPT(day_f=k, actual_day=day,gamma=gam,cutoff=c_o)\n",
        "\n",
        "    gain_prob=0\n",
        "    for j in range(c_o[day-k],price):\n",
        "      gain_prob+=obj_gain_DD(day,price,sold,alpha,beta,lam,gam,c_o,j,kay)\n",
        "\n",
        "    loss_prob=0\n",
        "    for j in range(max(price+1,c_o[day-k]), I+1):\n",
        "      loss_prob+=obj_loss_DD(day,price,sold,alpha,beta,lam,gam,c_o,j,kay)\n",
        "\n",
        "    util+=h_prob*(gain_prob-loss_prob)\n",
        "    # util += gain_prob - (h_prob * loss_prob)\n",
        "\n",
        "\n",
        "  # # since day starts from 0, 1, 2,3,4 for the list DAYS but the equation takes d=1 as the last day so all days in this equation are added 1\n",
        "  # lb_1=c_o[day-1] # this stays the same as it is just the last days cutoff value\n",
        "  # ub_1=price\n",
        "  # print(\"ub_1-lb_1: \", ub_1-lb_1)\n",
        "\n",
        "\n",
        "#   gain= sum(\n",
        "#       (\n",
        "#           prelec(p[j],gam)*(sold*(price-j)/(1+k*(day-1)))**alpha # day is added 1 here\n",
        "\n",
        "#        )\n",
        "#       for j in range(lb_1, ub_1)\n",
        "#       )\n",
        "#   lb_2=max(lb_1,price+1)\n",
        "#   ub_2=I+1\n",
        "#   print(\"ub_2-lb_2: \", ub_2-lb_2)\n",
        "#   loss= sum(\n",
        "\n",
        "#             (\n",
        "#               prelec(\n",
        "#                   (p[j] + sum(h_probPT_DD(day,f,c_o,gam) for f in range(day-2,0,-1))*p[j] # day is added 1 here edit. not anymore\n",
        "#                ),gam)\n",
        "\n",
        "\n",
        "#             )\n",
        "#             * lam*(sold*(j-price)/(1+k*(day-1)))**beta # day is added 1 here\n",
        "#             for j in range(lb_2,ub_2)\n",
        "\n",
        "#   )\n",
        "  \n",
        "\n",
        "  # util=gain-loss\n",
        "  # print(\"g:\", gain_prob)\n",
        "  # print(\"l\", loss_prob)\n",
        "  print(\"util:\", util)\n",
        "  return util\n"
      ]
    },
    {
      "cell_type": "code",
      "execution_count": 162,
      "metadata": {
        "id": "bkOOrNi7R2PI"
      },
      "outputs": [],
      "source": [
        "def cutoff_PT_DD_list(a,b,l,g,k):\n",
        "\n",
        "  cutoffs=[1] #last day (d=1) but we used day=0\n",
        "  for day in DAYS:#0,1,2,3 but actual days start 1, 2,3,4\n",
        "    if day==0: # last day\n",
        "      continue\n",
        "    price=cutoffs[day-1] # last day, also the same as the lower bound for the gain in PT-DD\n",
        "\n",
        "\n",
        "    prosp = PT_DD_v2(day,price,1,a,b,l,g,cutoffs,k) # sold is one as long as 1 will sell its fine\n",
        "    print(prosp)\n",
        "    #prosp=PTv2(day,price,1,a,b,l,g,cutoffs)\n",
        "\n",
        "    counts=0\n",
        "    while (prosp <= 0 and price < I):\n",
        "                # Continually increment price until it is worthwhile to sell\n",
        "                price += 1\n",
        "                counts+=1\n",
        "\n",
        "                prosp = PT_DD_v2(day,price,1,a,b,l,g,cutoffs,k)\n",
        "                print(\"prosp on day\", day, \"is \", prosp)\n",
        "                #prosp=PTv2(day,price,1,a,b,l,g,cutoffs)\n",
        "\n",
        "\n",
        "\n",
        "    cutoffs.append(price)\n",
        "    print(\"counts from the previous value of\", cutoffs[day-1], \" is \", counts,\"cutoff price is now\", price, \"for day \",day)\n",
        "  return cutoffs"
      ]
    },
    {
      "cell_type": "code",
      "execution_count": 193,
      "metadata": {
        "id": "Uo7HpUYko1w-"
      },
      "outputs": [],
      "source": [
        "def max_units_PT_DD(day,price, stored,a,b,l,g,k,cut_offs):\n",
        "\n",
        "  sells=[]\n",
        "  pred=0\n",
        "  greatest=-100\n",
        "\n",
        "  for units in range(1,stored+1):\n",
        "\n",
        "    prosp=PT_DD_v2(day,price,units,a,b,l,g,cut_offs,k)\n",
        "\n",
        "    if prosp>greatest:\n",
        "      greatest=prosp\n",
        "      pred=units\n",
        "      sells.append(units)\n",
        "\n",
        "#  print(\"all possibile units to sell at\", sells)\n",
        "\n",
        " # print(\"len of possible sells:\", len(sells))\n",
        "\n",
        "    #if prosp>greatest:\n",
        "       # greatest=prosp\n",
        "       # pred=units\n",
        "  print(\"predicted_unit:\", pred)\n",
        "  return pred"
      ]
    },
    {
      "cell_type": "code",
      "execution_count": 125,
      "metadata": {
        "id": "ZFxg6RinoRUg"
      },
      "outputs": [],
      "source": [
        "def fit_PT_DD(participant,a,b,l,g,k):\n",
        "\n",
        "  predictions=[]                 #[0]*68\n",
        "  #cut_offs=c_o\n",
        "  cut_offs=cutoff_PT_DD_list(a,b,l,g,k)            #cutoff_PT(a,b,l,g,participant)\n",
        "\n",
        "\n",
        "  for day in DAYS: # 1,2,3\n",
        "    pred=0\n",
        "    vals=info_return(day, participant) # sold, stored,price\n",
        "    stored=vals[1]\n",
        "    price=vals[2]\n",
        "\n",
        "    ''' c_o=cutoff_PT(a,b,l,g,day,cut_offs,stored)\n",
        "    print(\"cut off price for day\", day,\"is \", c_o)\n",
        "    cut_offs[day-1]=c_o'''\n",
        "    if day==0:\n",
        "      pred=stored\n",
        "    else:\n",
        "\n",
        "      if price>=cut_offs[day]:\n",
        "\n",
        "        pred=max_units_PT_DD(day,price,stored,a,b,l,g, k,cut_offs)\n",
        "      else:\n",
        "        print(\".\")\n",
        "\n",
        "    predictions.append(pred)\n",
        "    #predictions.insert(day-1,pred)\n",
        "  pred_series=pd.Series(predictions)\n",
        "  #predictions_df['Participant '+str(participant+1)]=pred_series.values\n",
        " # predictions_df['Participant' +str(participant+1)+' cutoffs']=pd.Series(cut_offs).values\n",
        "  print(\"DATA ADDED :)\")\n",
        "  return predictions,cut_offs\n"
      ]
    },
    {
      "cell_type": "code",
      "execution_count": null,
      "metadata": {},
      "outputs": [],
      "source": [
        "x=cutoff_pt_list(.59,.629,1.09,0.98)"
      ]
    },
    {
      "cell_type": "code",
      "execution_count": 155,
      "metadata": {},
      "outputs": [
        {
          "data": {
            "text/plain": [
              "[1,\n",
              " 7,\n",
              " 10,\n",
              " 13,\n",
              " 15,\n",
              " 15,\n",
              " 15,\n",
              " 15,\n",
              " 15,\n",
              " 15,\n",
              " 15,\n",
              " 15,\n",
              " 15,\n",
              " 15,\n",
              " 15,\n",
              " 15,\n",
              " 15,\n",
              " 15,\n",
              " 15,\n",
              " 15,\n",
              " 15,\n",
              " 15,\n",
              " 15,\n",
              " 15,\n",
              " 15,\n",
              " 15,\n",
              " 15,\n",
              " 15,\n",
              " 15,\n",
              " 15,\n",
              " 15,\n",
              " 15,\n",
              " 15,\n",
              " 15,\n",
              " 15,\n",
              " 15,\n",
              " 15,\n",
              " 15,\n",
              " 15,\n",
              " 15,\n",
              " 15,\n",
              " 15,\n",
              " 15,\n",
              " 15,\n",
              " 15,\n",
              " 15,\n",
              " 15,\n",
              " 15,\n",
              " 15,\n",
              " 15,\n",
              " 15,\n",
              " 15,\n",
              " 15,\n",
              " 15,\n",
              " 15,\n",
              " 15,\n",
              " 15,\n",
              " 15,\n",
              " 15,\n",
              " 15,\n",
              " 15,\n",
              " 15,\n",
              " 15,\n",
              " 15,\n",
              " 15,\n",
              " 15,\n",
              " 15,\n",
              " 15]"
            ]
          },
          "execution_count": 155,
          "metadata": {},
          "output_type": "execute_result"
        }
      ],
      "source": [
        "x"
      ]
    },
    {
      "cell_type": "code",
      "execution_count": 208,
      "metadata": {},
      "outputs": [
        {
          "name": "stdout",
          "output_type": "stream",
          "text": [
            "util: -6.460280289645944\n",
            "-6.460280289645944\n",
            "util: -5.5040039930034155\n",
            "prosp on day 1 is  -5.5040039930034155\n",
            "util: -4.430026692937786\n",
            "prosp on day 1 is  -4.430026692937786\n",
            "util: -3.2546179856297046\n",
            "prosp on day 1 is  -3.2546179856297046\n",
            "util: -2.015048448740438\n",
            "prosp on day 1 is  -2.015048448740438\n",
            "util: -0.7942367429620703\n",
            "prosp on day 1 is  -0.7942367429620703\n",
            "util: 0.35446525931903905\n",
            "prosp on day 1 is  0.35446525931903905\n",
            "counts from the previous value of 1  is  6 cutoff price is now 7 for day  1\n",
            "util: -1.3051301114176674\n",
            "-1.3051301114176674\n",
            "util: -0.5275550529507809\n",
            "prosp on day 2 is  -0.5275550529507809\n",
            "util: 0.22906001981351437\n",
            "prosp on day 2 is  0.22906001981351437\n",
            "counts from the previous value of 7  is  2 cutoff price is now 9 for day  2\n",
            "util: -0.3487372271771659\n",
            "-0.3487372271771659\n",
            "util: 0.2636915702401923\n",
            "prosp on day 3 is  0.2636915702401923\n",
            "counts from the previous value of 9  is  1 cutoff price is now 10 for day  3\n",
            "util: -0.052627846707293646\n",
            "-0.052627846707293646\n",
            "util: 0.480167421359759\n",
            "prosp on day 4 is  0.480167421359759\n",
            "counts from the previous value of 10  is  1 cutoff price is now 11 for day  4\n",
            "util: 0.2457048873200836\n",
            "0.2457048873200836\n",
            "counts from the previous value of 11  is  0 cutoff price is now 11 for day  5\n",
            "util: 0.10154386946791749\n",
            "0.10154386946791749\n",
            "counts from the previous value of 11  is  0 cutoff price is now 11 for day  6\n",
            "util: -0.007577161380935282\n",
            "-0.007577161380935282\n",
            "util: 0.4381392251645899\n",
            "prosp on day 7 is  0.4381392251645899\n",
            "counts from the previous value of 11  is  1 cutoff price is now 12 for day  7\n",
            "util: 0.3188905379475546\n",
            "0.3188905379475546\n",
            "counts from the previous value of 12  is  0 cutoff price is now 12 for day  8\n",
            "util: 0.2412895730164406\n",
            "0.2412895730164406\n",
            "counts from the previous value of 12  is  0 cutoff price is now 12 for day  9\n",
            "util: 0.17598692042187736\n",
            "0.17598692042187736\n",
            "counts from the previous value of 12  is  0 cutoff price is now 12 for day  10\n",
            "util: 0.12051043999011815\n",
            "0.12051043999011815\n",
            "counts from the previous value of 12  is  0 cutoff price is now 12 for day  11\n",
            "util: 0.07302349176567824\n",
            "0.07302349176567824\n",
            "counts from the previous value of 12  is  0 cutoff price is now 12 for day  12\n",
            "util: 0.0321270668987039\n",
            "0.0321270668987039\n",
            "counts from the previous value of 12  is  0 cutoff price is now 12 for day  13\n",
            "util: -0.003267077686685993\n",
            "-0.003267077686685993\n",
            "util: 0.37340047452684966\n",
            "prosp on day 14 is  0.37340047452684966\n",
            "counts from the previous value of 12  is  1 cutoff price is now 13 for day  14\n",
            "util: 0.32663026223806246\n",
            "0.32663026223806246\n",
            "counts from the previous value of 13  is  0 cutoff price is now 13 for day  15\n",
            "util: 0.2973920041561292\n",
            "0.2973920041561292\n",
            "counts from the previous value of 13  is  0 cutoff price is now 13 for day  16\n",
            "util: 0.2706198602507315\n",
            "0.2706198602507315\n",
            "counts from the previous value of 13  is  0 cutoff price is now 13 for day  17\n",
            "util: 0.24600136828860342\n",
            "0.24600136828860342\n",
            "counts from the previous value of 13  is  0 cutoff price is now 13 for day  18\n",
            "util: 0.2232777120797998\n",
            "0.2232777120797998\n",
            "counts from the previous value of 13  is  0 cutoff price is now 13 for day  19\n",
            "util: 0.20223233736873814\n",
            "0.20223233736873814\n",
            "counts from the previous value of 13  is  0 cutoff price is now 13 for day  20\n",
            "util: 0.18268239575467182\n",
            "0.18268239575467182\n",
            "counts from the previous value of 13  is  0 cutoff price is now 13 for day  21\n",
            "util: 0.16447222141594708\n",
            "0.16447222141594708\n",
            "counts from the previous value of 13  is  0 cutoff price is now 13 for day  22\n",
            "util: 0.14746829282126617\n",
            "0.14746829282126617\n",
            "counts from the previous value of 13  is  0 cutoff price is now 13 for day  23\n",
            "util: 0.1315552952490309\n",
            "0.1315552952490309\n",
            "counts from the previous value of 13  is  0 cutoff price is now 13 for day  24\n",
            "util: 0.11663301028949835\n",
            "0.11663301028949835\n",
            "counts from the previous value of 13  is  0 cutoff price is now 13 for day  25\n",
            "util: 0.10261383425078102\n",
            "0.10261383425078102\n",
            "counts from the previous value of 13  is  0 cutoff price is now 13 for day  26\n",
            "util: 0.08942078022762184\n",
            "0.08942078022762184\n",
            "counts from the previous value of 13  is  0 cutoff price is now 13 for day  27\n",
            "util: 0.07698585599942419\n",
            "0.07698585599942419\n",
            "counts from the previous value of 13  is  0 cutoff price is now 13 for day  28\n",
            "util: 0.06524873677087514\n",
            "0.06524873677087514\n",
            "counts from the previous value of 13  is  0 cutoff price is now 13 for day  29\n",
            "util: 0.05415567128026754\n",
            "0.05415567128026754\n",
            "counts from the previous value of 13  is  0 cutoff price is now 13 for day  30\n",
            "util: 0.04365857414786546\n",
            "0.04365857414786546\n",
            "counts from the previous value of 13  is  0 cutoff price is now 13 for day  31\n",
            "util: 0.03371426800140397\n",
            "0.03371426800140397\n",
            "counts from the previous value of 13  is  0 cutoff price is now 13 for day  32\n",
            "util: 0.02428384692377379\n",
            "0.02428384692377379\n",
            "counts from the previous value of 13  is  0 cutoff price is now 13 for day  33\n",
            "util: 0.015332138838005119\n",
            "0.015332138838005119\n",
            "counts from the previous value of 13  is  0 cutoff price is now 13 for day  34\n",
            "util: 0.006827249086662997\n",
            "0.006827249086662997\n",
            "counts from the previous value of 13  is  0 cutoff price is now 13 for day  35\n",
            "util: -0.0012598289577866462\n",
            "-0.0012598289577866462\n",
            "util: 0.3607170488825678\n",
            "prosp on day 36 is  0.3607170488825678\n",
            "counts from the previous value of 13  is  1 cutoff price is now 14 for day  36\n",
            "util: 0.3519676110602591\n",
            "0.3519676110602591\n",
            "counts from the previous value of 14  is  0 cutoff price is now 14 for day  37\n",
            "util: 0.35001582218071403\n",
            "0.35001582218071403\n",
            "counts from the previous value of 14  is  0 cutoff price is now 14 for day  38\n",
            "util: 0.34823011443563867\n",
            "0.34823011443563867\n",
            "counts from the previous value of 14  is  0 cutoff price is now 14 for day  39\n",
            "util: 0.34660145266752856\n",
            "0.34660145266752856\n",
            "counts from the previous value of 14  is  0 cutoff price is now 14 for day  40\n",
            "util: 0.3451216036897555\n",
            "0.3451216036897555\n",
            "counts from the previous value of 14  is  0 cutoff price is now 14 for day  41\n",
            "util: 0.3437830511704231\n",
            "0.3437830511704231\n",
            "counts from the previous value of 14  is  0 cutoff price is now 14 for day  42\n",
            "util: 0.34257892131497\n",
            "0.34257892131497\n",
            "counts from the previous value of 14  is  0 cutoff price is now 14 for day  43\n",
            "util: 0.3415029177710921\n",
            "0.3415029177710921\n",
            "counts from the previous value of 14  is  0 cutoff price is now 14 for day  44\n",
            "util: 0.3405492644387167\n",
            "0.3405492644387167\n",
            "counts from the previous value of 14  is  0 cutoff price is now 14 for day  45\n",
            "util: 0.3397126550797493\n",
            "0.3397126550797493\n",
            "counts from the previous value of 14  is  0 cutoff price is now 14 for day  46\n",
            "util: 0.3389882087964987\n",
            "0.3389882087964987\n",
            "counts from the previous value of 14  is  0 cutoff price is now 14 for day  47\n",
            "util: 0.33837143059147073\n",
            "0.33837143059147073\n",
            "counts from the previous value of 14  is  0 cutoff price is now 14 for day  48\n",
            "util: 0.3378581763403652\n",
            "0.3378581763403652\n",
            "counts from the previous value of 14  is  0 cutoff price is now 14 for day  49\n",
            "util: 0.3374446216092825\n",
            "0.3374446216092825\n",
            "counts from the previous value of 14  is  0 cutoff price is now 14 for day  50\n",
            "util: 0.3371272338299628\n",
            "0.3371272338299628\n",
            "counts from the previous value of 14  is  0 cutoff price is now 14 for day  51\n",
            "util: 0.33690274741634274\n",
            "0.33690274741634274\n",
            "counts from the previous value of 14  is  0 cutoff price is now 14 for day  52\n",
            "util: 0.336768141464137\n",
            "0.336768141464137\n",
            "counts from the previous value of 14  is  0 cutoff price is now 14 for day  53\n",
            "util: 0.3367206197244949\n",
            "0.3367206197244949\n",
            "counts from the previous value of 14  is  0 cutoff price is now 14 for day  54\n",
            "util: 0.3367575925845651\n",
            "0.3367575925845651\n",
            "counts from the previous value of 14  is  0 cutoff price is now 14 for day  55\n",
            "util: 0.3368766608233046\n",
            "0.3368766608233046\n",
            "counts from the previous value of 14  is  0 cutoff price is now 14 for day  56\n",
            "util: 0.33707560094114175\n",
            "0.33707560094114175\n",
            "counts from the previous value of 14  is  0 cutoff price is now 14 for day  57\n",
            "util: 0.33735235188795065\n",
            "0.33735235188795065\n",
            "counts from the previous value of 14  is  0 cutoff price is now 14 for day  58\n",
            "util: 0.33770500303598355\n",
            "0.33770500303598355\n",
            "counts from the previous value of 14  is  0 cutoff price is now 14 for day  59\n",
            "util: 0.3381317832634494\n",
            "0.3381317832634494\n",
            "counts from the previous value of 14  is  0 cutoff price is now 14 for day  60\n",
            "util: 0.33863105103085456\n",
            "0.33863105103085456\n",
            "counts from the previous value of 14  is  0 cutoff price is now 14 for day  61\n",
            "util: 0.3392012853464121\n",
            "0.3392012853464121\n",
            "counts from the previous value of 14  is  0 cutoff price is now 14 for day  62\n",
            "util: 0.3398410775290999\n",
            "0.3398410775290999\n",
            "counts from the previous value of 14  is  0 cutoff price is now 14 for day  63\n",
            "util: 0.34054912368862333\n",
            "0.34054912368862333\n",
            "counts from the previous value of 14  is  0 cutoff price is now 14 for day  64\n",
            "util: 0.3413242178508158\n",
            "0.3413242178508158\n",
            "counts from the previous value of 14  is  0 cutoff price is now 14 for day  65\n",
            "util: 0.3421652456650986\n",
            "0.3421652456650986\n",
            "counts from the previous value of 14  is  0 cutoff price is now 14 for day  66\n",
            "util: 0.3430711786376941\n",
            "0.3430711786376941\n",
            "counts from the previous value of 14  is  0 cutoff price is now 14 for day  67\n",
            ".\n",
            ".\n",
            "util: 0.2636915702401923\n",
            "util: 0.3702650576726923\n",
            "util: 0.4500989395065519\n",
            "util: 0.5161172422065242\n",
            "util: 0.5733316011764029\n",
            "util: 0.6243112268784204\n",
            "util: 0.6705808509620286\n",
            "util: 0.7131326838072405\n",
            "util: 0.7526549676749745\n",
            "util: 0.7896480836465505\n",
            "util: 0.8244892216130824\n",
            "util: 0.8574709852670275\n",
            "util: 0.8888257219059321\n",
            "util: 0.9187415404404229\n",
            "util: 0.94737324368553\n",
            "util: 0.9748500183873758\n",
            "util: 1.0012809854412223\n",
            "util: 1.0267592954958873\n",
            "util: 1.051365210103358\n",
            "util: 1.0751684593840065\n",
            "util: 1.0982300734466337\n",
            "util: 1.1206038242658072\n",
            "util: 1.1423373746532959\n",
            "util: 1.1634732038585267\n",
            "util: 1.184049360637578\n",
            "util: 1.2041000815033862\n",
            "util: 1.223656302503879\n",
            "util: 1.2427460860932666\n",
            "predicted_unit: 28\n",
            ".\n",
            ".\n",
            ".\n",
            ".\n",
            ".\n",
            ".\n",
            ".\n",
            ".\n",
            ".\n",
            "util: 0.0321270668987039\n",
            "util: 0.03583464954253757\n",
            "util: 0.03601169669367116\n",
            "util: 0.03457092142221607\n",
            "util: 0.032194647343708194\n",
            "util: 0.02921051145664655\n",
            "util: 0.025802288182606714\n",
            "util: 0.022083644863040375\n",
            "util: 0.018129813407596673\n",
            "util: 0.013993133392087298\n",
            "util: 0.00971144068972063\n",
            "util: 0.0053129306972165\n",
            "util: 0.0008191401622337224\n",
            "util: -0.00375314015851802\n",
            "util: -0.008390592174744027\n",
            "util: -0.013082495907003056\n",
            "predicted_unit: 3\n",
            ".\n",
            ".\n",
            ".\n",
            ".\n",
            ".\n",
            ".\n",
            ".\n",
            ".\n",
            ".\n",
            ".\n",
            ".\n",
            ".\n",
            "util: 0.7470634574572116\n",
            "util: 1.1245148394471338\n",
            "util: 1.4284302336352406\n",
            "util: 1.6926723044932768\n",
            "util: 1.9308555997629955\n",
            "util: 2.1501399630830766\n",
            "util: 2.354861324630179\n",
            "util: 2.5478894807713006\n",
            "util: 2.731244463901641\n",
            "util: 2.906414111263694\n",
            "util: 3.0745331335246107\n",
            "util: 3.2364911859093533\n",
            "util: 3.393001653696979\n",
            "util: 3.544647349503694\n",
            "util: 3.691911962704104\n",
            "util: 3.835202353693872\n",
            "util: 3.9748647615571002\n",
            "util: 4.111196845672429\n",
            "util: 4.244456803081195\n",
            "util: 4.374870387609304\n",
            "util: 4.502636393927404\n",
            "util: 4.627930999045477\n",
            "util: 4.750911240167041\n",
            "util: 4.871717830614641\n",
            "util: 4.990477462016206\n",
            "util: 5.10730470318775\n",
            "util: 5.2223035790897745\n",
            "util: 5.335568893559696\n",
            "util: 5.447187345025031\n",
            "util: 5.557238473588363\n",
            "util: 5.665795469718029\n",
            "util: 5.7729258685609715\n",
            "util: 5.878692149108881\n",
            "util: 5.983152253732692\n",
            "util: 6.086360040690268\n",
            "util: 6.188365679915063\n",
            "util: 6.289216000567027\n",
            "util: 6.388954797364748\n",
            "util: 6.4876231015391745\n",
            "util: 6.5852594212939\n",
            "util: 6.681899955877421\n",
            "util: 6.7775787867339226\n",
            "util: 6.872328048672204\n",
            "util: 6.966178083556054\n",
            "util: 7.059157578656178\n",
            "util: 7.151293691500119\n",
            "util: 7.242612162801769\n",
            "util: 7.333137418837189\n",
            "util: 7.42289266445162\n",
            "util: 7.511899967728134\n",
            "util: 7.600180337216793\n",
            "util: 7.687753792510608\n",
            "util: 7.774639428857953\n",
            "util: 7.860855476418058\n",
            "util: 7.946419354694349\n",
            "util: 8.0313477226184\n",
            "predicted_unit: 56\n",
            ".\n",
            ".\n",
            ".\n",
            ".\n",
            ".\n",
            ".\n",
            ".\n",
            ".\n",
            ".\n",
            ".\n",
            ".\n",
            ".\n",
            ".\n",
            ".\n",
            ".\n",
            ".\n",
            ".\n",
            ".\n",
            ".\n",
            ".\n",
            ".\n",
            ".\n",
            ".\n",
            ".\n",
            ".\n",
            ".\n",
            ".\n",
            ".\n",
            ".\n",
            ".\n",
            ".\n",
            ".\n",
            ".\n",
            ".\n",
            ".\n",
            ".\n",
            ".\n",
            ".\n",
            ".\n",
            ".\n",
            ".\n",
            "DATA ADDED :)\n",
            "91\n"
          ]
        }
      ],
      "source": [
        "wanted, _ = fit_PT_DD(0,.59,.629,1.09,0.98, 0.4)\n",
        "print(sum(wanted))"
      ]
    },
    {
      "cell_type": "code",
      "execution_count": 168,
      "metadata": {
        "colab": {
          "base_uri": "https://localhost:8080/"
        },
        "id": "g7uR3NaSUhlc",
        "outputId": "9ca72123-9d5e-4c79-e876-1d2f77275505"
      },
      "outputs": [
        {
          "name": "stdout",
          "output_type": "stream",
          "text": [
            "util: -6.460280289645944\n",
            "-6.460280289645944\n",
            "util: -5.5040039930034155\n",
            "prosp on day 1 is  -5.5040039930034155\n",
            "util: -4.430026692937786\n",
            "prosp on day 1 is  -4.430026692937786\n",
            "util: -3.2546179856297046\n",
            "prosp on day 1 is  -3.2546179856297046\n",
            "util: -2.015048448740438\n",
            "prosp on day 1 is  -2.015048448740438\n",
            "util: -0.7942367429620703\n",
            "prosp on day 1 is  -0.7942367429620703\n",
            "util: 0.35446525931903905\n",
            "prosp on day 1 is  0.35446525931903905\n",
            "counts from the previous value of 1  is  6 cutoff price is now 7 for day  1\n",
            "util: -1.6205935944261034\n",
            "-1.6205935944261034\n",
            "util: -0.6645701892727993\n",
            "prosp on day 2 is  -0.6645701892727993\n",
            "util: 0.2644898102331362\n",
            "prosp on day 2 is  0.2644898102331362\n",
            "counts from the previous value of 7  is  2 cutoff price is now 9 for day  2\n",
            "util: -0.5252399405490334\n",
            "-0.5252399405490334\n",
            "util: 0.3518005192091536\n",
            "prosp on day 3 is  0.3518005192091536\n",
            "counts from the previous value of 9  is  1 cutoff price is now 10 for day  3\n",
            "util: -0.1176022118046508\n",
            "-0.1176022118046508\n",
            "util: 0.7438619061867041\n",
            "prosp on day 4 is  0.7438619061867041\n",
            "counts from the previous value of 10  is  1 cutoff price is now 11 for day  4\n",
            "util: 0.40223244147790116\n",
            "0.40223244147790116\n",
            "counts from the previous value of 11  is  0 cutoff price is now 11 for day  5\n",
            "util: 0.15571299429483554\n",
            "0.15571299429483554\n",
            "counts from the previous value of 11  is  0 cutoff price is now 11 for day  6\n",
            "util: -0.06283443072198092\n",
            "-0.06283443072198092\n",
            "util: 0.8762663269216677\n",
            "prosp on day 7 is  0.8762663269216677\n",
            "counts from the previous value of 11  is  1 cutoff price is now 12 for day  7\n",
            "util: 0.6694347531403003\n",
            "0.6694347531403003\n",
            "counts from the previous value of 12  is  0 cutoff price is now 12 for day  8\n",
            "util: 0.5251873171785595\n",
            "0.5251873171785595\n",
            "counts from the previous value of 12  is  0 cutoff price is now 12 for day  9\n",
            "util: 0.38961040778291256\n",
            "0.38961040778291256\n",
            "counts from the previous value of 12  is  0 cutoff price is now 12 for day  10\n",
            "util: 0.26218285083035264\n",
            "0.26218285083035264\n",
            "counts from the previous value of 12  is  0 cutoff price is now 12 for day  11\n",
            "util: 0.1424147992994535\n",
            "0.1424147992994535\n",
            "counts from the previous value of 12  is  0 cutoff price is now 12 for day  12\n",
            "util: 0.029845850238863603\n",
            "0.029845850238863603\n",
            "counts from the previous value of 12  is  0 cutoff price is now 12 for day  13\n",
            "util: -0.07595672507761286\n",
            "-0.07595672507761286\n",
            "util: 1.0662035577760793\n",
            "prosp on day 14 is  1.0662035577760793\n",
            "counts from the previous value of 12  is  1 cutoff price is now 13 for day  14\n",
            "util: 0.9613779242991178\n",
            "0.9613779242991178\n",
            "counts from the previous value of 13  is  0 cutoff price is now 13 for day  15\n",
            "util: 0.9006919550295016\n",
            "0.9006919550295016\n",
            "counts from the previous value of 13  is  0 cutoff price is now 13 for day  16\n",
            "util: 0.8410388479963493\n",
            "0.8410388479963493\n",
            "counts from the previous value of 13  is  0 cutoff price is now 13 for day  17\n",
            "util: 0.7824010241049815\n",
            "0.7824010241049815\n",
            "counts from the previous value of 13  is  0 cutoff price is now 13 for day  18\n",
            "util: 0.7247612034531553\n",
            "0.7247612034531553\n",
            "counts from the previous value of 13  is  0 cutoff price is now 13 for day  19\n",
            "util: 0.6681024002388745\n",
            "0.6681024002388745\n",
            "counts from the previous value of 13  is  0 cutoff price is now 13 for day  20\n",
            "util: 0.6124079177548645\n",
            "0.6124079177548645\n",
            "counts from the previous value of 13  is  0 cutoff price is now 13 for day  21\n",
            "util: 0.5576613434682429\n",
            "0.5576613434682429\n",
            "counts from the previous value of 13  is  0 cutoff price is now 13 for day  22\n",
            "util: 0.5038465441839323\n",
            "0.5038465441839323\n",
            "counts from the previous value of 13  is  0 cutoff price is now 13 for day  23\n",
            "util: 0.45094766129038844\n",
            "0.45094766129038844\n",
            "counts from the previous value of 13  is  0 cutoff price is now 13 for day  24\n",
            "util: 0.39894910608625067\n",
            "0.39894910608625067\n",
            "counts from the previous value of 13  is  0 cutoff price is now 13 for day  25\n",
            "util: 0.3478355551865254\n",
            "0.3478355551865254\n",
            "counts from the previous value of 13  is  0 cutoff price is now 13 for day  26\n",
            "util: 0.29759194600695826\n",
            "0.29759194600695826\n",
            "counts from the previous value of 13  is  0 cutoff price is now 13 for day  27\n",
            "util: 0.24820347232526355\n",
            "0.24820347232526355\n",
            "counts from the previous value of 13  is  0 cutoff price is now 13 for day  28\n",
            "util: 0.19965557991789545\n",
            "0.19965557991789545\n",
            "counts from the previous value of 13  is  0 cutoff price is now 13 for day  29\n",
            "util: 0.15193396227108583\n",
            "0.15193396227108583\n",
            "counts from the previous value of 13  is  0 cutoff price is now 13 for day  30\n",
            "util: 0.10502455636487407\n",
            "0.10502455636487407\n",
            "counts from the previous value of 13  is  0 cutoff price is now 13 for day  31\n",
            "util: 0.0589135385288963\n",
            "0.0589135385288963\n",
            "counts from the previous value of 13  is  0 cutoff price is now 13 for day  32\n",
            "util: 0.013587320368707134\n",
            "0.013587320368707134\n",
            "counts from the previous value of 13  is  0 cutoff price is now 13 for day  33\n",
            "util: -0.030967455238567976\n",
            "-0.030967455238567976\n",
            "util: 1.769547666451805\n",
            "prosp on day 34 is  1.769547666451805\n",
            "counts from the previous value of 13  is  1 cutoff price is now 14 for day  34\n",
            "util: 1.7517757225105348\n",
            "1.7517757225105348\n",
            "counts from the previous value of 14  is  0 cutoff price is now 14 for day  35\n",
            "util: 1.7669620108282629\n",
            "1.7669620108282629\n",
            "counts from the previous value of 14  is  0 cutoff price is now 14 for day  36\n",
            "util: 1.7823867793440922\n",
            "1.7823867793440922\n",
            "counts from the previous value of 14  is  0 cutoff price is now 14 for day  37\n",
            "util: 1.7980537730682402\n",
            "1.7980537730682402\n",
            "counts from the previous value of 14  is  0 cutoff price is now 14 for day  38\n",
            "util: 1.8139667958212609\n",
            "1.8139667958212609\n",
            "counts from the previous value of 14  is  0 cutoff price is now 14 for day  39\n",
            "util: 1.830129711157588\n",
            "1.830129711157588\n",
            "counts from the previous value of 14  is  0 cutoff price is now 14 for day  40\n",
            "util: 1.8465464433035699\n",
            "1.8465464433035699\n",
            "counts from the previous value of 14  is  0 cutoff price is now 14 for day  41\n",
            "util: 1.8632209781102456\n",
            "1.8632209781102456\n",
            "counts from the previous value of 14  is  0 cutoff price is now 14 for day  42\n",
            "util: 1.880157364021073\n",
            "1.880157364021073\n",
            "counts from the previous value of 14  is  0 cutoff price is now 14 for day  43\n",
            "util: 1.89735971305486\n",
            "1.89735971305486\n",
            "counts from the previous value of 14  is  0 cutoff price is now 14 for day  44\n",
            "util: 1.9148322018041284\n",
            "1.9148322018041284\n",
            "counts from the previous value of 14  is  0 cutoff price is now 14 for day  45\n",
            "util: 1.932579072449165\n",
            "1.932579072449165\n",
            "counts from the previous value of 14  is  0 cutoff price is now 14 for day  46\n",
            "util: 1.9506046337879743\n",
            "1.9506046337879743\n",
            "counts from the previous value of 14  is  0 cutoff price is now 14 for day  47\n",
            "util: 1.9689132622824346\n",
            "1.9689132622824346\n",
            "counts from the previous value of 14  is  0 cutoff price is now 14 for day  48\n",
            "util: 1.987509403120857\n",
            "1.987509403120857\n",
            "counts from the previous value of 14  is  0 cutoff price is now 14 for day  49\n",
            "util: 2.006397571297252\n",
            "2.006397571297252\n",
            "counts from the previous value of 14  is  0 cutoff price is now 14 for day  50\n",
            "util: 2.0255823527075227\n",
            "2.0255823527075227\n",
            "counts from the previous value of 14  is  0 cutoff price is now 14 for day  51\n",
            "util: 2.04506840526289\n",
            "2.04506840526289\n",
            "counts from the previous value of 14  is  0 cutoff price is now 14 for day  52\n",
            "util: 2.064860460020799\n",
            "2.064860460020799\n",
            "counts from the previous value of 14  is  0 cutoff price is now 14 for day  53\n",
            "util: 2.084963322333572\n",
            "2.084963322333572\n",
            "counts from the previous value of 14  is  0 cutoff price is now 14 for day  54\n",
            "util: 2.105381873015122\n",
            "2.105381873015122\n",
            "counts from the previous value of 14  is  0 cutoff price is now 14 for day  55\n",
            "util: 2.126121069525962\n",
            "2.126121069525962\n",
            "counts from the previous value of 14  is  0 cutoff price is now 14 for day  56\n",
            "util: 2.1471859471768466\n",
            "2.1471859471768466\n",
            "counts from the previous value of 14  is  0 cutoff price is now 14 for day  57\n",
            "util: 2.168581620351306\n",
            "2.168581620351306\n",
            "counts from the previous value of 14  is  0 cutoff price is now 14 for day  58\n",
            "util: 2.1903132837473653\n",
            "2.1903132837473653\n",
            "counts from the previous value of 14  is  0 cutoff price is now 14 for day  59\n",
            "util: 2.2123862136387875\n",
            "2.2123862136387875\n",
            "counts from the previous value of 14  is  0 cutoff price is now 14 for day  60\n",
            "util: 2.23480576915611\n",
            "2.23480576915611\n",
            "counts from the previous value of 14  is  0 cutoff price is now 14 for day  61\n",
            "util: 2.257577393587789\n",
            "2.257577393587789\n",
            "counts from the previous value of 14  is  0 cutoff price is now 14 for day  62\n",
            "util: 2.2807066157017957\n",
            "2.2807066157017957\n",
            "counts from the previous value of 14  is  0 cutoff price is now 14 for day  63\n",
            "util: 2.3041990510879504\n",
            "2.3041990510879504\n",
            "counts from the previous value of 14  is  0 cutoff price is now 14 for day  64\n",
            "util: 2.3280604035213526\n",
            "2.3280604035213526\n",
            "counts from the previous value of 14  is  0 cutoff price is now 14 for day  65\n",
            "util: 2.3522964663471977\n",
            "2.3522964663471977\n",
            "counts from the previous value of 14  is  0 cutoff price is now 14 for day  66\n",
            "util: 2.3769131238873666\n",
            "2.3769131238873666\n",
            "counts from the previous value of 14  is  0 cutoff price is now 14 for day  67\n"
          ]
        }
      ],
      "source": [
        "x=cutoff_PT_DD_list(.59,.629,1.09,0.98,0)"
      ]
    },
    {
      "cell_type": "code",
      "execution_count": 169,
      "metadata": {
        "colab": {
          "base_uri": "https://localhost:8080/"
        },
        "id": "BjRtbL51VdcA",
        "outputId": "59592281-abd3-4286-b202-f384bf9d4ef7"
      },
      "outputs": [
        {
          "data": {
            "text/plain": [
              "[1,\n",
              " 7,\n",
              " 9,\n",
              " 10,\n",
              " 11,\n",
              " 11,\n",
              " 11,\n",
              " 12,\n",
              " 12,\n",
              " 12,\n",
              " 12,\n",
              " 12,\n",
              " 12,\n",
              " 12,\n",
              " 13,\n",
              " 13,\n",
              " 13,\n",
              " 13,\n",
              " 13,\n",
              " 13,\n",
              " 13,\n",
              " 13,\n",
              " 13,\n",
              " 13,\n",
              " 13,\n",
              " 13,\n",
              " 13,\n",
              " 13,\n",
              " 13,\n",
              " 13,\n",
              " 13,\n",
              " 13,\n",
              " 13,\n",
              " 13,\n",
              " 14,\n",
              " 14,\n",
              " 14,\n",
              " 14,\n",
              " 14,\n",
              " 14,\n",
              " 14,\n",
              " 14,\n",
              " 14,\n",
              " 14,\n",
              " 14,\n",
              " 14,\n",
              " 14,\n",
              " 14,\n",
              " 14,\n",
              " 14,\n",
              " 14,\n",
              " 14,\n",
              " 14,\n",
              " 14,\n",
              " 14,\n",
              " 14,\n",
              " 14,\n",
              " 14,\n",
              " 14,\n",
              " 14,\n",
              " 14,\n",
              " 14,\n",
              " 14,\n",
              " 14,\n",
              " 14,\n",
              " 14,\n",
              " 14,\n",
              " 14]"
            ]
          },
          "execution_count": 169,
          "metadata": {},
          "output_type": "execute_result"
        }
      ],
      "source": [
        "x"
      ]
    },
    {
      "cell_type": "code",
      "execution_count": null,
      "metadata": {
        "colab": {
          "base_uri": "https://localhost:8080/"
        },
        "id": "fNl8dMDvN6cZ",
        "outputId": "7f39e305-e066-4faa-89f1-363e1f9a087e"
      },
      "outputs": [],
      "source": [
        "info_return(5,5)"
      ]
    },
    {
      "cell_type": "code",
      "execution_count": null,
      "metadata": {
        "id": "hbjHNebd0PUe"
      },
      "outputs": [],
      "source": []
    },
    {
      "cell_type": "code",
      "execution_count": null,
      "metadata": {
        "colab": {
          "base_uri": "https://localhost:8080/"
        },
        "id": "l9hNPfOJz2RO",
        "outputId": "9e809e9f-c04e-4ddf-980b-24c049528092"
      },
      "outputs": [],
      "source": [
        "cutoff_PT_DD_list(.7,.9,1.5,.5,1)"
      ]
    },
    {
      "cell_type": "code",
      "execution_count": null,
      "metadata": {
        "colab": {
          "base_uri": "https://localhost:8080/"
        },
        "id": "thndl-W3N5Ji",
        "outputId": "4229a40e-5ab9-4dba-f7d9-08ff5856617e"
      },
      "outputs": [],
      "source": [
        "PT_DD(5,11,4,.3,.3,1.5,.3,cutoff_PT_DD_list(.3,.3,1.5,.3,.5),.5)"
      ]
    },
    {
      "cell_type": "code",
      "execution_count": null,
      "metadata": {
        "colab": {
          "base_uri": "https://localhost:8080/"
        },
        "id": "AWMUXM0VRwj_",
        "outputId": "065c92a3-1e94-414c-bd66-9b108b007ee6"
      },
      "outputs": [],
      "source": [
        "sum(fit_PT_DD(0,1,1,1.5,1,.8)[0])"
      ]
    },
    {
      "cell_type": "code",
      "execution_count": null,
      "metadata": {
        "id": "DguKNSH8Qm1k"
      },
      "outputs": [],
      "source": []
    },
    {
      "cell_type": "code",
      "execution_count": null,
      "metadata": {
        "id": "eRThGKQkOXQ6"
      },
      "outputs": [],
      "source": []
    },
    {
      "cell_type": "code",
      "execution_count": null,
      "metadata": {
        "colab": {
          "base_uri": "https://localhost:8080/"
        },
        "id": "j2zqsGKtNB9m",
        "outputId": "838e2977-c242-4fc2-e7fb-1a66063f2348"
      },
      "outputs": [],
      "source": [
        "print(list(range(15,3,-1)))"
      ]
    },
    {
      "cell_type": "code",
      "execution_count": null,
      "metadata": {
        "id": "aDqTMyjmU2Pt"
      },
      "outputs": [],
      "source": [
        "parameters_df=pd.read_csv('data/pt_predictions_final.xlsx - Parameters.csv')"
      ]
    },
    {
      "cell_type": "code",
      "execution_count": null,
      "metadata": {
        "id": "ZyzVCtVyTow2"
      },
      "outputs": [],
      "source": [
        "def PREDICT_YES():\n",
        "  for dude in range(0,58):\n",
        "    a=parameters_df._get_value(dude+1,col='alphaNew')\n",
        "    b=parameters_df._get_value(dude+1,col='betaNew')\n",
        "    l=parameters_df._get_value(dude+1,col='lambdaNew')\n",
        "    g=parameters_df._get_value(dude+1,col='gammaNew')\n",
        "\n",
        "    fitPTv2(dude,a,b,l,g)"
      ]
    },
    {
      "cell_type": "code",
      "execution_count": null,
      "metadata": {
        "id": "d8ryyF_DHJ4z"
      },
      "outputs": [],
      "source": []
    },
    {
      "cell_type": "code",
      "execution_count": null,
      "metadata": {
        "colab": {
          "base_uri": "https://localhost:8080/",
          "height": 424
        },
        "id": "T0cvoXb-hl5m",
        "outputId": "bc60bbae-7df4-4e5a-c014-a21000a22d05"
      },
      "outputs": [],
      "source": [
        "soldOnly = SellData\n",
        "for name in SellData.columns :\n",
        "  if 'Sold' not in name:\n",
        "    soldOnly=soldOnly.drop(name, axis=1)\n",
        "\n",
        "soldOnly = soldOnly.T\n",
        "soldOnly = soldOnly.iloc[::-1]\n",
        "soldOnly"
      ]
    },
    {
      "cell_type": "code",
      "execution_count": null,
      "metadata": {
        "id": "iOm1AHKm0T_R"
      },
      "outputs": [],
      "source": []
    },
    {
      "cell_type": "code",
      "execution_count": null,
      "metadata": {
        "colab": {
          "base_uri": "https://localhost:8080/"
        },
        "id": "OKRPMZKQsuZx",
        "outputId": "a4529a0b-f46e-472e-9622-fbb33e236e8c"
      },
      "outputs": [],
      "source": [
        "list(soldOnly[0].values)"
      ]
    },
    {
      "cell_type": "code",
      "execution_count": null,
      "metadata": {
        "id": "hH-kK3R4vSJG"
      },
      "outputs": [],
      "source": [
        "\n"
      ]
    },
    {
      "cell_type": "code",
      "execution_count": null,
      "metadata": {
        "id": "fUtmLrWL3nee"
      },
      "outputs": [],
      "source": [
        "import random"
      ]
    },
    {
      "cell_type": "code",
      "execution_count": null,
      "metadata": {
        "id": "sZEUqPjY_bxU"
      },
      "outputs": [],
      "source": [
        "from scipy.optimize import minimize"
      ]
    },
    {
      "cell_type": "code",
      "execution_count": null,
      "metadata": {
        "id": "LqyOIBLpOI-x"
      },
      "outputs": [],
      "source": [
        "from scipy.optimize import Bounds"
      ]
    },
    {
      "cell_type": "code",
      "execution_count": null,
      "metadata": {
        "id": "doGB4mpyjyqW"
      },
      "outputs": [],
      "source": [
        "from sklearn.metrics import d2_absolute_error_score as d2a"
      ]
    },
    {
      "cell_type": "code",
      "execution_count": null,
      "metadata": {
        "id": "Yo-2vJSowNZ4"
      },
      "outputs": [],
      "source": [
        "from sklearn.metrics import mean_squared_error"
      ]
    },
    {
      "cell_type": "code",
      "execution_count": null,
      "metadata": {
        "id": "To-AIQWPpdPV"
      },
      "outputs": [],
      "source": [
        "def avg_error(params,participant):\n",
        "  a=params[0]\n",
        "  b=params[1]\n",
        "  l=params[2]\n",
        "  g=params[3]\n",
        "  vals=fitPTv2(participant,a,b,l,g)\n",
        "  preds=vals[0]\n",
        "  total=0\n",
        "  d0=0\n",
        "  for day in DAYS:\n",
        "    vals=info_return(day,participant)\n",
        "    stored=vals[1]\n",
        "    sold=vals[0]\n",
        "    if stored==0:\n",
        "      d0+=1\n",
        "      continue\n",
        "    else:\n",
        "      pred=preds[day]\n",
        "      #pred=predictionsOnly._get_value(day,\"Participant\"+str(participant))\n",
        "      day_err=(pred-sold)/stored\n",
        "      total+=day_err\n",
        "  return total/(68.0-d0)\n"
      ]
    },
    {
      "cell_type": "code",
      "execution_count": null,
      "metadata": {
        "id": "f1Bz1xS5v0Ag"
      },
      "outputs": [],
      "source": [
        "def get_loss_one(params,participant):#a,b,l,g\n",
        "  a=params[0]\n",
        "  b=params[1]\n",
        "  l=params[2]\n",
        "  g=params[3]\n",
        "\n",
        "\n",
        "  vals=fitPTv2(participant,a,b,l,g)\n",
        "  preds=vals[0]\n",
        "  actuals=list(soldOnly[participant].values)\n",
        "  mse=mean_squared_error(actuals,preds)\n",
        "  error=d2a(actuals,preds)\n",
        "\n",
        "  return mse\n"
      ]
    },
    {
      "cell_type": "code",
      "execution_count": null,
      "metadata": {
        "id": "PW0L6G8-PChc"
      },
      "outputs": [],
      "source": [
        "def d2a_error(params,participant):\n",
        "  a=params[0]\n",
        "  b=params[1]\n",
        "  l=params[2]\n",
        "  g=params[3]\n",
        "\n",
        "\n",
        "  vals=fitPTv2(participant,a,b,l,g)\n",
        "  preds=vals[0]\n",
        "  actuals=list(soldOnly[participant].values)\n",
        "  mse=mean_squared_error(actuals,preds)\n",
        "  error=d2a(actuals,preds)\n",
        "\n",
        "  return 1-error\n"
      ]
    },
    {
      "cell_type": "code",
      "execution_count": null,
      "metadata": {
        "id": "HFerWPFTOiqN"
      },
      "outputs": [],
      "source": [
        "def fit_errorPT_TW(params,participant):\n",
        "  a=params[0]\n",
        "  b=params[1]\n",
        "  l=params[2]\n",
        "  g=params[3]\n",
        "  tw=params[4]\n",
        "\n",
        "\n",
        "\n",
        "  vals=fitPT_TW(participant,a,b,l,g,tw)\n",
        "  preds=vals[0]\n",
        "  actuals=list(soldOnly[participant].values)\n",
        "  actuals=actuals[::-1]\n",
        "\n",
        "  error=d2a(actuals,preds)\n",
        "\n",
        "  return 1-error"
      ]
    },
    {
      "cell_type": "code",
      "execution_count": null,
      "metadata": {
        "id": "eSBeWFIgO63U"
      },
      "outputs": [],
      "source": [
        "def fit_errorPTTW_dir(params,participant):\n",
        "  a=params[0]\n",
        "  b=params[1]\n",
        "  l=params[2]\n",
        "  g=params[3]\n",
        "  tw=params[4]\n",
        "  tw=int(tw)\n",
        "\n",
        "\n",
        "  vals=fitPT_TW(participant,a,b,l,g,tw)\n",
        "  preds=vals[0]\n",
        "  actuals=list(soldOnly[participant].values)\n",
        "\n",
        "  error=d2a(actuals,preds)\n",
        "\n",
        "  return error"
      ]
    },
    {
      "cell_type": "markdown",
      "metadata": {
        "id": "mdZlOth5IRsa"
      },
      "source": [
        "# THE MAIN ERROR FUNCTION WE ARE USING FOR OPTIMIZATION\n"
      ]
    },
    {
      "cell_type": "code",
      "execution_count": null,
      "metadata": {
        "id": "UEqio4YvPTWU"
      },
      "outputs": [],
      "source": [
        "def count_error(params,participant):\n",
        "  a=params[0]\n",
        "  b=params[1]\n",
        "  l=params[2]\n",
        "  g=params[3]\n",
        "\n",
        "  vals=fitPTv2(participant,a,b,l,g)\n",
        "  preds=vals[0]\n",
        "  total=0\n",
        "  d0=0\n",
        "  for day in DAYS:\n",
        "    vals=info_return(day,participant)\n",
        "\n",
        "    sold=vals[0]\n",
        "    pred=preds[day]\n",
        "    day_err=abs(sold-pred)\n",
        "    total+=day_err\n",
        "  return total"
      ]
    },
    {
      "cell_type": "code",
      "execution_count": null,
      "metadata": {
        "id": "Hp1AD-oJYN2l"
      },
      "outputs": [],
      "source": [
        "def count_errorPT_TW(params,participant):\n",
        "  a=params[0]\n",
        "  b=params[1]\n",
        "  l=params[2]\n",
        "  g=params[3]\n",
        "  tw=params[4]\n",
        "  tw=int(tw)\n",
        "\n",
        "  vals=fitPT_TW(participant,a,b,l,g,tw)\n",
        "  preds=vals[0]\n",
        "  total=0\n",
        "  d0=0\n",
        "  for day in DAYS[::-1]:\n",
        "    vals=info_return(day,participant)\n",
        "\n",
        "    sold=vals[0]\n",
        "    pred=preds[67-day]\n",
        "    day_err=abs(sold-pred)\n",
        "    total+=day_err\n",
        "  return total\n"
      ]
    },
    {
      "cell_type": "code",
      "execution_count": null,
      "metadata": {
        "id": "cMxpi9bA4ER5"
      },
      "outputs": [],
      "source": [
        "def display_errors(four_fits, start,stop):\n",
        "  avg_errors=[]\n",
        "  d2a_errors=[]\n",
        "  mse_errors=[]\n",
        "  count_errors=[]\n",
        "  iter=list(zip(four_fits, list(range(start,stop))))\n",
        "  for fit,participant in iter:\n",
        "    x=avg_error(fit,participant)\n",
        "    y=d2a_error(fit,participant)\n",
        "    z=get_loss_one(fit,participant)\n",
        "    m=count_error(fit,participant)\n",
        "    avg_errors.append(x)\n",
        "    d2a_errors.append(y)\n",
        "    mse_errors.append(z)\n",
        "    count_errors.append(m)\n",
        "  return avg_errors,d2a_errors,mse_errors,count_errors"
      ]
    },
    {
      "cell_type": "code",
      "execution_count": null,
      "metadata": {
        "id": "gSiDxXNw7Ofe"
      },
      "outputs": [],
      "source": [
        "bound_set=set(list(range(1,69)))"
      ]
    },
    {
      "cell_type": "code",
      "execution_count": null,
      "metadata": {
        "colab": {
          "base_uri": "https://localhost:8080/"
        },
        "id": "1FOStIMe7Zhb",
        "outputId": "e22409a3-f86c-4d97-87f6-c91a9519300f"
      },
      "outputs": [],
      "source": [
        "losstest=fit_errorPT_TW(np.array([1,1,1,1,68]),0)"
      ]
    },
    {
      "cell_type": "code",
      "execution_count": null,
      "metadata": {
        "colab": {
          "base_uri": "https://localhost:8080/"
        },
        "id": "IzVNZ9NT7n97",
        "outputId": "69817746-867a-4652-933e-4736344ba4ce"
      },
      "outputs": [],
      "source": [
        "losstest"
      ]
    },
    {
      "cell_type": "code",
      "execution_count": null,
      "metadata": {
        "id": "X_gfucSjiEa9"
      },
      "outputs": [],
      "source": [
        "def default_cb(xk):\n",
        "  print(xk)\n",
        "  ret=False\n",
        "  if count_error(xk,14)<=11:\n",
        "    ret=True\n",
        "  return ret"
      ]
    },
    {
      "cell_type": "code",
      "execution_count": null,
      "metadata": {
        "id": "ZuoB6LnazGbX"
      },
      "outputs": [],
      "source": [
        "#GUESS=np.array([.5,.5,1,.5,30])\n",
        "GUESS=[.5,.5,1,.5,30]"
      ]
    },
    {
      "cell_type": "code",
      "execution_count": null,
      "metadata": {
        "id": "yTSck_wQsS2M"
      },
      "outputs": [],
      "source": [
        "from scipy.optimize import differential_evolution\n",
        "from scipy.optimize import LinearConstraint"
      ]
    },
    {
      "cell_type": "code",
      "execution_count": null,
      "metadata": {
        "colab": {
          "base_uri": "https://localhost:8080/"
        },
        "id": "_Ibgd8WaEoGE",
        "outputId": "514d2f33-7fa3-4619-acd1-e8abba276ba7"
      },
      "outputs": [],
      "source": [
        "def bold_text(text):\n",
        "    bold_start = '\\033[1m'\n",
        "    bold_end = '\\033[0m'\n",
        "    return bold_start + text + bold_end\n",
        "\n",
        "\n",
        "print('website: ' + bold_text('bobbyhadz.com') + ' abc 123')\n"
      ]
    },
    {
      "cell_type": "code",
      "execution_count": null,
      "metadata": {
        "id": "k-vNzUgRDv3s"
      },
      "outputs": [],
      "source": [
        "cb_index=0"
      ]
    },
    {
      "cell_type": "code",
      "execution_count": null,
      "metadata": {
        "id": "2dRQ-RMjb6O0"
      },
      "outputs": [],
      "source": [
        "our_fits_df=pd.DataFrame()"
      ]
    },
    {
      "cell_type": "code",
      "execution_count": null,
      "metadata": {
        "id": "r5pswJhmQ6x3"
      },
      "outputs": [],
      "source": [
        "from time import time\n",
        "import warnings"
      ]
    },
    {
      "cell_type": "code",
      "execution_count": null,
      "metadata": {
        "id": "xNQHvse9IZBs"
      },
      "outputs": [],
      "source": [
        "def dict_constraint(xk):\n",
        "  return xk[1]-xk[0]"
      ]
    },
    {
      "cell_type": "code",
      "execution_count": null,
      "metadata": {
        "id": "nopc54dcPiJR"
      },
      "outputs": [],
      "source": [
        "check=lambda params: params if params[0]<=params[1] else \"Alpha greater than Beta\""
      ]
    },
    {
      "cell_type": "code",
      "execution_count": null,
      "metadata": {
        "id": "tEVR8BhEntIP"
      },
      "outputs": [],
      "source": [
        "\n",
        "def differential_evolution_participant(participant,save):\n",
        "    part=participant\n",
        "    #init_=init_vertices()\n",
        "   #init_=init_[0]\n",
        "    #init_=np.array(init_)\n",
        "    g=np.array([.5,.5,1,.5,60])\n",
        "    #g=guess\n",
        "    bounds = [(0, 1), (0, 1), (1, 2), (0, 1),(7,68)] # changing the bounds might be the reason why it's messing up, but a and b cannot be greater than 1 keep in mind\n",
        "    de_lc=LinearConstraint(A=[1,-1,0,0,0],lb= -np.inf ,ub=0)\n",
        "    result = differential_evolution(func=fit_errorPT_TW,x0=g,bounds=bounds, args=(part,), strategy=\"best1bin\", maxiter=30000, tol=0.0002, disp=True,updating=\"immediate\",constraints=de_lc,polish=True,integrality=[False,False,False,False,True] ) # can change back to get_loss_one or avg error if needed\n",
        "    best_fit = result.x\n",
        "    print(result.message)\n",
        "    if save:\n",
        "      save_fit(best_fit,participant+1,\"diffev\")\n",
        "    return best_fit\n"
      ]
    },
    {
      "cell_type": "code",
      "execution_count": null,
      "metadata": {
        "id": "xKIXFBy1wz-U"
      },
      "outputs": [],
      "source": [
        "from scipy.optimize import direct\n",
        "def direct_participant(participant,dum):\n",
        "    part = participant\n",
        "    bounds = [(0, 1), (0, 1), (1, 2), (0, 1),(2,68)]\n",
        "\n",
        "    #this is the basic function plus maxiter because that's the barebones for what basically the rest of them have but I can add more parameteres if this doesn't work\n",
        "    de_lc=LinearConstraint(A=[1,-1,0,0,0],lb= -np.inf ,ub=0)\n",
        "    g=np.array([.5,.5,1,.5,68])\n",
        "    result = direct(func=fit_errorPT_TW, bounds=bounds, args=(part,), maxiter=10000, locally_biased=False)\n",
        "\n",
        "    best_fit = result.x\n",
        "    print (result.message)\n",
        "    if dum:\n",
        "      save_fit(check(best_fit),participant+1,'direct')\n",
        "    return best_fit"
      ]
    },
    {
      "cell_type": "code",
      "execution_count": null,
      "metadata": {
        "id": "edJDtB9dw3Qw"
      },
      "outputs": [],
      "source": [
        "from scipy.optimize import shgo\n",
        "def shgo_participant(participant):\n",
        "    part = participant\n",
        "    bounds = [(0, 1), (0, 1), (1, 2), (0, 1), (2,68)]\n",
        "\n",
        "    #this is the basic function plus maxiter because that's the barebones for what basically the rest of them have but I can add more parameteres if this doesn't work\n",
        "    de_lc=LinearConstraint(A=[1,-1,0,0,0],lb= -np.inf ,ub=0)\n",
        "    dc=({'type': 'ineq','fun':dict_constraint})\n",
        "    g=np.array([.5,.5,1,.5,50])\n",
        "    result = shgo(func=fit_errorPT_TW, bounds=bounds, args=(part,) , options={'maxiter':10000},constraints=dc)\n",
        "\n",
        "    best_fit = result.x\n",
        "    print (result.message)\n",
        "\n",
        "    return best_fit"
      ]
    },
    {
      "cell_type": "code",
      "execution_count": null,
      "metadata": {
        "id": "-_SUrNpSiaW0"
      },
      "outputs": [],
      "source": [
        "from scipy.optimize import minimize\n",
        "def nelder_mead_participant(participant, guess):\n",
        "  part = participant\n",
        "  bounds = [(0, 1), (0, 1), (1, 2), (0, 1), (2,68)]\n",
        "  g=guess\n",
        "  result=minimize(fit_errorPT_TW,x0=g,args=(participant,), bounds=bounds, method='Nelder-Mead', options={\"fatol\":.15})\n",
        "  return result.x\n",
        "\n",
        "cob_eq=lambda x: x[1]-x[0]\n",
        "\n",
        "def cobyla_participant(participant,guess):\n",
        "  part = participant\n",
        "  bounds = [(0, 1), (0, 1), (1, 2), (0, 1), (2,68)]\n",
        "  g=guess\n",
        "  result=minimize(fit_errorPT_TW,x0=g,args=(participant,), method='COBYLA', bounds=bounds, constraints={\"type\":\"ineq\", \"fun\":cob_eq}, options={\"tol\":.13})\n",
        "  return result.x"
      ]
    },
    {
      "cell_type": "code",
      "execution_count": null,
      "metadata": {
        "id": "piOa__ELxQu5"
      },
      "outputs": [],
      "source": [
        "from scipy.optimize import basinhopping\n",
        "def basin_hopping_participant(participant):\n",
        "    part = participant\n",
        "    bounds = [(0, 1), (0, 1), (1, 2), (0, 1),(2,68)]\n",
        "\n",
        "    #this is the basic function plus maxiter because that's the barebones for what basically the rest of them have but I can add more parameteres if this doesn't work\n",
        "    de_lc=LinearConstraint(A=[1,-1,0,0,0],lb= -np.inf ,ub=0)\n",
        "    g=np.array([.5,.5,1,.5,50])\n",
        "    opt_func=lambda params: fit_errorPT_TW(params,participant)\n",
        "    result = basinhopping(func=opt_func, minimizer_kwargs={\"method\":\"Nelder-Mead\"}, x0=g, niter=10000, interval=75,T=.5)\n",
        "\n",
        "    best_fit = result.x\n",
        "    print (result.message)\n",
        "\n",
        "    return best_fit"
      ]
    },
    {
      "cell_type": "code",
      "execution_count": null,
      "metadata": {
        "id": "8dvoNNZIiA5i"
      },
      "outputs": [],
      "source": [
        "def global_polish(participant,starter,count,glazer):\n",
        "  silly=None\n",
        "  s=''\n",
        "  if starter=='diffev':\n",
        "    silly=differential_evolution_participant\n",
        "    s='neighbors'\n",
        "  elif starter=='direct':\n",
        "    silly= direct_participant\n",
        "    s='polished_direct'\n",
        "\n",
        "\n",
        "  ret='didnt work'\n",
        "  start=silly(participant,False)\n",
        "  p=None\n",
        "  if count==1:\n",
        "    if glazer=='NM':\n",
        "      p=nelder_mead_participant\n",
        "    elif glazer=='CB':\n",
        "      p=cobyla_participant\n",
        "    end=p(participant, start)\n",
        "    save_fit(end,participant+1,s)\n",
        "    ret=end\n",
        "\n",
        "\n",
        "    ret =check(end)\n",
        "  elif count==2:\n",
        "    end1=nelder_mead_participant(participant,start)\n",
        "    end2=cobyla_participant(participant,start)\n",
        "    dickle={\n",
        "        \"NM\": check(end1),\n",
        "        \"CB\":(end2)\n",
        "    }\n",
        "    save_fit(dickle,participant+1,s)\n",
        "    ret=dickle\n",
        "  return ret\n",
        "\n",
        "\n",
        "\n"
      ]
    },
    {
      "cell_type": "code",
      "execution_count": null,
      "metadata": {
        "id": "SQ3wZkkzrtsc"
      },
      "outputs": [],
      "source": [
        " # works somehow\n",
        "#dum2=shgo_participant(0) # does not work in time\n",
        "#dum3=basin_hopping_participant(0) # not converging\n",
        "#dum2=global_polish(2,'CB')\n",
        "\n",
        "#b22diff=global_polish(21,\"diffev\",2,\"CB\")\n"
      ]
    },
    {
      "cell_type": "code",
      "execution_count": null,
      "metadata": {
        "id": "YManDFonuVSx"
      },
      "outputs": [],
      "source": [
        "def glass_error(params,participant):\n",
        "  a=params[0]\n",
        "  b=params[1]\n",
        "  l=params[2]\n",
        "  g=params[3]\n",
        "  tw=params[4]\n",
        "  preds=fitPT_TW(participant,a,b,l,g,tw)[0]\n",
        "\n",
        "  d_plus=0\n",
        "  d_minus=0\n",
        "  d0=0\n",
        "  for day in DAYS[::-1]:\n",
        "    vals=info_return(day,participant)\n",
        "\n",
        "    sold=vals[0]\n",
        "    pred=preds[67-day]\n",
        "    day_err=sold-pred\n",
        "    if(day_err)>0:\n",
        "      d_plus+=day_err\n",
        "    elif(day_err<0):\n",
        "      d_minus-=day_err\n",
        "\n",
        "  return d_plus,d_minus\n"
      ]
    },
    {
      "cell_type": "code",
      "execution_count": null,
      "metadata": {
        "colab": {
          "base_uri": "https://localhost:8080/"
        },
        "id": "kqagNC8z4FNd",
        "outputId": "27137104-6c6a-4340-c0b7-c18a7105b640"
      },
      "outputs": [],
      "source": [
        "glass_error([.5,.5,1.5,.3,68],3)"
      ]
    },
    {
      "cell_type": "code",
      "execution_count": null,
      "metadata": {
        "colab": {
          "base_uri": "https://localhost:8080/"
        },
        "id": "nB-hjac64fdt",
        "outputId": "99c5aa5f-49a8-4e64-ef66-b97b003341fb"
      },
      "outputs": [],
      "source": [
        "glass_error([.5,.5,1.5,.5,68],3)"
      ]
    },
    {
      "cell_type": "code",
      "execution_count": null,
      "metadata": {
        "colab": {
          "base_uri": "https://localhost:8080/"
        },
        "id": "zx4HbYuN5aEN",
        "outputId": "92d0b910-de43-4823-e0d0-bfd6075cd953"
      },
      "outputs": [],
      "source": [
        "'''def efficent_fit(participant, target, guess=GUESS, maxiter=50000):\n",
        "        valid_parameter_ranges= {                        # Dict[str, List[float]] = {\n",
        "\n",
        "            \"a\": list(np.arange(\n",
        "                            .001,#low(prev_best_fit[0],  prev_precision, precision), # here he is setting the minimum value to the value of the guess or the floor value which\n",
        "                             1, #high(prev_best_fit[0], prev_precision, 1),# + EPS,\n",
        "                            .001\n",
        "                )),\n",
        "            \"b\": list(np.arange(\n",
        "                            .001,#low(prev_best_fit[1],  prev_precision, precision),\n",
        "                            1,  #high(prev_best_fit[1], prev_precision, 1),# + EPS,\n",
        "                            .001\n",
        "                )),\n",
        "            \"l\": list(np.arange(\n",
        "                            1,#low(prev_best_fit[2],  prev_precision, 1),\n",
        "                            2,#high(prev_best_fit[2], prev_precision, 2),# + EPS,\n",
        "                            .001\n",
        "                )),\n",
        "\n",
        "            \"g\": list(np.arange(\n",
        "                            .001,#low(prev_best_fit[3],  prev_precision, precision),\n",
        "                             1,#high(prev_best_fit[3], prev_precision, 1),# + EPS,\n",
        "                            .001\n",
        "                )),\n",
        "\n",
        "            \"tw\": list(np.arange(2, 68, 1))\n",
        "        }\n",
        "        ultimate_best_fit=GUESS\n",
        "        best_error=count_errorPT_TW(ultimate_best_fit,participant)\n",
        "        i=0\n",
        "        queue=[guess]\n",
        "        visited=[]\n",
        "        while(best_error>target or i<maxiter ):\n",
        "          focus_param_index=0 # starts as alpha\n",
        "\n",
        "          f_prime=ultimate_best_fit[focus_param_index]\n",
        "          best_fit=ultimate_best_fit\n",
        "\n",
        "          curr_fit=queue.pop()\n",
        "          if curr_fit in visited:\n",
        "            continue\n",
        "\n",
        "          d_plus,d_minus=glass_error(curr_fit, participant)\n",
        "          curr_d_plus=d_plus\n",
        "          f_d_prime=f_prime\n",
        "          while(d_plus-curr_d_plus<1):\n",
        "            curr_fit[focus_param_index]+=.001   #\n",
        "            f_d_prime+=.001   #\n",
        "            curr_d_plus=glass_error(curr_fit,participant)\n",
        "\n",
        "\n",
        "          #curr_error=count_errorPT_TW(curr_fit,participant)\n",
        "\n",
        "          curr_d_minus=glass_error(curr_fit,participant)[1]\n",
        "          if(curr_d_minus<=d_minus):\n",
        "            best_fit=curr_fit\n",
        "            f_prime=f_d_prime\n",
        "\n",
        "\n",
        "          if (curr_d_plus==0 and f_d_prime>f_prime):\n",
        "                break # break changing alpha\n",
        "\n",
        "          while True:\n",
        "\n",
        "\n",
        "            f_d_prime+=.001\n",
        "            curr_fit[]\n",
        "\n",
        "            d_plus,_=glass_error(curr_fit,participant)\n",
        "\n",
        "\n",
        "'''\n",
        "\n"
      ]
    },
    {
      "cell_type": "code",
      "execution_count": null,
      "metadata": {
        "id": "gU-jKXPnBcip"
      },
      "outputs": [],
      "source": [
        "# sdfhudsgyusdfgjcwyjbtkeszdbjhcfwhescdrgfh4wcesjzgfgyug45erfthjgtfjg5e44ysejwfgeuwruqwgydawejerfbcasdhzgahgsfagsdf"
      ]
    },
    {
      "cell_type": "code",
      "execution_count": null,
      "metadata": {
        "id": "4kJgjhfRVbDw"
      },
      "outputs": [],
      "source": [
        "def change(index,d_plus):\n",
        "  if d_plus:\n",
        "    if index==0:\n",
        "      return .001\n",
        "    else:\n",
        "      return -.001\n",
        "  else:\n",
        "    if (index==0):\n",
        "      return -.001\n",
        "    else:\n",
        "      return .001"
      ]
    },
    {
      "cell_type": "code",
      "execution_count": null,
      "metadata": {
        "colab": {
          "base_uri": "https://localhost:8080/",
          "height": 140
        },
        "id": "FcCkviRl90GK",
        "outputId": "348f6b3a-c78e-4a0a-ec54-bcedbadfabd3"
      },
      "outputs": [],
      "source": [
        "def efficient_fit_ayan_jaiman(participant, target=0, guess=GUESS, maxiter=50000):\n",
        "  '''\n",
        "  Finds the best fit using an efficient version of brute force devised by Dr. Glass.\n",
        "\n",
        "  params:\n",
        "    participant   :       int             index of the participant\n",
        "    target        :       int             the optimal count_error value that we want to reach\n",
        "    guess         :       list<float>     the initial parameter values (usually are the previous participant's best fits)\n",
        "    maxiter       :       int             maximum number of iterations, to prevent CPU burden\n",
        "\n",
        "\n",
        "  notes:  what's target for? I thought we improve as much as possible rather than stopping at a set value\n",
        "          Why do we have a focus_param_index? we are starting with just alpha but we are going to eventually change both alpha and beta at the same time.\n",
        "          So, best_fit and curr_fit are the *overall* equivalents of f_d_prime and f_prime?\n",
        "  '''\n",
        "\n",
        "  # our ultimate best fit starts at the initial param values\n",
        "  ultimate_best_fit = guess\n",
        "\n",
        "  # find the count_error we are starting with (this is our f_prime)\n",
        "  f_prime = count_errorPT_TW(ultimate_best_fit,participant)\n",
        "\n",
        "  # to track iterations\n",
        "  i = 0\n",
        "\n",
        "  # for fitting each parameter sequentially\n",
        "  curr_fit = [guess].pop()\n",
        "\n",
        "  # to log our parameter values\n",
        "  visited = []\n",
        "\n",
        "\n",
        "  # MAIN OPTIMIZATION LOOP\n",
        "  while(f_prime>target or i<maxiter ):\n",
        "\n",
        "    # set the focus parameter (starting with alpha) (see notes)\n",
        "    focus_param_index = 0\n",
        "\n",
        "    # record our baseline value for the parameter\n",
        "    og_baseline_param = ultimate_best_fit[focus_param_index]\n",
        "\n",
        "    # update f_prime\n",
        "    f_prime = count_errorPT_TW(ultimate_best_fit,participant)\n",
        "\n",
        "    # ??\n",
        "    best_fit=ultimate_best_fit\n",
        "\n",
        "\n",
        "    # QUESTION is this to skip over parameter values we have seen before? can we discuss this\n",
        "    if curr_fit in visited:\n",
        "      continue\n",
        "\n",
        "    # calculate our D+ and D- values (what must be reduced)\n",
        "    d_plus,d_minus = glass_error(curr_fit, participant)\n",
        "    curr_d_plus = d_plus\n",
        "    curr_d_minus = d_minus\n",
        "\n",
        "    # ??\n",
        "    baseline_param = og_baseline_param\n",
        "\n",
        "    # DECLARE OUR F\"\n",
        "    f_d_prime = f_prime\n",
        "\n",
        "    # OPTIMIZING D+\n",
        "    while (f_d_prime - d_plus < f_prime and d_plus > 0): # our D+ condition\n",
        "\n",
        "      # THIS IS WHILE LOOP #2\n",
        "      while (d_plus - curr_d_plus < 1): # First, change alpha to reduce D+ by 1\n",
        "\n",
        "        # increment our baseline alpha value\n",
        "        baseline_param -= .001  # decrease alpha -> smaller predicted values -> decreased D+\n",
        "\n",
        "        # update curr_fit with our new alpha value\n",
        "        curr_fit = np.array( curr_fit[:focus_param_index] + [baseline_param] + curr_fit[focus_param_index:] ) # [baseline_param]+list(curr_fit)[~focus_param_index])\n",
        "\n",
        "        # calculate our new F\", D+, D-\n",
        "        f_d_prime = count_errorPT_TW(curr_fit,participant)\n",
        "        curr_d_plus,curr_d_minus = glass_error(curr_fit,participant)\n",
        "\n",
        "        # log our new parameter values\n",
        "        visited.append(curr_fit)\n",
        "\n",
        "      # END WHILE LOOP #2\n",
        "\n",
        "      # Now that D+ has been reduced, D- may or may not have been increased (since predicted values decreased)\n",
        "      # So if D- hasn't increased, we have a better fit\n",
        "      if (curr_d_minus <= d_minus):\n",
        "        best_fit = curr_fit\n",
        "        if (f_d_prime < f_prime):\n",
        "          f_prime = f_d_prime # best error after step 1 is the error reached if d_minus doesn't change\n",
        "\n",
        "      else:\n",
        "        # if D- has been affected, do NOT update f_prime\n",
        "        continue\n",
        "\n",
        "\n",
        "      d_plus=curr_d_plus\n",
        "      d_minus=curr_d_minus\n",
        "\n",
        "  # END D+ OPTIMIZATION\n",
        "\n",
        "\n",
        "  # OPTIMIZING D-\n",
        "  while (f_d_prime - d_minus < f_prime and d_minus > 0): # our D- condition\n",
        "\n",
        "\n",
        "    # THIS IS WHILE LOOP #2\n",
        "    while (d_minus - curr_d_minus < 1): # First, change alpha to reduce D- by 1\n",
        "\n",
        "      # increment our baseline alpha value\n",
        "      baseline_param += .001  # increase alpha -> greater predicted values -> decreased D-\n",
        "\n",
        "      # update curr_fit with our new alpha value\n",
        "      curr_fit=np.array( curr_fit[:focus_param_index] + [baseline_param] + curr_fit[focus_param_index:] ) # [baseline_param]+list(curr_fit)[~focus_param_index])\n",
        "\n",
        "      # calculate our new F\", D+, D-\n",
        "      f_d_prime = count_errorPT_TW(curr_fit,participant)\n",
        "      curr_d_plus,curr_d_minus = glass_error(curr_fit,participant)\n",
        "\n",
        "      # log our new parameter values\n",
        "      visited.append(curr_fit)\n",
        "\n",
        "    # END WHILE LOOP #2\n",
        "\n",
        "    # Now that D- has been reduced, D+ may or may not have been increased (since predicted values decreased)\n",
        "    # So if D+ hasn't increased, we have a better fit\n",
        "    if (curr_d_plus <= d_plus):\n",
        "      best_fit = curr_fit\n",
        "      # sanity check\n",
        "      if (f_d_prime < f_prime):\n",
        "        f_prime = f_d_prime # best error after step 1 is the error reached if D+ doesn't change\n",
        "    else:\n",
        "      # if D- has been affected, do NOT update f_prime\n",
        "      continue\n",
        "\n",
        "\n",
        "    d_plus = curr_d_plus\n",
        "    d_minus = curr_d_minus\n",
        "\n",
        "  # END D- OPTIMIZATION\n",
        "\n",
        "\n",
        "  # NOW WE ARE LOOKING AT BETA AND ALPHA TOGETHER\n",
        "  focus_param_index = 1\n",
        "  baseline_param = curr_fit[focus_param_index]\n",
        "\n",
        "\n",
        "  # STEP 2 STEP 2 STEP 2 STEP 2\n",
        "  # idea is to start from the middle of the alpha search space\n",
        "\n",
        "  while (curr_fit[1] < 1): # incrementing beta\n",
        "\n",
        "    while (curr_fit[0] > 0): # decrementing alpha\n",
        "      curr_fit[0] -= .001\n",
        "\n",
        "      # continue if alpha < beta\n",
        "      if (curr_fit[0] < curr_fit[1]):\n",
        "        continue\n",
        "\n",
        "      # calculate our new F\", D+, D-\n",
        "      curr_d_plus,curr_d_minus = glass_error(curr_fit,participant)\n",
        "\n",
        "      if (d_plus - curr_d_plus > 1):\n",
        "        f_d_prime = count_errorPT_TW(curr_fit,participant)\n",
        "        if (f_d_prime < p_prime):\n",
        "          f_prime = f_d_prime\n",
        "        d_plus = curr_d_plus\n",
        "\n",
        "    curr_fit[1] += .001\n",
        "\n",
        "\n",
        "  # STEP 3 STEP 3 STEP 3\n",
        "\n",
        "\n",
        "\n",
        "\n"
      ]
    },
    {
      "cell_type": "markdown",
      "metadata": {
        "id": "UVLbG99zCU7d"
      },
      "source": [
        "Glass questions\n"
      ]
    },
    {
      "cell_type": "code",
      "execution_count": null,
      "metadata": {
        "id": "UDfyd69hT6Jd"
      },
      "outputs": [],
      "source": [
        "!pip install Py-BOBYQA"
      ]
    },
    {
      "cell_type": "code",
      "execution_count": null,
      "metadata": {
        "id": "OIdZw61CUCas"
      },
      "outputs": [],
      "source": [
        "import pybobyqa as bob"
      ]
    },
    {
      "cell_type": "code",
      "execution_count": null,
      "metadata": {
        "id": "zDl_7BwvUYNm"
      },
      "outputs": [],
      "source": [
        "def bobyqa_participant(participant):\n",
        "\n",
        "  g=np.array([.5,.5,1,.5,60])\n",
        "  #bounds = [(0, 1), (0, 1), (1, 2), (0, 1),(2,68)]\n",
        "  b=(np.array([0,0,1,0,2]),np.array([1,1,2,1,68]))\n",
        "  error_fn=fit_errorPT_TW\n",
        "  result=bob.solve(error_fn,g,args=(participant,) ,bounds=b,seek_global_minimum=True,print_progress=True,maxfun=5000, rhobeg=.4)\n",
        "  answer=0\n",
        "\n",
        "  #print(\"Success!\")\n",
        "  print(result.msg, result.nf)\n",
        "  print(result)\n",
        "  answer=result.x\n",
        "  save_fit(answer,participant+1,'bobby')\n",
        "\n",
        "  return answer\n"
      ]
    },
    {
      "cell_type": "code",
      "execution_count": null,
      "metadata": {
        "id": "9CBYM24i39ZR"
      },
      "outputs": [],
      "source": [
        "import nlopt\n",
        "def nlopt_participant(participant):\n",
        "  #algorithm=nlopt.NLOPT_GN_CRS2_LM # NLOPT_GN_CRS2_LM CRS technique...\n",
        "  algorithm=\"NLOPT_GN_CRS2_LM\"\n",
        "  opt = nlopt.opt(algorithm, 5)\n",
        "  func=lambda params: fit_errorPT_TW(params,participant)\n",
        "  opt.set_min_objective(func)\n",
        "  lower_bounds=[0,0,1,0,2]\n",
        "  upper_bounds=[1,1,2,1,68]\n",
        "  opt.set_lower_bounds(lower_bounds)\n",
        "  opt.set_upper_bounds(upper_bounds)\n",
        "  stopval=0.15\n",
        "  opt.set_stopval(stopval)\n",
        "  maxtime=25200\n",
        "  # figure out constraints\n",
        "  opt.set_maxtime(maxtime)\n",
        "\n",
        "  opt.optimize(GUESS)\n",
        "  opt_val = opt.last_optimum_value()\n",
        "  result = opt.last_optimize_result()\n",
        "  return result\n"
      ]
    },
    {
      "cell_type": "code",
      "execution_count": null,
      "metadata": {
        "id": "G0v8EHCko94y"
      },
      "outputs": [],
      "source": [
        "!pip install dlib"
      ]
    },
    {
      "cell_type": "code",
      "execution_count": null,
      "metadata": {
        "id": "9_pBuT9UpAu7"
      },
      "outputs": [],
      "source": [
        "import dlib"
      ]
    },
    {
      "cell_type": "code",
      "execution_count": null,
      "metadata": {
        "id": "8iECrJBEp1C6"
      },
      "outputs": [],
      "source": []
    },
    {
      "cell_type": "code",
      "execution_count": null,
      "metadata": {
        "id": "VHJAkD1zpFDv"
      },
      "outputs": [],
      "source": [
        "def dlib_participant(participant):\n",
        "  func=lambda a,b,l,g,tw: fit_errorPT_TW(np.array([a,b,l,g,tw]),participant)\n",
        "  lower_bounds=[0,0,1,0,2]\n",
        "  upper_bounds=[1,1,2,1,68]\n",
        "  x,y = dlib.find_min_global(func,\n",
        "                           lower_bounds,  # Lower bound constraints on x0 and x1 respectively\n",
        "                           upper_bounds,    # Upper bound constraints on x0 and x1 respectively\n",
        "                           50000)         # The number of times find_min_global() will call func\n",
        "  return x\n"
      ]
    },
    {
      "cell_type": "code",
      "execution_count": null,
      "metadata": {
        "id": "ozedd9mPYtcC"
      },
      "outputs": [],
      "source": [
        "!pip install nevergrad"
      ]
    },
    {
      "cell_type": "code",
      "execution_count": null,
      "metadata": {
        "id": "YiByqvTxCDVV"
      },
      "outputs": [],
      "source": [
        "import nevergrad as ng"
      ]
    },
    {
      "cell_type": "code",
      "execution_count": null,
      "metadata": {
        "id": "APtQrPWvOOvI"
      },
      "outputs": [],
      "source": [
        "def modified_func(a,b,l,g,tw,participant):\n",
        "  return fit_errorPT_TW(np.array([a,b,l,g,tw]),participant)"
      ]
    },
    {
      "cell_type": "code",
      "execution_count": null,
      "metadata": {
        "id": "LOS-SjFFCMCk"
      },
      "outputs": [],
      "source": [
        "# prompt: Define a python function that will return the optimized result of fit_error_PTTW for all 5 parameters using nevergrad\n",
        "\n",
        "def nevergrad_participant(participant):\n",
        "  fit_func=lambda a,b,l,g,tw: modified_func(a,b,l,g,tw,participant)\n",
        "\n",
        "  arg_a=ng.p.Scalar().set_bounds(0,1)\n",
        "  arg_b=ng.p.Scalar().set_bounds(0,1)\n",
        "  arg_l=ng.p.Scalar().set_bounds(0,2)\n",
        "  arg_g=ng.p.Scalar().set_bounds(0,1)\n",
        "  arg_tw=ng.p.Scalar().set_bounds(0,68).set_integer_casting()\n",
        "\n",
        "  params=ng.p.Instrumentation(arg_a,arg_b,arg_l, arg_g,arg_tw)\n",
        "\n",
        "  optimizer = ng.optimizers.NGOpt(params,budget=30000)\n",
        "\n",
        "  result = optimizer.minimize(fit_func)\n",
        "  save_fit(result.value,participant+1,\"brute\")\n",
        "  return result.value\n"
      ]
    },
    {
      "cell_type": "code",
      "execution_count": null,
      "metadata": {
        "id": "GurcqfHp-8cT"
      },
      "outputs": [],
      "source": [
        "#count_errorPT_TW(bf23,22)"
      ]
    },
    {
      "cell_type": "code",
      "execution_count": null,
      "metadata": {
        "id": "ouSk_BwosMQw"
      },
      "outputs": [],
      "source": [
        "#bf23=nlopt_participant(22)"
      ]
    },
    {
      "cell_type": "code",
      "execution_count": null,
      "metadata": {
        "id": "kh_mdcIjXxJm"
      },
      "outputs": [],
      "source": [
        "#bf23=bobyqa_participant(22)"
      ]
    },
    {
      "cell_type": "code",
      "execution_count": null,
      "metadata": {
        "id": "htp1kv6eYRgH"
      },
      "outputs": [],
      "source": [
        "#bf23"
      ]
    },
    {
      "cell_type": "code",
      "execution_count": null,
      "metadata": {
        "id": "K4M1ahP2liEz"
      },
      "outputs": [],
      "source": [
        "#count_errorPT_TW(bf23,22)"
      ]
    },
    {
      "cell_type": "code",
      "execution_count": null,
      "metadata": {
        "id": "Izt7YMtIsjSh"
      },
      "outputs": [],
      "source": [
        "#bfd23=direct_participant(22)"
      ]
    },
    {
      "cell_type": "code",
      "execution_count": null,
      "metadata": {
        "id": "ou6rfizBp6Im"
      },
      "outputs": [],
      "source": [
        "PARAM_LIST=[\"a\",\"b\",\"l\",\"g\",\"tw\"]"
      ]
    },
    {
      "cell_type": "code",
      "execution_count": null,
      "metadata": {
        "id": "NWthNIdjrRk6"
      },
      "outputs": [],
      "source": [
        "import itertools\n",
        "from itertools import product"
      ]
    },
    {
      "cell_type": "code",
      "execution_count": null,
      "metadata": {
        "id": "U-whDw-RrkIm"
      },
      "outputs": [],
      "source": [
        "import tqdm"
      ]
    },
    {
      "cell_type": "code",
      "execution_count": null,
      "metadata": {
        "id": "PesiMLJJ380E"
      },
      "outputs": [],
      "source": [
        "MAX_ITER=7000"
      ]
    },
    {
      "cell_type": "code",
      "execution_count": null,
      "metadata": {
        "id": "oTkuv-_znzUI"
      },
      "outputs": [],
      "source": [
        "def exhaustive_fit_with_guess_one_subject(participant,precision,guess,target):\n",
        "                                #subject:        int,\n",
        "\n",
        "        \"\"\"Performs the exhaustive fit algorithm for one subject and saves the best fit.\n",
        "        The exhaustive fit algorithm consists of iterating through all possible parameter values (with a given level of precision) and accepting the best.\n",
        "        Inputs:\n",
        "            subject: the participant's number in the dataframe.\n",
        "            precision: the amount to increment each value when iterating through all possible values.\n",
        "            verbose: set to True to get progress bars for the fitting.\n",
        "            error_type: should the error be calculated as the absolute difference\n",
        "                        between the prediction and the amount, or as\n",
        "                        the difference in proportion of goods sold. report.docx\n",
        "                        seems to use proportional.\n",
        "            tw: if provided, tw will stay at this constant level.\"\"\"\n",
        "\n",
        "        #prev_best_fit: Parameters = self.best_fits[subject]\n",
        "        #initial_pred = self.predict_one_subject(subject=subject, fit=prev_best_fit)\n",
        "        #lowest_error = self.mean_error_one_subject_proportion(subject, initial_pred)\n",
        "        prev_best_fit=guess #array/list\n",
        "        best_fit = prev_best_fit #array/ list\n",
        "        initial_pred=fitPT_TW(participant,guess[0],guess[1],guess[2],guess[3],guess[4])[0] #a,b,l,g,tw\n",
        "\n",
        "        # Set lowest error to initial error\n",
        "\n",
        "       #lowest_error=fit_errorPT_TW(prev_best_fit,participant)  # d2a error\n",
        "        lowest_error=count_errorPT_TW(prev_best_fit,participant)\n",
        "        # Get lists of all possible values for all free params\n",
        "        low  = lambda fit, old_precision, floor: max(floor, fit - old_precision/2) if fit else 0  #basically setting the floor which is 0.01,\n",
        "        high = lambda fit, old_precision, ceil:  min(ceil,  fit + old_precision/2) if fit else 0  # setting the ceil which is 1 for except lam which it is 2\n",
        "        valid_parameter_ranges= {                        # Dict[str, List[float]] = {\n",
        "\n",
        "            \"a\": list(np.arange(\n",
        "                            .01,#low(prev_best_fit[0],  prev_precision, precision), # here he is setting the minimum value to the value of the guess or the floor value which\n",
        "                             1, #high(prev_best_fit[0], prev_precision, 1),# + EPS,\n",
        "                            precision\n",
        "                )),\n",
        "            \"b\": list(np.arange(\n",
        "                            .01,#low(prev_best_fit[1],  prev_precision, precision),\n",
        "                            1,  #high(prev_best_fit[1], prev_precision, 1),# + EPS,\n",
        "                            precision\n",
        "                )),\n",
        "            \"l\": list(np.arange(\n",
        "                            1,#low(prev_best_fit[2],  prev_precision, 1),\n",
        "                            2,#high(prev_best_fit[2], prev_precision, 2),# + EPS,\n",
        "                            precision\n",
        "                )),\n",
        "\n",
        "            \"g\": list(np.arange(\n",
        "                            .01,#low(prev_best_fit[3],  prev_precision, precision),\n",
        "                             1,#high(prev_best_fit[3], prev_precision, 1),# + EPS,\n",
        "                            precision\n",
        "                )),\n",
        "\n",
        "            \"tw\": list(np.arange(2, 68, 1))\n",
        "        }\n",
        "        #if tw is not None:\n",
        "         # valid_parameter_ranges[\"tw\"] = [tw]\n",
        "\n",
        "        # Remove data on non-free params:\n",
        "      #  ranges: List[List[Any]] = [valid_parameter_ranges[param] if param in self.free_params\n",
        "         #                                                        else [None]\n",
        "         #                                                        for param in PARAM_LIST ]\n",
        "        ranges=[valid_parameter_ranges[param] for param in PARAM_LIST]\n",
        "        # Get all possible values via cartesian product\n",
        "        all_possible_fits = list(product(*ranges)) # takes every possible range\n",
        "\n",
        "        # Iterate through every possible value\n",
        "        iterations = 1\n",
        "        for range in ranges:\n",
        "            iterations *= len(range)\n",
        "       # for fit in tqdm(all_possible_fits,\n",
        "\n",
        "                      #  leave=False,\n",
        "                       # total=iterations,\n",
        "                       # desc=\"Attempting all fits...\"):\n",
        "        count=0\n",
        "        for fit in all_possible_fits:\n",
        "            count+=1\n",
        "            print(\"iter:\",count)\n",
        "            if (lowest_error<=target) or (count>MAX_ITER):\n",
        "              break\n",
        "            # Skip fits where a > b\n",
        "            if fit[0] > fit[1]:\n",
        "                continue\n",
        "            # Keep fits where xl-.1 <= xg <= xl\n",
        "         #   if (fit[2] is not None and fit[3] is not None) and (fit[2] > fit[3] or fit[2] < fit[3]-0.1):\n",
        "               # continue\n",
        "\n",
        "            # Predict sale amounts based on fit\n",
        "\n",
        "           # predictions: List[int] = self.predict_one_subject(subject, fit_params)\n",
        "            fit_params=fit\n",
        "\n",
        "            preds=fitPT_TW(participant,fit_params[0],fit_params[1],fit_params[2],fit_params[3],fit_params[4])\n",
        "            # Get error for the given fit\n",
        "            #error: float = error_fn(subject, predictions)\n",
        "            #error=fit_errorPT_TW(np.array(fit_params),participant)\n",
        "            error=count_errorPT_TW(np.array(fit_params),participant)\n",
        "            # Check if it's the best so far:\n",
        "            if error < lowest_error:\n",
        "                lowest_error = error\n",
        "                best_fit  = fit_params\n",
        "\n",
        "            elif error == lowest_error:\n",
        "                if fit_params[0] is not None and fit_params[0] >= best_fit[0]:\n",
        "                    best_fit = fit_params\n",
        "                elif not fit_params[0]:\n",
        "                    best_fit = fit_params\n",
        "                #self.all_best_fits[subject].append(fit_params)\n",
        "\n",
        "        save_fit(best_fit,participant+1,\"brute\")\n",
        "        return best_fit\n",
        "\n"
      ]
    },
    {
      "cell_type": "code",
      "execution_count": null,
      "metadata": {
        "id": "J1zc5q72z_LZ"
      },
      "outputs": [],
      "source": [
        "ranges=[(0,1), (0,1), (1,2), (0,1), (2,68)]"
      ]
    },
    {
      "cell_type": "code",
      "execution_count": null,
      "metadata": {
        "id": "37AOp-wUvj7I"
      },
      "outputs": [],
      "source": [
        "\n",
        "def get_neighbors(params,precision):\n",
        "  params=list(params)\n",
        "  neighbuurs=[]\n",
        "\n",
        "\n",
        "  for index,p in enumerate(params):\n",
        "    add=precision\n",
        "    if index==4:\n",
        "      add=1\n",
        "    bound_up=lambda p,i: p if p+add>=ranges[i][1] else p+add\n",
        "    bound_down=lambda p,i: p if p-add<=ranges[i][0] else p-add\n",
        "\n",
        "\n",
        "    poop=params.copy()\n",
        "    up_n=poop.copy()\n",
        "    up_n[index]=bound_up(p,index)\n",
        "    down_n=poop.copy()\n",
        "    down_n[index]=bound_down(p,index)\n",
        "    neighbuurs.append(up_n)\n",
        "    neighbuurs.append(down_n)\n",
        "# ret=[np.array(l) for l in neighbuurs]\n",
        "\n",
        "  return ret\n",
        "\n",
        "\n"
      ]
    },
    {
      "cell_type": "code",
      "execution_count": null,
      "metadata": {
        "id": "Eh6aZxmhgFYv"
      },
      "outputs": [],
      "source": [
        "def bfs_fit_one_subject(participant, guess, target, precision\n",
        "\n",
        "\n",
        "\n",
        "):\n",
        "\n",
        "\n",
        "        # Ensure greedy fit has a starting point\n",
        "\n",
        "        # Set correct error function\n",
        "        #error_fn = self.get_error_fn(error_type)\n",
        "        error_fn=count_errorPT_TW\n",
        "\n",
        "                # Get initial error\n",
        "\n",
        "        start_error = error_fn(guess,participant)\n",
        "        best_fit=guess\n",
        "        best_error=start_error\n",
        "\n",
        "        # Keep track of every visited node, along with its error\n",
        "        #visited: Dict[Parameters, bool] = {}\n",
        "        visited={} #(np.array,error) : bool\n",
        "\n",
        "        # Keep track of the current best candidate\n",
        "        lowest_error = start_error\n",
        "\n",
        "        # BFS keeps track of a queue of nodes to be visited, and checks the oldest first\n",
        "        #bfs_queue: List[Tuple[Parameters, float]] = [(start_fit, float('inf'))]\n",
        "        bfs_queue=[(guess,float('inf'))]\n",
        "        iter=0\n",
        "\n",
        "        #while len(bfs_queue) != 0:\n",
        "        while iter<1000 and lowest_error>target:\n",
        "            # Get current node\n",
        "            #print(f'{len(bfs_queue)} nodes remaining / {len(visited)} visited', end=\"\\r\")\n",
        "            current_fit, parent_error = bfs_queue.pop(0)\n",
        "\n",
        "            if visited.get((tuple(current_fit),parent_error)): #If you've already been here...\n",
        "                continue\n",
        "\n",
        "              # marking your spot\n",
        "\n",
        "            #predictions = self.predict_one_subject(subject, current)\n",
        "            error = error_fn(current_fit, participant)\n",
        "            visited[(tuple(current_fit),error)] = True\n",
        "\n",
        "            if error > parent_error:\n",
        "                continue\n",
        "\n",
        "            if error < lowest_error:\n",
        "                lowest_error = error\n",
        "                best_fit = current_fit\n",
        "               # self.all_best_fits[subject] = [current]\n",
        "            elif error == lowest_error:\n",
        "                best_fit=current_fit\n",
        "\n",
        "\n",
        "            all_neighbors = get_neighbors(current_fit, precision)\n",
        "\n",
        "            # Iterate through each neighbor\n",
        "            best_n=100\n",
        "            for neighbor in all_neighbors:\n",
        "\n",
        "                # Get fit as parameter\n",
        "                #neighbor_fit = Parameters(*neighbor)\n",
        "                # If fit uses a and b, a must be less than b\n",
        "                if neighbor[0] is not None and neighbor[1] is not None and neighbor[0] > neighbor[1]:\n",
        "                    continue\n",
        "                # Skip visited nodes\n",
        "                if visited.get(tuple(neighbor)):\n",
        "                    continue\n",
        "                n_error=error_fn(neighbor, participant)\n",
        "                visited[(tuple(neighbor),n_error)]=True\n",
        "                if n_error<best_n:\n",
        "                  bfs_queue.append((neighbor, error))\n",
        "                # Get predictions and errors for each neighbor\n",
        "        save_fit(best_fit, participant, \"neighbors\")\n",
        "        return best_fit\n",
        "\n"
      ]
    },
    {
      "cell_type": "code",
      "execution_count": null,
      "metadata": {
        "id": "R8pgv4J7xBfo"
      },
      "outputs": [],
      "source": [
        "#bf23=exhaustive_fit_with_guess_one_subject(22,.1,np.array([.5,.5,1.5,.5,50]),28)\n",
        "#print(\"official fit:     \"+bf23)\n"
      ]
    },
    {
      "cell_type": "code",
      "execution_count": null,
      "metadata": {
        "id": "UhFSzk37KgmY"
      },
      "outputs": [],
      "source": [
        "#bf23"
      ]
    },
    {
      "cell_type": "code",
      "execution_count": null,
      "metadata": {
        "id": "pgkoy-J1CDkv"
      },
      "outputs": [],
      "source": [
        "#bf23=direct_participant(22)"
      ]
    },
    {
      "cell_type": "code",
      "execution_count": null,
      "metadata": {
        "id": "E1lG8RA3MPNn"
      },
      "outputs": [],
      "source": [
        "#bf23=load_fit('/content/drive/MyDrive/Glass Lab Data/PT_TW fits/Exhuastive fits/participant 23 December 10, 2023.pickle')"
      ]
    },
    {
      "cell_type": "code",
      "execution_count": null,
      "metadata": {
        "id": "S0MphZLDvJ87"
      },
      "outputs": [],
      "source": [
        "def takeSecond(elem):\n",
        "  return elem[1]"
      ]
    },
    {
      "cell_type": "code",
      "execution_count": null,
      "metadata": {
        "id": "QVAR0M3jvH1v"
      },
      "outputs": [],
      "source": [
        "def sorted_ranking(lst):\n",
        "  entire_tuple_list = []\n",
        "  for i in range (len(lst)):\n",
        "    tempTup = (i,count_error(lst[i],i))\n",
        "    entire_tuple_list.append(tempTup)\n",
        "  entire_tuple_list.sort(key=takeSecond)\n",
        "  return entire_tuple_list"
      ]
    },
    {
      "cell_type": "code",
      "execution_count": null,
      "metadata": {
        "id": "fW2lyreO5AAH"
      },
      "outputs": [],
      "source": [
        "import os"
      ]
    },
    {
      "cell_type": "code",
      "execution_count": null,
      "metadata": {
        "id": "to03zn9u5KMP"
      },
      "outputs": [],
      "source": [
        "fit_data=os.listdir('/content/drive/MyDrive/Glass Lab Data/PT_TW fits/Diffy evolution fits')"
      ]
    },
    {
      "cell_type": "code",
      "execution_count": null,
      "metadata": {
        "colab": {
          "base_uri": "https://localhost:8080/",
          "height": 36
        },
        "id": "7YfKGYYq91Xg",
        "outputId": "3ccbf726-6d55-4af4-ae1b-6fe4e09a2697"
      },
      "outputs": [],
      "source": [
        "fit_data[1][12:14]"
      ]
    },
    {
      "cell_type": "code",
      "execution_count": null,
      "metadata": {
        "id": "PAdkBlJP6Rg4"
      },
      "outputs": [],
      "source": [
        "fit_data"
      ]
    },
    {
      "cell_type": "code",
      "execution_count": null,
      "metadata": {
        "id": "JVP4L9PM52Ff"
      },
      "outputs": [],
      "source": [
        "diffev_fits=[(int(path[12:14]),load_fit(DIFEV_SAVE_PATH+path)) for path in fit_data]"
      ]
    },
    {
      "cell_type": "code",
      "execution_count": null,
      "metadata": {
        "id": "-0Plz74yHxzs"
      },
      "outputs": [],
      "source": [
        "df_days"
      ]
    },
    {
      "cell_type": "code",
      "execution_count": null,
      "metadata": {
        "id": "8fhIMyld6EYP"
      },
      "outputs": [],
      "source": [
        "diffev_fits"
      ]
    },
    {
      "cell_type": "code",
      "execution_count": null,
      "metadata": {
        "id": "Z14EdG5gKxxN"
      },
      "outputs": [],
      "source": [
        "def sort_tuples(lst):\n",
        "    return sorted(lst, key=lambda x: x[0])\n"
      ]
    },
    {
      "cell_type": "code",
      "execution_count": null,
      "metadata": {
        "colab": {
          "base_uri": "https://localhost:8080/"
        },
        "id": "EF2rEOvW-or5",
        "outputId": "c07ddb43-7174-4c42-d46d-073cde681b88"
      },
      "outputs": [],
      "source": [
        "pt_tw_errors=[(i-1,count_errorPT_TW(fit,i-1)) for (i,fit) in diffev_fits]"
      ]
    },
    {
      "cell_type": "code",
      "execution_count": null,
      "metadata": {
        "id": "t9zusPVGI41d"
      },
      "outputs": [],
      "source": [
        "pt_tw_errors"
      ]
    },
    {
      "cell_type": "code",
      "execution_count": null,
      "metadata": {
        "id": "TeDa_3yjKy7u"
      },
      "outputs": [],
      "source": [
        "sorted_errors=sort_tuples(pt_tw_errors)"
      ]
    },
    {
      "cell_type": "code",
      "execution_count": null,
      "metadata": {
        "colab": {
          "base_uri": "https://localhost:8080/"
        },
        "id": "hgqjYf7GEuqi",
        "outputId": "05520d54-753c-4e66-f724-5d95be3f64f0"
      },
      "outputs": [],
      "source": [
        "len(sorted_errors\n",
        "    )"
      ]
    },
    {
      "cell_type": "code",
      "execution_count": null,
      "metadata": {
        "id": "UZx1wX3VK3m1"
      },
      "outputs": [],
      "source": [
        "sorted_errors[33]"
      ]
    },
    {
      "cell_type": "code",
      "execution_count": null,
      "metadata": {
        "colab": {
          "base_uri": "https://localhost:8080/"
        },
        "id": "HOFdosL9Qsts",
        "outputId": "da61126f-f655-4fd1-93a0-585ec7f5afdf"
      },
      "outputs": [],
      "source": [
        "sorted_errors"
      ]
    },
    {
      "cell_type": "code",
      "execution_count": null,
      "metadata": {
        "id": "xQ-YYQk-EX9Z"
      },
      "outputs": [],
      "source": [
        "sorted_errors.remove(sorted_errors[24])\n",
        "sorted_errors.remove(sorted_errors[33])\n",
        "sorted_errors.remove(sorted_errors[6])\n"
      ]
    },
    {
      "cell_type": "code",
      "execution_count": null,
      "metadata": {
        "id": "KEWFpalgOTbe"
      },
      "outputs": [],
      "source": [
        "our_errors=pd.read_csv('/content/drive/MyDrive/Glass Lab Data/our_errors - fixed our_errors.csv')"
      ]
    },
    {
      "cell_type": "code",
      "execution_count": null,
      "metadata": {
        "colab": {
          "base_uri": "https://localhost:8080/",
          "height": 1000
        },
        "id": "SknzCkfgCJyb",
        "outputId": "a2cebd9d-56e1-4943-cee9-ed0bae827a28"
      },
      "outputs": [],
      "source": [
        "our_errors"
      ]
    },
    {
      "cell_type": "code",
      "execution_count": null,
      "metadata": {
        "id": "BYxZ6pzuObim"
      },
      "outputs": [],
      "source": [
        "our_errors=our_errors.drop([\"Unnamed: 0\"], axis=1)"
      ]
    },
    {
      "cell_type": "code",
      "execution_count": null,
      "metadata": {
        "colab": {
          "base_uri": "https://localhost:8080/",
          "height": 1000
        },
        "id": "riLedjSoAf5H",
        "outputId": "718f8dc2-1895-47ab-8dc2-7b1650deb6ad"
      },
      "outputs": [],
      "source": [
        "our_errors"
      ]
    },
    {
      "cell_type": "code",
      "execution_count": null,
      "metadata": {
        "id": "cGB7jg43AoAT"
      },
      "outputs": [],
      "source": [
        "z=zip(list(our_errors.index),list(our_errors['our_error'].values))"
      ]
    },
    {
      "cell_type": "code",
      "execution_count": null,
      "metadata": {
        "id": "1k_dua51BJko"
      },
      "outputs": [],
      "source": [
        "PT_errs=list(z)"
      ]
    },
    {
      "cell_type": "code",
      "execution_count": null,
      "metadata": {
        "colab": {
          "base_uri": "https://localhost:8080/"
        },
        "id": "SaTDa2bxBP03",
        "outputId": "4a69f5cd-5f9b-4b98-889f-3a77aa06cdda"
      },
      "outputs": [],
      "source": [
        "PT_errs"
      ]
    },
    {
      "cell_type": "code",
      "execution_count": null,
      "metadata": {
        "colab": {
          "base_uri": "https://localhost:8080/"
        },
        "id": "4IpcnaR1jk26",
        "outputId": "8122f5a5-fe34-47ca-ca03-5f560d7e0212"
      },
      "outputs": [],
      "source": [
        "sorted_errors"
      ]
    },
    {
      "cell_type": "code",
      "execution_count": null,
      "metadata": {
        "id": "Sbt2EqLRBUln"
      },
      "outputs": [],
      "source": [
        "PT_better=[]\n",
        "PT_TW_better=[]\n",
        "equals=[]\n",
        "for i in range(57):\n",
        "  Pt_tw=sorted_errors[i]\n",
        "  Pt=PT_errs[i]\n",
        "  if Pt_tw[1]<Pt[1]:\n",
        "    PT_TW_better.append(i)\n",
        "  elif Pt_tw[1]==Pt[1]:\n",
        "    equals.append(i)\n",
        "  else:\n",
        "    PT_better.append(i)\n"
      ]
    },
    {
      "cell_type": "code",
      "execution_count": null,
      "metadata": {
        "colab": {
          "base_uri": "https://localhost:8080/"
        },
        "id": "To-JzNHxE9lR",
        "outputId": "180bcfee-205c-4b03-e283-3aafa534edc2"
      },
      "outputs": [],
      "source": [
        "PT_better"
      ]
    },
    {
      "cell_type": "code",
      "execution_count": null,
      "metadata": {
        "id": "iBpP4PGTEY37"
      },
      "outputs": [],
      "source": [
        "bf22=load_fit('/content/drive/MyDrive/Glass Lab Data/PT_TW fits/Polished_Direct/participant 22 December 27, 2023.pickle')"
      ]
    },
    {
      "cell_type": "code",
      "execution_count": null,
      "metadata": {
        "colab": {
          "base_uri": "https://localhost:8080/"
        },
        "id": "sKgnlwy9Ee63",
        "outputId": "7cd36750-6310-430c-ade7-ec02dae65e3a"
      },
      "outputs": [],
      "source": [
        "count_errorPT_TW(bf22['CB'],21)"
      ]
    },
    {
      "cell_type": "markdown",
      "metadata": {
        "id": "EOwc_O7SzHET"
      },
      "source": [
        "ALL OF THE ABOVE MUST BE CHANGED\n",
        "\n",
        "improved pt_tw\n",
        "\n",
        "participant 2 (i=1) fit=\n",
        "array([ 0.40763567, 0.43357354, 1.03015975, 0.96945102, 14.00001488])\n",
        "count error=1\n"
      ]
    },
    {
      "cell_type": "code",
      "execution_count": null,
      "metadata": {
        "id": "mC2d2cx3jPQg"
      },
      "outputs": [],
      "source": [
        "loaded_bf23_dif= load_fit('/content/drive/MyDrive/Glass Lab Data/PT_TW fits/Polished_Diffy/participant 23 January 02, 2024.pickle')\n",
        "loaded_bf23_dir=load_fit('/content/drive/MyDrive/Glass Lab Data/PT_TW fits/Polished_Direct/participant 23 January 02, 2024.pickle')\n"
      ]
    },
    {
      "cell_type": "code",
      "execution_count": null,
      "metadata": {
        "colab": {
          "base_uri": "https://localhost:8080/"
        },
        "id": "z14aO1nAjWch",
        "outputId": "c7d6dda1-b497-40a4-cc74-a1dcce4f7a3b"
      },
      "outputs": [],
      "source": [
        "loaded_bf23_dif"
      ]
    },
    {
      "cell_type": "code",
      "execution_count": null,
      "metadata": {
        "colab": {
          "base_uri": "https://localhost:8080/"
        },
        "id": "bzDY-dPzkoBw",
        "outputId": "9fd6fe5b-0998-4aa1-f714-2830c3a2693b"
      },
      "outputs": [],
      "source": [
        "count_errorPT_TW(loaded_bf23_dir['NM'],22)"
      ]
    },
    {
      "cell_type": "code",
      "execution_count": null,
      "metadata": {
        "colab": {
          "base_uri": "https://localhost:8080/"
        },
        "id": "rd2bSFDYjxmB",
        "outputId": "b3173dc0-e4ad-4f6a-8903-5f3255bd75c0"
      },
      "outputs": [],
      "source": [
        "loaded_bf23_dir"
      ]
    },
    {
      "cell_type": "code",
      "execution_count": null,
      "metadata": {
        "id": "kmtF8vL3kmju"
      },
      "outputs": [],
      "source": []
    },
    {
      "cell_type": "code",
      "execution_count": null,
      "metadata": {
        "colab": {
          "base_uri": "https://localhost:8080/"
        },
        "id": "-xXQ6AzcFc7K",
        "outputId": "d7fa6057-fec9-45e9-e7bc-bb8e1c483e67"
      },
      "outputs": [],
      "source": [
        "lowest_error=100\n",
        "best_tw=0\n",
        "for tw in range(2,68):\n",
        "  err=count_errorPT_TW([1.0 , 1, 1,.355,tw],21)\n",
        "  if err<lowest_error:\n",
        "    best_tw=tw\n",
        "    lowest_error=err\n"
      ]
    },
    {
      "cell_type": "code",
      "execution_count": null,
      "metadata": {
        "colab": {
          "base_uri": "https://localhost:8080/"
        },
        "id": "Lm8Cicg9GzEa",
        "outputId": "dccf1aae-17fc-40ec-a7bd-bb7f6c12d793"
      },
      "outputs": [],
      "source": [
        "lowest_error"
      ]
    },
    {
      "cell_type": "code",
      "execution_count": null,
      "metadata": {
        "colab": {
          "base_uri": "https://localhost:8080/"
        },
        "id": "kxeqLM6iG0t0",
        "outputId": "9f659fba-5f3c-439f-a00e-a0353024c2c3"
      },
      "outputs": [],
      "source": [
        "best_tw"
      ]
    },
    {
      "cell_type": "code",
      "execution_count": null,
      "metadata": {
        "colab": {
          "base_uri": "https://localhost:8080/"
        },
        "id": "t-K9rDpQHN4y",
        "outputId": "1b74523f-2ada-455b-d35d-40ccef5e4fab"
      },
      "outputs": [],
      "source": [
        "count_errorPT_TW([1,1,1,.35,61],21)"
      ]
    },
    {
      "cell_type": "code",
      "execution_count": null,
      "metadata": {
        "colab": {
          "base_uri": "https://localhost:8080/"
        },
        "id": "igklb_5xE_vB",
        "outputId": "770b866a-53ee-491e-d201-2efad4094625"
      },
      "outputs": [],
      "source": [
        "PT_TW_better"
      ]
    },
    {
      "cell_type": "code",
      "execution_count": null,
      "metadata": {
        "colab": {
          "base_uri": "https://localhost:8080/"
        },
        "id": "7LGrY1-PFDx5",
        "outputId": "8fa345dd-181d-44a0-b889-930f515fac31"
      },
      "outputs": [],
      "source": [
        "equals"
      ]
    }
  ],
  "metadata": {
    "colab": {
      "provenance": []
    },
    "kernelspec": {
      "display_name": "Python 3",
      "name": "python3"
    },
    "language_info": {
      "codemirror_mode": {
        "name": "ipython",
        "version": 3
      },
      "file_extension": ".py",
      "mimetype": "text/x-python",
      "name": "python",
      "nbconvert_exporter": "python",
      "pygments_lexer": "ipython3",
      "version": "3.11.5"
    }
  },
  "nbformat": 4,
  "nbformat_minor": 0
}
